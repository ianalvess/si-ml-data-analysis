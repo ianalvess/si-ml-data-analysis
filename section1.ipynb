{
 "cells": [
  {
   "cell_type": "markdown",
   "metadata": {},
   "source": [
    "# Intelligent Systems for Bioinformatics Curricular Unit\n",
    "## Group 3:\n",
    "- Christian Neitzel\n",
    "- Diana Silva\n",
    "- Ian Alves\n",
    "- Samuel Baptista"
   ]
  },
  {
   "cell_type": "markdown",
   "metadata": {},
   "source": [
    "# **Section 1:** Initial data exploration and preprocessing"
   ]
  },
  {
   "cell_type": "markdown",
   "metadata": {},
   "source": [
    "# Drug Synergy Prediction Task Overview:\n",
    "**Definition:** Synergy is a dimensionless measure of deviation of an observed drug combination response from the expected effect of non-interaction. Synergy can be calculated using different models such as the Bliss model, Highest Single Agent (HSA), Loewe additivity model and Zero Interaction Potency (ZIP). Another relevant metric is CSS which measures the drug combination sensitivity and is derived using relative IC50 values of compounds and the area under their dose- response curves.\n",
    "\n",
    "**Impact:** Drug combination therapy offers enormous potential for expanding the use of existing drugs and in improving their efficacy. For instance, the simultaneous modulation of multiple targets can address the common mechanisms of drug resistance in the treatment of cancers. However, experimentally exploring the entire space of possible drug combinations is not a feasible task. Computational models that can predict the therapeutic potential of drug combinations can thus be immensely valuable in guiding this exploration.\n",
    "\n",
    "**Generalization:** It is important for model predictions to be able to adapt to varying underlying biology as captured through different cell lines drawn from multiple tissues of origin. Dosage is also an important factor that can impact model generalizability.\n",
    "\n",
    "**Product:** Small-molecule.\n",
    "\n",
    "**Pipeline:** Activity.\n",
    "\n",
    "# Dataset: **OncoPolyPharmacology**\n",
    "\n",
    "**Dataset Description:** A large-scale oncology screen produced by Merck & Co., where each sample consists of two compounds and a cell line. The dataset covers 583 distinct combinations, each tested against 39 human cancer cell lines derived from 7 different tissue types (lung, breast, ovarian, colon, melanoma, prostate, and other/unspecified types), ensuring a wide representation of cancer biology and enabling generalization of drug synergy predictions across multiple cancer types.\n",
    "\n",
    "**Drug Pairs and Targets:** Pairwise combinations were constructed from 38 diverse anticancer drugs (14 experimental and 24 approved), targeting pathways such as DNA damage repair, cell cycle regulation, and kinase signaling. Examples of novel synergistic combinations include the Wee1 inhibitor (AZD1775) and the mTOR inhibitor (ridaforolimus), which showed potent activity in ovarian cancer models.\n",
    "\n",
    "**Synergy Scoring:** Synergy quantifies the deviation from non-interaction, with positive scores indicating synergistic effects and negative scores indicating antagonistic interactions. Most combinations exhibit additive or no effects, with true synergy being rare. The synergy score is calculated by Loewe Additivity values using the batch processing mode of Combenefit.\n",
    "\n",
    "**Experimental Design:** Drug combinations were tested using a 4x4 dose-response matrix, capturing the interactions between drugs at varying concentrations. Cell viability was measured relative to untreated controls, and synergy scores were calculated using the Loewe Additivity Model, which assumes that if two drugs act without interaction, their combined effect should match the sum of their individual effects. Deviations from this additive effect indicate synergy (positive scores) or antagonism (negative scores). Some combinations were tested exhaustively in pairwise fashion, while others followed a supplemental strategy where specific drugs were tested selectively. Synergy and antagonism were found to be relatively rare phenomena. Known synergistic pairs, like the PARP inhibitor and temozolomide, were validated, and promising combinations, like Wee1 and mTOR inhibitors, were tested in xenograft models, demonstrating significant tumor growth inhibition and prolonged survival compared to monotherapy.\n",
    "\n",
    "**Gene Expression Features:** Genomic data for cell lines was derived from untreated cell lines. The genomic features are from ArrayExpress database (accession number: E-MTAB-3610). Features were quantile normalized and summarized with Factor Analysis for Robust Microarray Summarization (FARMS) algorithm, resulting in 3,984 robust genomic descriptors.\n",
    "\n",
    "**Dataset Utility:**\n",
    "This dataset is a multimodal resource, integrating chemical descriptors (SMILES strings) and genomic data for cell lines to predict drug synergy. It addresses the experimental infeasibility of testing all potential drug combinations and offers computational researchers a valuable tool to guide drug discovery. By providing insights into context-specific drug interactions, it has the potential to improve precision medicine approaches in oncology.\n",
    "\n",
    "**Task Description:** Regression. Given the gene expression of cell lines and two SMILES strings of the drug combos, predict the drug synergy level.\n",
    "\n",
    "**Dataset Statistics:** 23,052 drug combo-cell line points, among 39 cancer cell lines and 37 drugs\n",
    "\n",
    "**Note:** The processed data is provided by DeepSynergy.\n",
    "\n",
    "# References and links:\n",
    "\n",
    "[https://tdcommons.ai/multi_pred_tasks/drugsyn](https://tdcommons.ai/multi_pred_tasks/drugsyn)\n",
    "\n",
    "[https://aacrjournals.org/mct/article/15/6/1155/92159/An-Unbiased-Oncology-Compound-Screen-to-Identify](https://aacrjournals.org/mct/article/15/6/1155/92159/An-Unbiased-Oncology-Compound-Screen-to-Identify)\n",
    "\n",
    "[1]\tJ. O’Neil et al., “An Unbiased Oncology Compound Screen to Identify Novel Combination Strategies,” Molecular Cancer Therapeutics, vol. 15, no. 6, pp. 1155–1162, Jun. 2016, doi: 10.1158/1535-7163.MCT-15-0843\n",
    "\n",
    "[https://academic.oup.com/bioinformatics/article/34/9/1538/4747884?login=false](https://academic.oup.com/bioinformatics/article/34/9/1538/4747884?login=false)\n",
    "\n",
    "[2]\tK. Preuer, R. P. I. Lewis, S. Hochreiter, A. Bender, K. C. Bulusu, and G. Klambauer, “DeepSynergy: predicting anti-cancer drug synergy with Deep Learning,” Bioinformatics, vol. 34, no. 9, pp. 1538–1546, May 2018, doi: 10.1093/bioinformatics/btx806\n",
    "\n"
   ]
  }
 ],
 "metadata": {
  "kernelspec": {
   "display_name": "si_tp",
   "language": "python",
   "name": "python3"
  },
  "language_info": {
   "name": "python",
   "version": "3.12.7"
  }
 },
 "nbformat": 4,
 "nbformat_minor": 2
}
