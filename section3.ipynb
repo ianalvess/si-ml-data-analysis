{
 "cells": [
  {
   "cell_type": "markdown",
   "metadata": {},
   "source": [
    "____\n",
    "### Notas para grupo:\n",
    "Este código presume que foi criado um ficheiro \"dataset.csv\" na secção 1, consistindo no dataset pré-processado!\n",
    "____"
   ]
  },
  {
   "cell_type": "markdown",
   "metadata": {},
   "source": [
    "# Section 3: Supervised Learning\n",
    "# 1. Dataset Splitting"
   ]
  },
  {
   "cell_type": "code",
   "execution_count": 1,
   "metadata": {},
   "outputs": [],
   "source": [
    "# Imports (colocar todos os imports aqui quando esta secção estiver finalizada)\n",
    "import pandas as pd\n",
    "import numpy as np\n",
    "from sklearn.metrics import mean_squared_error, r2_score"
   ]
  },
  {
   "cell_type": "code",
   "execution_count": 2,
   "metadata": {},
   "outputs": [
    {
     "data": {
      "text/html": [
       "<div>\n",
       "<style scoped>\n",
       "    .dataframe tbody tr th:only-of-type {\n",
       "        vertical-align: middle;\n",
       "    }\n",
       "\n",
       "    .dataframe tbody tr th {\n",
       "        vertical-align: top;\n",
       "    }\n",
       "\n",
       "    .dataframe thead th {\n",
       "        text-align: right;\n",
       "    }\n",
       "</style>\n",
       "<table border=\"1\" class=\"dataframe\">\n",
       "  <thead>\n",
       "    <tr style=\"text-align: right;\">\n",
       "      <th></th>\n",
       "      <th>Y</th>\n",
       "      <th>Parameter_0</th>\n",
       "      <th>Parameter_1</th>\n",
       "      <th>Parameter_2</th>\n",
       "      <th>Parameter_3</th>\n",
       "      <th>Parameter_4</th>\n",
       "      <th>Parameter_5</th>\n",
       "      <th>Parameter_6</th>\n",
       "      <th>Parameter_7</th>\n",
       "      <th>Parameter_8</th>\n",
       "      <th>...</th>\n",
       "      <th>MACCSKey drug2 150</th>\n",
       "      <th>MACCSKey drug2 151</th>\n",
       "      <th>MACCSKey drug2 152</th>\n",
       "      <th>MACCSKey drug2 153</th>\n",
       "      <th>MACCSKey drug2 154</th>\n",
       "      <th>MACCSKey drug2 155</th>\n",
       "      <th>MACCSKey drug2 157</th>\n",
       "      <th>MACCSKey drug2 159</th>\n",
       "      <th>MACCSKey drug2 160</th>\n",
       "      <th>MACCSKey drug2 162</th>\n",
       "    </tr>\n",
       "  </thead>\n",
       "  <tbody>\n",
       "    <tr>\n",
       "      <th>0</th>\n",
       "      <td>7.693530</td>\n",
       "      <td>5.291146</td>\n",
       "      <td>5.040387</td>\n",
       "      <td>5.291146</td>\n",
       "      <td>0.908336</td>\n",
       "      <td>2.514969</td>\n",
       "      <td>5.291146</td>\n",
       "      <td>5.291146</td>\n",
       "      <td>-1.492008</td>\n",
       "      <td>1.143195</td>\n",
       "      <td>...</td>\n",
       "      <td>0.0</td>\n",
       "      <td>1.0</td>\n",
       "      <td>0.0</td>\n",
       "      <td>1.0</td>\n",
       "      <td>1.0</td>\n",
       "      <td>0.0</td>\n",
       "      <td>0.0</td>\n",
       "      <td>0.0</td>\n",
       "      <td>1.0</td>\n",
       "      <td>1.0</td>\n",
       "    </tr>\n",
       "    <tr>\n",
       "      <th>1</th>\n",
       "      <td>7.778053</td>\n",
       "      <td>5.291146</td>\n",
       "      <td>5.040387</td>\n",
       "      <td>5.291146</td>\n",
       "      <td>0.908336</td>\n",
       "      <td>2.514969</td>\n",
       "      <td>5.291146</td>\n",
       "      <td>5.291146</td>\n",
       "      <td>-1.492008</td>\n",
       "      <td>1.143195</td>\n",
       "      <td>...</td>\n",
       "      <td>0.0</td>\n",
       "      <td>1.0</td>\n",
       "      <td>0.0</td>\n",
       "      <td>1.0</td>\n",
       "      <td>1.0</td>\n",
       "      <td>0.0</td>\n",
       "      <td>0.0</td>\n",
       "      <td>0.0</td>\n",
       "      <td>1.0</td>\n",
       "      <td>1.0</td>\n",
       "    </tr>\n",
       "    <tr>\n",
       "      <th>2</th>\n",
       "      <td>-1.198505</td>\n",
       "      <td>5.291146</td>\n",
       "      <td>5.040387</td>\n",
       "      <td>5.291146</td>\n",
       "      <td>0.908336</td>\n",
       "      <td>2.514969</td>\n",
       "      <td>5.291146</td>\n",
       "      <td>5.291146</td>\n",
       "      <td>-1.492008</td>\n",
       "      <td>1.143195</td>\n",
       "      <td>...</td>\n",
       "      <td>0.0</td>\n",
       "      <td>1.0</td>\n",
       "      <td>0.0</td>\n",
       "      <td>1.0</td>\n",
       "      <td>1.0</td>\n",
       "      <td>0.0</td>\n",
       "      <td>0.0</td>\n",
       "      <td>0.0</td>\n",
       "      <td>1.0</td>\n",
       "      <td>1.0</td>\n",
       "    </tr>\n",
       "    <tr>\n",
       "      <th>3</th>\n",
       "      <td>2.595684</td>\n",
       "      <td>5.291146</td>\n",
       "      <td>5.040387</td>\n",
       "      <td>5.291146</td>\n",
       "      <td>0.908336</td>\n",
       "      <td>2.514969</td>\n",
       "      <td>5.291146</td>\n",
       "      <td>5.291146</td>\n",
       "      <td>-1.492008</td>\n",
       "      <td>1.143195</td>\n",
       "      <td>...</td>\n",
       "      <td>0.0</td>\n",
       "      <td>1.0</td>\n",
       "      <td>0.0</td>\n",
       "      <td>1.0</td>\n",
       "      <td>1.0</td>\n",
       "      <td>0.0</td>\n",
       "      <td>0.0</td>\n",
       "      <td>0.0</td>\n",
       "      <td>1.0</td>\n",
       "      <td>1.0</td>\n",
       "    </tr>\n",
       "    <tr>\n",
       "      <th>4</th>\n",
       "      <td>-5.139971</td>\n",
       "      <td>5.291146</td>\n",
       "      <td>5.040387</td>\n",
       "      <td>5.291146</td>\n",
       "      <td>0.908336</td>\n",
       "      <td>2.514969</td>\n",
       "      <td>5.291146</td>\n",
       "      <td>5.291146</td>\n",
       "      <td>-1.492008</td>\n",
       "      <td>1.143195</td>\n",
       "      <td>...</td>\n",
       "      <td>0.0</td>\n",
       "      <td>1.0</td>\n",
       "      <td>0.0</td>\n",
       "      <td>1.0</td>\n",
       "      <td>1.0</td>\n",
       "      <td>0.0</td>\n",
       "      <td>0.0</td>\n",
       "      <td>0.0</td>\n",
       "      <td>1.0</td>\n",
       "      <td>1.0</td>\n",
       "    </tr>\n",
       "  </tbody>\n",
       "</table>\n",
       "<p>5 rows × 9635 columns</p>\n",
       "</div>"
      ],
      "text/plain": [
       "          Y  Parameter_0  Parameter_1  Parameter_2  Parameter_3  Parameter_4  \\\n",
       "0  7.693530     5.291146     5.040387     5.291146     0.908336     2.514969   \n",
       "1  7.778053     5.291146     5.040387     5.291146     0.908336     2.514969   \n",
       "2 -1.198505     5.291146     5.040387     5.291146     0.908336     2.514969   \n",
       "3  2.595684     5.291146     5.040387     5.291146     0.908336     2.514969   \n",
       "4 -5.139971     5.291146     5.040387     5.291146     0.908336     2.514969   \n",
       "\n",
       "   Parameter_5  Parameter_6  Parameter_7  Parameter_8  ...  \\\n",
       "0     5.291146     5.291146    -1.492008     1.143195  ...   \n",
       "1     5.291146     5.291146    -1.492008     1.143195  ...   \n",
       "2     5.291146     5.291146    -1.492008     1.143195  ...   \n",
       "3     5.291146     5.291146    -1.492008     1.143195  ...   \n",
       "4     5.291146     5.291146    -1.492008     1.143195  ...   \n",
       "\n",
       "   MACCSKey drug2 150  MACCSKey drug2 151  MACCSKey drug2 152  \\\n",
       "0                 0.0                 1.0                 0.0   \n",
       "1                 0.0                 1.0                 0.0   \n",
       "2                 0.0                 1.0                 0.0   \n",
       "3                 0.0                 1.0                 0.0   \n",
       "4                 0.0                 1.0                 0.0   \n",
       "\n",
       "   MACCSKey drug2 153  MACCSKey drug2 154  MACCSKey drug2 155  \\\n",
       "0                 1.0                 1.0                 0.0   \n",
       "1                 1.0                 1.0                 0.0   \n",
       "2                 1.0                 1.0                 0.0   \n",
       "3                 1.0                 1.0                 0.0   \n",
       "4                 1.0                 1.0                 0.0   \n",
       "\n",
       "   MACCSKey drug2 157  MACCSKey drug2 159  MACCSKey drug2 160  \\\n",
       "0                 0.0                 0.0                 1.0   \n",
       "1                 0.0                 0.0                 1.0   \n",
       "2                 0.0                 0.0                 1.0   \n",
       "3                 0.0                 0.0                 1.0   \n",
       "4                 0.0                 0.0                 1.0   \n",
       "\n",
       "   MACCSKey drug2 162  \n",
       "0                 1.0  \n",
       "1                 1.0  \n",
       "2                 1.0  \n",
       "3                 1.0  \n",
       "4                 1.0  \n",
       "\n",
       "[5 rows x 9635 columns]"
      ]
     },
     "execution_count": 2,
     "metadata": {},
     "output_type": "execute_result"
    }
   ],
   "source": [
    "# Read pre-processed .csv file created in section1.ipynb\n",
    "data = pd.read_csv(\"dataset.csv\")\n",
    "data.head()"
   ]
  },
  {
   "cell_type": "code",
   "execution_count": 3,
   "metadata": {},
   "outputs": [
    {
     "name": "stdout",
     "output_type": "stream",
     "text": [
      "Dataset shape: 21760 rows x 9635 columns.\n",
      "Dataset has NaNs?: False\n",
      "\n",
      "Descriptive Statistics of column 'Y':\n",
      "count    21760.000000\n",
      "mean         4.469692\n",
      "std         15.233728\n",
      "min        -36.459230\n",
      "25%         -5.206973\n",
      "50%          4.122120\n",
      "75%         13.840190\n",
      "max         45.956396\n",
      "Name: Y, dtype: float64\n"
     ]
    }
   ],
   "source": [
    "# Verifying Dataset\n",
    "print(f\"Dataset shape: {data.shape[0]} rows x {data.shape[1]} columns.\")\n",
    "print(f\"Dataset has NaNs?: {data.isnull().values.any()}\")\n",
    "print(f\"\\nDescriptive Statistics of column 'Y':\\n{data['Y'].describe()}\")"
   ]
  },
  {
   "cell_type": "code",
   "execution_count": 4,
   "metadata": {},
   "outputs": [
    {
     "name": "stdout",
     "output_type": "stream",
     "text": [
      "Dataset shape: 7181 rows x 9635 columns.\n"
     ]
    }
   ],
   "source": [
    "# O dataset preprocessado tem muitas samples, o que aumenta o tempo que demora a correr o código.\n",
    "# Este código obtém amostras aleatóriamente selecionadas para criar um dataset mais pequeno.\n",
    "# O dataset mais reduzido corresponde a 33% do dataset preprocessado original.\n",
    "\n",
    "# Obtaining a reduced version of the pre-processed dataset from randomly selected samples\n",
    "data = data.sample(frac=0.33, random_state=42) # New smaller dataset will have 33% of the samples of the original.\n",
    "\n",
    "print(f\"Dataset shape: {data.shape[0]} rows x {data.shape[1]} columns.\")"
   ]
  },
  {
   "cell_type": "code",
   "execution_count": 5,
   "metadata": {},
   "outputs": [
    {
     "name": "stdout",
     "output_type": "stream",
     "text": [
      "Training Set \t Shape of X_train: (5026, 9634) \n",
      "\t\t Shape of y_train: (5026,) \n",
      "\n",
      "Validation Set \t Shape of X_val: (718, 9634) \n",
      "\t\t Shape of y_val: (718,) \n",
      "\n",
      "Test Set \t Shape of X_test: (1437, 9634) \n",
      "\t\t Shape of y_test: (1437,)\n"
     ]
    }
   ],
   "source": [
    "# Dataset splitting (random_state=42 for reproducible results)\n",
    "from sklearn.model_selection import train_test_split\n",
    "\n",
    "X = data.drop('Y', axis=1)\n",
    "y = data['Y'] # Target column\n",
    "\n",
    "# Split the dataset into training+validation set (80%) and test set (20%)\n",
    "X_temp, X_test, y_temp, y_test = train_test_split(X, y, test_size=0.2, random_state=42) # X_temp and y_temp are temporary variables, they exist to be split into the train and validation sets.\n",
    "\n",
    "# Split the training+validation set into training set (70%) and validation set (10%)\n",
    "X_train, X_val, y_train, y_val = train_test_split(X_temp, y_temp, test_size=0.125, random_state=42) # Splitting the temp set into train and validation sets.\n",
    "\n",
    "# Checking the shape of the resulting sets\n",
    "print(f'Training Set \\t Shape of X_train: {X_train.shape} \\n\\t\\t Shape of y_train: {y_train.shape} \\n')\n",
    "print(f'Validation Set \\t Shape of X_val: {X_val.shape} \\n\\t\\t Shape of y_val: {y_val.shape} \\n')\n",
    "print(f'Test Set \\t Shape of X_test: {X_test.shape} \\n\\t\\t Shape of y_test: {y_test.shape}')"
   ]
  },
  {
   "cell_type": "markdown",
   "metadata": {},
   "source": [
    "# 2. Regression Models"
   ]
  },
  {
   "cell_type": "markdown",
   "metadata": {},
   "source": [
    "## 2.1. Ridge Regression"
   ]
  },
  {
   "cell_type": "code",
   "execution_count": 6,
   "metadata": {},
   "outputs": [
    {
     "name": "stdout",
     "output_type": "stream",
     "text": [
      "Ridge Regression Metrics:\n",
      "\n",
      "Validation MSE: 154.9345\n",
      "Validation R2: 0.2169\n",
      "\n",
      "Test MSE: 177.3285\n",
      "Test R2: 0.2577\n"
     ]
    }
   ],
   "source": [
    "from sklearn.linear_model import Ridge\n",
    "\n",
    "# Ridge Regression\n",
    "ridge_model = Ridge(alpha=1.0)  # Can tune alpha (regularization strength) later\n",
    "ridge_model.fit(X_train, y_train)\n",
    "\n",
    "# Predicting on validation and test sets\n",
    "y_val_pred = ridge_model.predict(X_val)\n",
    "y_test_pred = ridge_model.predict(X_test)\n",
    "\n",
    "# Metrics for Ridge Regression\n",
    "val_mse = mean_squared_error(y_val, y_val_pred)\n",
    "val_r2 = r2_score(y_val, y_val_pred)\n",
    "test_mse = mean_squared_error(y_test, y_test_pred)\n",
    "test_r2 = r2_score(y_test, y_test_pred)\n",
    "\n",
    "print(f\"Ridge Regression Metrics:\\n\") # Check if there are other relevant metrics\n",
    "print(f\"Validation MSE: {val_mse:.4f}\\nValidation R2: {val_r2:.4f}\\n\")\n",
    "print(f\"Test MSE: {test_mse:.4f}\\nTest R2: {test_r2:.4f}\")"
   ]
  },
  {
   "cell_type": "markdown",
   "metadata": {},
   "source": [
    "## 2.2. Support Vector Regression (SVR)\n",
    "Process may be lengthy due to the dataset's size and the hardware involved.\n",
    "\n",
    "(Célula seguinte pode demorar 20-30 minutos a completar com o dataset original, 2-5 minutos com o dataset reduzido)"
   ]
  },
  {
   "cell_type": "code",
   "execution_count": 7,
   "metadata": {},
   "outputs": [
    {
     "name": "stdout",
     "output_type": "stream",
     "text": [
      "SVR Metrics:\n",
      "\n",
      "Validation MSE: 154.2762\n",
      "Validation R2: 0.2203\n",
      "\n",
      "Test MSE: 184.1529\n",
      "Test R2: 0.2291\n"
     ]
    }
   ],
   "source": [
    "from sklearn.svm import SVR\n",
    "\n",
    "# Define the SVR model\n",
    "svr_model = SVR(kernel='rbf', C=1.0, epsilon=0.1)  # Initial hyperparameters\n",
    "\n",
    "# Fit the model on the training data\n",
    "svr_model.fit(X_train, y_train)\n",
    "\n",
    "# Predict on validation and test sets\n",
    "y_val_pred = svr_model.predict(X_val)\n",
    "y_test_pred = svr_model.predict(X_test)\n",
    "\n",
    "# Metrics for SVR\n",
    "val_mse = mean_squared_error(y_val, y_val_pred)\n",
    "val_r2 = r2_score(y_val, y_val_pred)\n",
    "test_mse = mean_squared_error(y_test, y_test_pred)\n",
    "test_r2 = r2_score(y_test, y_test_pred)\n",
    "\n",
    "print(f\"SVR Metrics:\\n\")\n",
    "print(f\"Validation MSE: {val_mse:.4f}\\nValidation R2: {val_r2:.4f}\\n\")\n",
    "print(f\"Test MSE: {test_mse:.4f}\\nTest R2: {test_r2:.4f}\")"
   ]
  },
  {
   "cell_type": "markdown",
   "metadata": {},
   "source": [
    "## 3. Hyperparameter Tuning"
   ]
  },
  {
   "cell_type": "code",
   "execution_count": null,
   "metadata": {},
   "outputs": [],
   "source": []
  }
 ],
 "metadata": {
  "kernelspec": {
   "display_name": "Python 3",
   "language": "python",
   "name": "python3"
  },
  "language_info": {
   "codemirror_mode": {
    "name": "ipython",
    "version": 3
   },
   "file_extension": ".py",
   "mimetype": "text/x-python",
   "name": "python",
   "nbconvert_exporter": "python",
   "pygments_lexer": "ipython3",
   "version": "3.12.2"
  }
 },
 "nbformat": 4,
 "nbformat_minor": 2
}
