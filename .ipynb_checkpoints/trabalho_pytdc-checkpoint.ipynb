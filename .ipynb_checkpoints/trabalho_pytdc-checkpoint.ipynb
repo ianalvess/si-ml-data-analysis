{
 "cells": [
  {
   "cell_type": "markdown",
   "id": "8a6589ca-b07e-4bf4-bde1-d26c955666ba",
   "metadata": {},
   "source": [
    "# Antibody-antigen Affinity Prediction Task\r\n",
    "\r\n",
    "**Definition:** Antibodies recognize pathogen antigens and destroy them. The activity is measured by their binding affinities. This task is to predict the affinity from the amino acid sequences of both antigen and antibodies.\r\n",
    "\r\n",
    "**Impact:** Compared to small-molecule drugs, antibodies have numerous ideal properties such as minimal adverse effect and also can bind to many \"undruggable\" targets due to different biochemical mechanisms. Besides, a reliable affinity predictor can help accelerate the antibody development processes by reducing the amount of wet-lab experiments.\r\n",
    "\r\n",
    "**Generalization:** The models are expected to extrapolate to unseen classes of antigen and antibody pairs.\r\n",
    "\r\n",
    "**Product:** Antibody, immunotherapy.\r\n",
    "\r\n",
    "**Pipeline:**\n",
    "Activity.\r\n"
   ]
  },
  {
   "cell_type": "code",
   "execution_count": 17,
   "id": "ad4d572b-5b97-4569-864e-29a97d6fcdf8",
   "metadata": {},
   "outputs": [],
   "source": [
    "import pandas as pd\n",
    "import numpy as np"
   ]
  },
  {
   "cell_type": "code",
   "execution_count": 19,
   "id": "351a15ca-ae11-44e5-8e84-29757ed36ac6",
   "metadata": {},
   "outputs": [
    {
     "name": "stderr",
     "output_type": "stream",
     "text": [
      "Found local copy...\n",
      "Loading...\n",
      "Done!\n"
     ]
    }
   ],
   "source": [
    "# Dataset Split\n",
    "from tdc.multi_pred import AntibodyAff\n",
    "data = AntibodyAff(name = 'Protein_SAbDab')\n",
    "split = data.get_split()"
   ]
  },
  {
   "cell_type": "markdown",
   "id": "27743012-4fcc-42fb-b697-3ba7b638560d",
   "metadata": {},
   "source": [
    "## 1. Initial exploration and pre-processing\n",
    "- Review all available documentation about the dataset.\n",
    "- Load the dataset and perform an exploratory analysis of it.\n",
    "- Perform the necessary steps for data preparation and preprocessing, including possibly generating features, selecting them, handling any missing values, etc.\n",
    "\n",
    "### Goals:\n",
    "- Describe and characterize the assigned data according to the available documentation/literature;\n",
    "- Describe the characteristics of the available data based on the initial exploratory analysis;\n",
    "- Describe the steps taken for data preparation and preprocessing, justifying the choices;\n",
    "- Include initial exploratory graphs that illustrate the mains characteristics of the data."
   ]
  },
  {
   "cell_type": "code",
   "execution_count": 66,
   "id": "5058f93f-c637-42fb-83eb-a993ab995cd1",
   "metadata": {},
   "outputs": [
    {
     "name": "stdout",
     "output_type": "stream",
     "text": [
      "<class 'tdc.multi_pred.antibodyaff.AntibodyAff'>\n",
      "<class 'dict'>\n",
      "dict_keys(['train', 'valid', 'test'])\n"
     ]
    }
   ],
   "source": [
    "# Checking what is data and what is split\n",
    "print(type(data))\n",
    "print(type(split))\n",
    "print(split.keys())"
   ]
  },
  {
   "cell_type": "code",
   "execution_count": 68,
   "id": "29917ab1-eb53-4fc3-bc86-9bd1da130bad",
   "metadata": {},
   "outputs": [],
   "source": [
    "# Access specific splits\n",
    "train_data = split['train'] # Training data\n",
    "val_data = split['valid']   # Validation data\n",
    "test_data = split['test']   # Test data\n",
    "\n",
    "# Convert each split into DataFrame\n",
    "df_train = pd.DataFrame(train_data) # Training dataframe\n",
    "df_val = pd.DataFrame(val_data)     # Validation dataframe\n",
    "df_test = pd.DataFrame(test_data)   # Test dataframe"
   ]
  },
  {
   "cell_type": "code",
   "execution_count": 92,
   "id": "90806769-1e8e-46df-9c21-8481370b9acb",
   "metadata": {},
   "outputs": [
    {
     "data": {
      "text/html": [
       "<div>\n",
       "<style scoped>\n",
       "    .dataframe tbody tr th:only-of-type {\n",
       "        vertical-align: middle;\n",
       "    }\n",
       "\n",
       "    .dataframe tbody tr th {\n",
       "        vertical-align: top;\n",
       "    }\n",
       "\n",
       "    .dataframe thead th {\n",
       "        text-align: right;\n",
       "    }\n",
       "</style>\n",
       "<table border=\"1\" class=\"dataframe\">\n",
       "  <thead>\n",
       "    <tr style=\"text-align: right;\">\n",
       "      <th></th>\n",
       "      <th>Antibody_ID</th>\n",
       "      <th>Antibody</th>\n",
       "      <th>Antigen_ID</th>\n",
       "      <th>Antigen</th>\n",
       "      <th>Y</th>\n",
       "    </tr>\n",
       "  </thead>\n",
       "  <tbody>\n",
       "    <tr>\n",
       "      <th>0</th>\n",
       "      <td>4i2x</td>\n",
       "      <td>['EVKLQQSGPELVKPGASVKISCKASGYSFTSYYIHWVKQRPGQG...</td>\n",
       "      <td>signal-regulatory protein gamma</td>\n",
       "      <td>EEELQMIQPEKLLLVTVGKTATLHCTVTSLLPVGPVLWFRGVGPGR...</td>\n",
       "      <td>1.200000e-06</td>\n",
       "    </tr>\n",
       "    <tr>\n",
       "      <th>1</th>\n",
       "      <td>5vyf</td>\n",
       "      <td>['EVQLVESGGGLVQPGGSLRLSCAASGFTFSSYAMSWVRQAPGKG...</td>\n",
       "      <td>chimera of major allergen i polypeptide chain ...</td>\n",
       "      <td>VKMAETCPIFYDVFFAVANGNELLLDLSLTKVAATEPERTAMKKIQ...</td>\n",
       "      <td>1.870000e-10</td>\n",
       "    </tr>\n",
       "    <tr>\n",
       "      <th>2</th>\n",
       "      <td>3eob</td>\n",
       "      <td>['EVQLVESGGGLVQPGGSLRLSCAASGYSFTGHWMNWVRQAPGKG...</td>\n",
       "      <td>integrin alpha-l</td>\n",
       "      <td>GNVDLVFLFDGSMSLQPDEFQKILDFMKDVMKKLSNTSYQFAAVQF...</td>\n",
       "      <td>2.200000e-09</td>\n",
       "    </tr>\n",
       "    <tr>\n",
       "      <th>3</th>\n",
       "      <td>2r56</td>\n",
       "      <td>['QVSLRESGGGLVQPGRSLRLSCTASGFTFRHHGMTWVRQAPGKG...</td>\n",
       "      <td>beta-lactoglobulin</td>\n",
       "      <td>LIVTQTMKGLDIQKVAGTWYSLAMAASDISLLDAQSAPLRVYVEEL...</td>\n",
       "      <td>1.300000e-09</td>\n",
       "    </tr>\n",
       "    <tr>\n",
       "      <th>4</th>\n",
       "      <td>4yhz</td>\n",
       "      <td>['EVQLVETGGGVVQPGRSLRLSCTASGFTFRDYWMSWVRQAPGKG...</td>\n",
       "      <td>h3k4me3 peptide</td>\n",
       "      <td>ARTKQTARKSTG</td>\n",
       "      <td>1.100000e-08</td>\n",
       "    </tr>\n",
       "  </tbody>\n",
       "</table>\n",
       "</div>"
      ],
      "text/plain": [
       "  Antibody_ID                                           Antibody  \\\n",
       "0        4i2x  ['EVKLQQSGPELVKPGASVKISCKASGYSFTSYYIHWVKQRPGQG...   \n",
       "1        5vyf  ['EVQLVESGGGLVQPGGSLRLSCAASGFTFSSYAMSWVRQAPGKG...   \n",
       "2        3eob  ['EVQLVESGGGLVQPGGSLRLSCAASGYSFTGHWMNWVRQAPGKG...   \n",
       "3        2r56  ['QVSLRESGGGLVQPGRSLRLSCTASGFTFRHHGMTWVRQAPGKG...   \n",
       "4        4yhz  ['EVQLVETGGGVVQPGRSLRLSCTASGFTFRDYWMSWVRQAPGKG...   \n",
       "\n",
       "                                          Antigen_ID  \\\n",
       "0                    signal-regulatory protein gamma   \n",
       "1  chimera of major allergen i polypeptide chain ...   \n",
       "2                                   integrin alpha-l   \n",
       "3                                 beta-lactoglobulin   \n",
       "4                                    h3k4me3 peptide   \n",
       "\n",
       "                                             Antigen             Y  \n",
       "0  EEELQMIQPEKLLLVTVGKTATLHCTVTSLLPVGPVLWFRGVGPGR...  1.200000e-06  \n",
       "1  VKMAETCPIFYDVFFAVANGNELLLDLSLTKVAATEPERTAMKKIQ...  1.870000e-10  \n",
       "2  GNVDLVFLFDGSMSLQPDEFQKILDFMKDVMKKLSNTSYQFAAVQF...  2.200000e-09  \n",
       "3  LIVTQTMKGLDIQKVAGTWYSLAMAASDISLLDAQSAPLRVYVEEL...  1.300000e-09  \n",
       "4                                       ARTKQTARKSTG  1.100000e-08  "
      ]
     },
     "execution_count": 92,
     "metadata": {},
     "output_type": "execute_result"
    }
   ],
   "source": [
    "df_train.head()"
   ]
  },
  {
   "cell_type": "code",
   "execution_count": 94,
   "id": "48b11dbe-2bef-4d71-abeb-80c26ff2f635",
   "metadata": {},
   "outputs": [
    {
     "data": {
      "text/html": [
       "<div>\n",
       "<style scoped>\n",
       "    .dataframe tbody tr th:only-of-type {\n",
       "        vertical-align: middle;\n",
       "    }\n",
       "\n",
       "    .dataframe tbody tr th {\n",
       "        vertical-align: top;\n",
       "    }\n",
       "\n",
       "    .dataframe thead th {\n",
       "        text-align: right;\n",
       "    }\n",
       "</style>\n",
       "<table border=\"1\" class=\"dataframe\">\n",
       "  <thead>\n",
       "    <tr style=\"text-align: right;\">\n",
       "      <th></th>\n",
       "      <th>Y</th>\n",
       "    </tr>\n",
       "  </thead>\n",
       "  <tbody>\n",
       "    <tr>\n",
       "      <th>count</th>\n",
       "      <td>3.450000e+02</td>\n",
       "    </tr>\n",
       "    <tr>\n",
       "      <th>mean</th>\n",
       "      <td>1.330135e-06</td>\n",
       "    </tr>\n",
       "    <tr>\n",
       "      <th>std</th>\n",
       "      <td>1.209138e-05</td>\n",
       "    </tr>\n",
       "    <tr>\n",
       "      <th>min</th>\n",
       "      <td>4.000000e-13</td>\n",
       "    </tr>\n",
       "    <tr>\n",
       "      <th>25%</th>\n",
       "      <td>7.900000e-10</td>\n",
       "    </tr>\n",
       "    <tr>\n",
       "      <th>50%</th>\n",
       "      <td>7.800000e-09</td>\n",
       "    </tr>\n",
       "    <tr>\n",
       "      <th>75%</th>\n",
       "      <td>6.900000e-08</td>\n",
       "    </tr>\n",
       "    <tr>\n",
       "      <th>max</th>\n",
       "      <td>2.000000e-04</td>\n",
       "    </tr>\n",
       "  </tbody>\n",
       "</table>\n",
       "</div>"
      ],
      "text/plain": [
       "                  Y\n",
       "count  3.450000e+02\n",
       "mean   1.330135e-06\n",
       "std    1.209138e-05\n",
       "min    4.000000e-13\n",
       "25%    7.900000e-10\n",
       "50%    7.800000e-09\n",
       "75%    6.900000e-08\n",
       "max    2.000000e-04"
      ]
     },
     "execution_count": 94,
     "metadata": {},
     "output_type": "execute_result"
    }
   ],
   "source": [
    "df_train.describe()"
   ]
  },
  {
   "cell_type": "code",
   "execution_count": 96,
   "id": "7c85ddec-2e9d-4af0-9b1e-3dc191f8b8a6",
   "metadata": {},
   "outputs": [
    {
     "name": "stdout",
     "output_type": "stream",
     "text": [
      "Index(['Antibody_ID', 'Antibody', 'Antigen_ID', 'Antigen', 'Y'], dtype='object')\n",
      "(345, 5)\n",
      "1725 \n",
      "\n",
      "Index(['Antibody_ID', 'Antibody', 'Antigen_ID', 'Antigen', 'Y'], dtype='object')\n",
      "(49, 5)\n",
      "245 \n",
      "\n",
      "Index(['Antibody_ID', 'Antibody', 'Antigen_ID', 'Antigen', 'Y'], dtype='object')\n",
      "(99, 5)\n",
      "495\n"
     ]
    }
   ],
   "source": [
    "print(df_train.columns)\n",
    "print(df_train.shape)\n",
    "print(df_train.size, \"\\n\")\n",
    "\n",
    "print(df_val.columns)\n",
    "print(df_val.shape)\n",
    "print(df_val.size, \"\\n\")\n",
    "\n",
    "print(df_test.columns)\n",
    "print(df_test.shape)\n",
    "print(df_test.size)"
   ]
  },
  {
   "cell_type": "code",
   "execution_count": null,
   "id": "9b70eea2-5977-4248-9738-78f6393e420f",
   "metadata": {},
   "outputs": [],
   "source": []
  },
  {
   "cell_type": "markdown",
   "id": "78ec22c1-b4bb-4741-9c3c-ba19b696a0a7",
   "metadata": {},
   "source": [
    "## 2. Unsupervised Analysis\n",
    "- Use dimensionality reduction and visualization techniques appropriate for the data;\n",
    "- Apply clustering methods that considered suitable for the data.\n",
    "\n",
    "### Goals:\n",
    "- Report/analyze the results obtained from dimensionality reduction and data visualization techniques;\n",
    "- Report/analyze the results obtained from the clustering algorithms."
   ]
  },
  {
   "cell_type": "code",
   "execution_count": null,
   "id": "6e8f1c35-f4e4-42f5-ae32-3db6f5c21319",
   "metadata": {},
   "outputs": [],
   "source": []
  },
  {
   "cell_type": "code",
   "execution_count": null,
   "id": "09850076-71d9-43a1-86e9-76dbf9d744f6",
   "metadata": {},
   "outputs": [],
   "source": []
  },
  {
   "cell_type": "markdown",
   "id": "e27090f7-cb83-480d-8431-e1f34b1002f8",
   "metadata": {},
   "source": [
    "## 3. Machine Learning\n",
    "- Compare the performance of various Machine Learning models/algorithms on the dataset.\n",
    "\n",
    "### Goals:\n",
    "- Analyze the performance of the algorithms by calculating appropriate error metrics and using suitable error estimation methods;\n",
    "- Present the best achievable model for the available data, using all examples, and interpret it where possible."
   ]
  },
  {
   "cell_type": "code",
   "execution_count": null,
   "id": "0d77713b-2786-4988-996f-1a60f4cb907e",
   "metadata": {},
   "outputs": [],
   "source": []
  },
  {
   "cell_type": "code",
   "execution_count": null,
   "id": "8b132484-c758-447a-8622-aabe42df0ca6",
   "metadata": {},
   "outputs": [],
   "source": []
  },
  {
   "cell_type": "markdown",
   "id": "913c9412-4a3c-4e6d-958a-eb056ce8ce08",
   "metadata": {},
   "source": [
    "## 4. Deep Learning\n",
    "- Use Deep Learning methods in a similar manner to **Step 3**, comparing the results with the methods presented in that step."
   ]
  },
  {
   "cell_type": "code",
   "execution_count": null,
   "id": "cb9756c3-ef51-466e-86b3-eaf16af9c198",
   "metadata": {},
   "outputs": [],
   "source": []
  },
  {
   "cell_type": "code",
   "execution_count": null,
   "id": "728f6b86-e36f-4aaa-854e-970e2b70a4d1",
   "metadata": {},
   "outputs": [],
   "source": []
  }
 ],
 "metadata": {
  "kernelspec": {
   "display_name": "Python 3 (ipykernel)",
   "language": "python",
   "name": "python3"
  },
  "language_info": {
   "codemirror_mode": {
    "name": "ipython",
    "version": 3
   },
   "file_extension": ".py",
   "mimetype": "text/x-python",
   "name": "python",
   "nbconvert_exporter": "python",
   "pygments_lexer": "ipython3",
   "version": "3.12.3"
  }
 },
 "nbformat": 4,
 "nbformat_minor": 5
}
