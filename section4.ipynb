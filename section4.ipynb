{
  "cells": [
    {
      "cell_type": "markdown",
      "metadata": {},
      "source": [
        "# Section 4 - Supervised Learning: Deep Learning"
      ]
    },
    {
      "cell_type": "markdown",
      "metadata": {},
      "source": [
        "## Imports"
      ]
    },
    {
      "cell_type": "code",
      "execution_count": 1,
      "metadata": {
        "id": "9Nbseq2tJ0NL"
      },
      "outputs": [],
      "source": [
        "import warnings\n",
        "warnings.filterwarnings(\"ignore\") # to ignore long warning messages\n",
        "\n",
        "import pandas as pd\n",
        "import numpy as np\n",
        "import matplotlib.pyplot as plt\n",
        "import tensorflow as tf\n",
        "from tensorflow.keras.preprocessing.text import Tokenizer\n",
        "from tensorflow.keras.preprocessing.sequence import pad_sequences\n",
        "from tensorflow.keras.models import Model\n",
        "from tensorflow.keras.layers import Input, Embedding, LSTM, Conv1D, GlobalMaxPooling1D, Dense, Concatenate, Dropout\n",
        "from tensorflow.keras.optimizers import Adam\n",
        "from tensorflow.keras.callbacks import EarlyStopping, ModelCheckpoint\n",
        "import keras\n",
        "import pickle"
      ]
    },
    {
      "cell_type": "markdown",
      "metadata": {},
      "source": [
        "## Load the data"
      ]
    },
    {
      "cell_type": "code",
      "execution_count": 2,
      "metadata": {},
      "outputs": [
        {
          "name": "stdout",
          "output_type": "stream",
          "text": [
            "(18442, 8780)\n"
          ]
        },
        {
          "data": {
            "text/html": [
              "<div>\n",
              "<style scoped>\n",
              "    .dataframe tbody tr th:only-of-type {\n",
              "        vertical-align: middle;\n",
              "    }\n",
              "\n",
              "    .dataframe tbody tr th {\n",
              "        vertical-align: top;\n",
              "    }\n",
              "\n",
              "    .dataframe thead th {\n",
              "        text-align: right;\n",
              "    }\n",
              "</style>\n",
              "<table border=\"1\" class=\"dataframe\">\n",
              "  <thead>\n",
              "    <tr style=\"text-align: right;\">\n",
              "      <th></th>\n",
              "      <th>Drug1_Standardized</th>\n",
              "      <th>Drug2_Standardized</th>\n",
              "      <th>Genomic_0</th>\n",
              "      <th>Genomic_1</th>\n",
              "      <th>Genomic_2</th>\n",
              "      <th>Genomic_3</th>\n",
              "      <th>Genomic_4</th>\n",
              "      <th>Genomic_5</th>\n",
              "      <th>Genomic_6</th>\n",
              "      <th>Genomic_7</th>\n",
              "      <th>...</th>\n",
              "      <th>Genomic_8776</th>\n",
              "      <th>Genomic_8777</th>\n",
              "      <th>Genomic_8778</th>\n",
              "      <th>Genomic_8779</th>\n",
              "      <th>Genomic_8780</th>\n",
              "      <th>Genomic_8781</th>\n",
              "      <th>Genomic_8782</th>\n",
              "      <th>Genomic_8783</th>\n",
              "      <th>Genomic_8784</th>\n",
              "      <th>Y</th>\n",
              "    </tr>\n",
              "  </thead>\n",
              "  <tbody>\n",
              "    <tr>\n",
              "      <th>0</th>\n",
              "      <td>O=c1[nH]cc(F)c(=O)[nH]1</td>\n",
              "      <td>CC1(c2nc3c(C(N)=O)cccc3[nH]2)CCCN1</td>\n",
              "      <td>5.269788</td>\n",
              "      <td>5.034453</td>\n",
              "      <td>5.269788</td>\n",
              "      <td>0.90597</td>\n",
              "      <td>2.510154</td>\n",
              "      <td>5.269788</td>\n",
              "      <td>5.269788</td>\n",
              "      <td>-1.493994</td>\n",
              "      <td>...</td>\n",
              "      <td>0.434777</td>\n",
              "      <td>-0.708097</td>\n",
              "      <td>-0.799171</td>\n",
              "      <td>0.493310</td>\n",
              "      <td>-0.238066</td>\n",
              "      <td>1.277929</td>\n",
              "      <td>0.692556</td>\n",
              "      <td>-0.986860</td>\n",
              "      <td>-0.364915</td>\n",
              "      <td>7.693530</td>\n",
              "    </tr>\n",
              "    <tr>\n",
              "      <th>1</th>\n",
              "      <td>O=c1[nH]cc(F)c(=O)[nH]1</td>\n",
              "      <td>CC1(c2nc3c(C(N)=O)cccc3[nH]2)CCCN1</td>\n",
              "      <td>5.269788</td>\n",
              "      <td>5.034453</td>\n",
              "      <td>5.269788</td>\n",
              "      <td>0.90597</td>\n",
              "      <td>2.510154</td>\n",
              "      <td>5.269788</td>\n",
              "      <td>5.269788</td>\n",
              "      <td>-1.493994</td>\n",
              "      <td>...</td>\n",
              "      <td>0.870316</td>\n",
              "      <td>-0.551325</td>\n",
              "      <td>1.181514</td>\n",
              "      <td>0.945715</td>\n",
              "      <td>0.396515</td>\n",
              "      <td>1.239489</td>\n",
              "      <td>1.139748</td>\n",
              "      <td>-1.074747</td>\n",
              "      <td>-0.425887</td>\n",
              "      <td>7.778053</td>\n",
              "    </tr>\n",
              "    <tr>\n",
              "      <th>2</th>\n",
              "      <td>O=c1[nH]cc(F)c(=O)[nH]1</td>\n",
              "      <td>CC1(c2nc3c(C(N)=O)cccc3[nH]2)CCCN1</td>\n",
              "      <td>5.269788</td>\n",
              "      <td>5.034453</td>\n",
              "      <td>5.269788</td>\n",
              "      <td>0.90597</td>\n",
              "      <td>2.510154</td>\n",
              "      <td>5.269788</td>\n",
              "      <td>5.269788</td>\n",
              "      <td>-1.493994</td>\n",
              "      <td>...</td>\n",
              "      <td>-0.494245</td>\n",
              "      <td>-0.641496</td>\n",
              "      <td>-0.349373</td>\n",
              "      <td>-0.035854</td>\n",
              "      <td>-1.268299</td>\n",
              "      <td>-0.276589</td>\n",
              "      <td>-0.421947</td>\n",
              "      <td>-1.069653</td>\n",
              "      <td>-1.004115</td>\n",
              "      <td>-1.198505</td>\n",
              "    </tr>\n",
              "    <tr>\n",
              "      <th>3</th>\n",
              "      <td>O=c1[nH]cc(F)c(=O)[nH]1</td>\n",
              "      <td>CC1(c2nc3c(C(N)=O)cccc3[nH]2)CCCN1</td>\n",
              "      <td>5.269788</td>\n",
              "      <td>5.034453</td>\n",
              "      <td>5.269788</td>\n",
              "      <td>0.90597</td>\n",
              "      <td>2.510154</td>\n",
              "      <td>5.269788</td>\n",
              "      <td>5.269788</td>\n",
              "      <td>-1.493994</td>\n",
              "      <td>...</td>\n",
              "      <td>-2.382096</td>\n",
              "      <td>0.064357</td>\n",
              "      <td>-0.585589</td>\n",
              "      <td>-2.237517</td>\n",
              "      <td>-1.288513</td>\n",
              "      <td>-1.647860</td>\n",
              "      <td>-1.703751</td>\n",
              "      <td>-0.718126</td>\n",
              "      <td>0.636893</td>\n",
              "      <td>-5.139971</td>\n",
              "    </tr>\n",
              "    <tr>\n",
              "      <th>4</th>\n",
              "      <td>O=c1[nH]cc(F)c(=O)[nH]1</td>\n",
              "      <td>CC1(c2nc3c(C(N)=O)cccc3[nH]2)CCCN1</td>\n",
              "      <td>5.269788</td>\n",
              "      <td>5.034453</td>\n",
              "      <td>5.269788</td>\n",
              "      <td>0.90597</td>\n",
              "      <td>2.510154</td>\n",
              "      <td>5.269788</td>\n",
              "      <td>5.269788</td>\n",
              "      <td>-1.493994</td>\n",
              "      <td>...</td>\n",
              "      <td>0.475517</td>\n",
              "      <td>2.008599</td>\n",
              "      <td>-0.213207</td>\n",
              "      <td>0.804718</td>\n",
              "      <td>-0.925362</td>\n",
              "      <td>0.575502</td>\n",
              "      <td>-0.350169</td>\n",
              "      <td>-1.020324</td>\n",
              "      <td>-0.867545</td>\n",
              "      <td>4.175936</td>\n",
              "    </tr>\n",
              "  </tbody>\n",
              "</table>\n",
              "<p>5 rows × 8780 columns</p>\n",
              "</div>"
            ],
            "text/plain": [
              "        Drug1_Standardized                  Drug2_Standardized  Genomic_0  \\\n",
              "0  O=c1[nH]cc(F)c(=O)[nH]1  CC1(c2nc3c(C(N)=O)cccc3[nH]2)CCCN1   5.269788   \n",
              "1  O=c1[nH]cc(F)c(=O)[nH]1  CC1(c2nc3c(C(N)=O)cccc3[nH]2)CCCN1   5.269788   \n",
              "2  O=c1[nH]cc(F)c(=O)[nH]1  CC1(c2nc3c(C(N)=O)cccc3[nH]2)CCCN1   5.269788   \n",
              "3  O=c1[nH]cc(F)c(=O)[nH]1  CC1(c2nc3c(C(N)=O)cccc3[nH]2)CCCN1   5.269788   \n",
              "4  O=c1[nH]cc(F)c(=O)[nH]1  CC1(c2nc3c(C(N)=O)cccc3[nH]2)CCCN1   5.269788   \n",
              "\n",
              "   Genomic_1  Genomic_2  Genomic_3  Genomic_4  Genomic_5  Genomic_6  \\\n",
              "0   5.034453   5.269788    0.90597   2.510154   5.269788   5.269788   \n",
              "1   5.034453   5.269788    0.90597   2.510154   5.269788   5.269788   \n",
              "2   5.034453   5.269788    0.90597   2.510154   5.269788   5.269788   \n",
              "3   5.034453   5.269788    0.90597   2.510154   5.269788   5.269788   \n",
              "4   5.034453   5.269788    0.90597   2.510154   5.269788   5.269788   \n",
              "\n",
              "   Genomic_7  ...  Genomic_8776  Genomic_8777  Genomic_8778  Genomic_8779  \\\n",
              "0  -1.493994  ...      0.434777     -0.708097     -0.799171      0.493310   \n",
              "1  -1.493994  ...      0.870316     -0.551325      1.181514      0.945715   \n",
              "2  -1.493994  ...     -0.494245     -0.641496     -0.349373     -0.035854   \n",
              "3  -1.493994  ...     -2.382096      0.064357     -0.585589     -2.237517   \n",
              "4  -1.493994  ...      0.475517      2.008599     -0.213207      0.804718   \n",
              "\n",
              "   Genomic_8780  Genomic_8781  Genomic_8782  Genomic_8783  Genomic_8784  \\\n",
              "0     -0.238066      1.277929      0.692556     -0.986860     -0.364915   \n",
              "1      0.396515      1.239489      1.139748     -1.074747     -0.425887   \n",
              "2     -1.268299     -0.276589     -0.421947     -1.069653     -1.004115   \n",
              "3     -1.288513     -1.647860     -1.703751     -0.718126      0.636893   \n",
              "4     -0.925362      0.575502     -0.350169     -1.020324     -0.867545   \n",
              "\n",
              "          Y  \n",
              "0  7.693530  \n",
              "1  7.778053  \n",
              "2 -1.198505  \n",
              "3 -5.139971  \n",
              "4  4.175936  \n",
              "\n",
              "[5 rows x 8780 columns]"
            ]
          },
          "execution_count": 2,
          "metadata": {},
          "output_type": "execute_result"
        }
      ],
      "source": [
        "# load with pandas\n",
        "train_dataset = pd.read_csv('data/DL_train_dataset.csv')\n",
        "# print the shape of the data (number of rows and columns)\n",
        "print(train_dataset.shape)\n",
        "# print the first 5 rows of the data\n",
        "train_dataset.head()"
      ]
    },
    {
      "cell_type": "code",
      "execution_count": 3,
      "metadata": {},
      "outputs": [
        {
          "name": "stdout",
          "output_type": "stream",
          "text": [
            "(18442, 8777)\n"
          ]
        },
        {
          "data": {
            "text/html": [
              "<div>\n",
              "<style scoped>\n",
              "    .dataframe tbody tr th:only-of-type {\n",
              "        vertical-align: middle;\n",
              "    }\n",
              "\n",
              "    .dataframe tbody tr th {\n",
              "        vertical-align: top;\n",
              "    }\n",
              "\n",
              "    .dataframe thead th {\n",
              "        text-align: right;\n",
              "    }\n",
              "</style>\n",
              "<table border=\"1\" class=\"dataframe\">\n",
              "  <thead>\n",
              "    <tr style=\"text-align: right;\">\n",
              "      <th></th>\n",
              "      <th>Genomic_0</th>\n",
              "      <th>Genomic_1</th>\n",
              "      <th>Genomic_2</th>\n",
              "      <th>Genomic_3</th>\n",
              "      <th>Genomic_4</th>\n",
              "      <th>Genomic_5</th>\n",
              "      <th>Genomic_6</th>\n",
              "      <th>Genomic_7</th>\n",
              "      <th>Genomic_8</th>\n",
              "      <th>Genomic_9</th>\n",
              "      <th>...</th>\n",
              "      <th>Genomic_8775</th>\n",
              "      <th>Genomic_8776</th>\n",
              "      <th>Genomic_8777</th>\n",
              "      <th>Genomic_8778</th>\n",
              "      <th>Genomic_8779</th>\n",
              "      <th>Genomic_8780</th>\n",
              "      <th>Genomic_8781</th>\n",
              "      <th>Genomic_8782</th>\n",
              "      <th>Genomic_8783</th>\n",
              "      <th>Genomic_8784</th>\n",
              "    </tr>\n",
              "  </thead>\n",
              "  <tbody>\n",
              "    <tr>\n",
              "      <th>0</th>\n",
              "      <td>5.269788</td>\n",
              "      <td>5.034453</td>\n",
              "      <td>5.269788</td>\n",
              "      <td>0.90597</td>\n",
              "      <td>2.510154</td>\n",
              "      <td>5.269788</td>\n",
              "      <td>5.269788</td>\n",
              "      <td>-1.493994</td>\n",
              "      <td>1.140595</td>\n",
              "      <td>-0.89096</td>\n",
              "      <td>...</td>\n",
              "      <td>0.933798</td>\n",
              "      <td>0.434777</td>\n",
              "      <td>-0.708097</td>\n",
              "      <td>-0.799171</td>\n",
              "      <td>0.493310</td>\n",
              "      <td>-0.238066</td>\n",
              "      <td>1.277929</td>\n",
              "      <td>0.692556</td>\n",
              "      <td>-0.986860</td>\n",
              "      <td>-0.364915</td>\n",
              "    </tr>\n",
              "    <tr>\n",
              "      <th>1</th>\n",
              "      <td>5.269788</td>\n",
              "      <td>5.034453</td>\n",
              "      <td>5.269788</td>\n",
              "      <td>0.90597</td>\n",
              "      <td>2.510154</td>\n",
              "      <td>5.269788</td>\n",
              "      <td>5.269788</td>\n",
              "      <td>-1.493994</td>\n",
              "      <td>1.140595</td>\n",
              "      <td>-0.89096</td>\n",
              "      <td>...</td>\n",
              "      <td>0.452877</td>\n",
              "      <td>0.870316</td>\n",
              "      <td>-0.551325</td>\n",
              "      <td>1.181514</td>\n",
              "      <td>0.945715</td>\n",
              "      <td>0.396515</td>\n",
              "      <td>1.239489</td>\n",
              "      <td>1.139748</td>\n",
              "      <td>-1.074747</td>\n",
              "      <td>-0.425887</td>\n",
              "    </tr>\n",
              "    <tr>\n",
              "      <th>2</th>\n",
              "      <td>5.269788</td>\n",
              "      <td>5.034453</td>\n",
              "      <td>5.269788</td>\n",
              "      <td>0.90597</td>\n",
              "      <td>2.510154</td>\n",
              "      <td>5.269788</td>\n",
              "      <td>5.269788</td>\n",
              "      <td>-1.493994</td>\n",
              "      <td>1.140595</td>\n",
              "      <td>-0.89096</td>\n",
              "      <td>...</td>\n",
              "      <td>-0.367603</td>\n",
              "      <td>-0.494245</td>\n",
              "      <td>-0.641496</td>\n",
              "      <td>-0.349373</td>\n",
              "      <td>-0.035854</td>\n",
              "      <td>-1.268299</td>\n",
              "      <td>-0.276589</td>\n",
              "      <td>-0.421947</td>\n",
              "      <td>-1.069653</td>\n",
              "      <td>-1.004115</td>\n",
              "    </tr>\n",
              "    <tr>\n",
              "      <th>3</th>\n",
              "      <td>5.269788</td>\n",
              "      <td>5.034453</td>\n",
              "      <td>5.269788</td>\n",
              "      <td>0.90597</td>\n",
              "      <td>2.510154</td>\n",
              "      <td>5.269788</td>\n",
              "      <td>5.269788</td>\n",
              "      <td>-1.493994</td>\n",
              "      <td>1.140595</td>\n",
              "      <td>-0.89096</td>\n",
              "      <td>...</td>\n",
              "      <td>-1.855299</td>\n",
              "      <td>-2.382096</td>\n",
              "      <td>0.064357</td>\n",
              "      <td>-0.585589</td>\n",
              "      <td>-2.237517</td>\n",
              "      <td>-1.288513</td>\n",
              "      <td>-1.647860</td>\n",
              "      <td>-1.703751</td>\n",
              "      <td>-0.718126</td>\n",
              "      <td>0.636893</td>\n",
              "    </tr>\n",
              "    <tr>\n",
              "      <th>4</th>\n",
              "      <td>5.269788</td>\n",
              "      <td>5.034453</td>\n",
              "      <td>5.269788</td>\n",
              "      <td>0.90597</td>\n",
              "      <td>2.510154</td>\n",
              "      <td>5.269788</td>\n",
              "      <td>5.269788</td>\n",
              "      <td>-1.493994</td>\n",
              "      <td>1.140595</td>\n",
              "      <td>-0.89096</td>\n",
              "      <td>...</td>\n",
              "      <td>-0.744059</td>\n",
              "      <td>0.475517</td>\n",
              "      <td>2.008599</td>\n",
              "      <td>-0.213207</td>\n",
              "      <td>0.804718</td>\n",
              "      <td>-0.925362</td>\n",
              "      <td>0.575502</td>\n",
              "      <td>-0.350169</td>\n",
              "      <td>-1.020324</td>\n",
              "      <td>-0.867545</td>\n",
              "    </tr>\n",
              "  </tbody>\n",
              "</table>\n",
              "<p>5 rows × 8777 columns</p>\n",
              "</div>"
            ],
            "text/plain": [
              "   Genomic_0  Genomic_1  Genomic_2  Genomic_3  Genomic_4  Genomic_5  \\\n",
              "0   5.269788   5.034453   5.269788    0.90597   2.510154   5.269788   \n",
              "1   5.269788   5.034453   5.269788    0.90597   2.510154   5.269788   \n",
              "2   5.269788   5.034453   5.269788    0.90597   2.510154   5.269788   \n",
              "3   5.269788   5.034453   5.269788    0.90597   2.510154   5.269788   \n",
              "4   5.269788   5.034453   5.269788    0.90597   2.510154   5.269788   \n",
              "\n",
              "   Genomic_6  Genomic_7  Genomic_8  Genomic_9  ...  Genomic_8775  \\\n",
              "0   5.269788  -1.493994   1.140595   -0.89096  ...      0.933798   \n",
              "1   5.269788  -1.493994   1.140595   -0.89096  ...      0.452877   \n",
              "2   5.269788  -1.493994   1.140595   -0.89096  ...     -0.367603   \n",
              "3   5.269788  -1.493994   1.140595   -0.89096  ...     -1.855299   \n",
              "4   5.269788  -1.493994   1.140595   -0.89096  ...     -0.744059   \n",
              "\n",
              "   Genomic_8776  Genomic_8777  Genomic_8778  Genomic_8779  Genomic_8780  \\\n",
              "0      0.434777     -0.708097     -0.799171      0.493310     -0.238066   \n",
              "1      0.870316     -0.551325      1.181514      0.945715      0.396515   \n",
              "2     -0.494245     -0.641496     -0.349373     -0.035854     -1.268299   \n",
              "3     -2.382096      0.064357     -0.585589     -2.237517     -1.288513   \n",
              "4      0.475517      2.008599     -0.213207      0.804718     -0.925362   \n",
              "\n",
              "   Genomic_8781  Genomic_8782  Genomic_8783  Genomic_8784  \n",
              "0      1.277929      0.692556     -0.986860     -0.364915  \n",
              "1      1.239489      1.139748     -1.074747     -0.425887  \n",
              "2     -0.276589     -0.421947     -1.069653     -1.004115  \n",
              "3     -1.647860     -1.703751     -0.718126      0.636893  \n",
              "4      0.575502     -0.350169     -1.020324     -0.867545  \n",
              "\n",
              "[5 rows x 8777 columns]"
            ]
          },
          "execution_count": 3,
          "metadata": {},
          "output_type": "execute_result"
        }
      ],
      "source": [
        "# get genomic features train data\n",
        "genomic_features_train = train_dataset.drop(['Drug1_Standardized', 'Drug2_Standardized', 'Y'], axis=1)\n",
        "print(genomic_features_train.shape)\n",
        "genomic_features_train.head()"
      ]
    },
    {
      "cell_type": "code",
      "execution_count": 4,
      "metadata": {},
      "outputs": [],
      "source": [
        "# get genomic features train data size\n",
        "genomic_features_size = genomic_features_train.shape[1]"
      ]
    },
    {
      "cell_type": "code",
      "execution_count": 5,
      "metadata": {},
      "outputs": [
        {
          "name": "stdout",
          "output_type": "stream",
          "text": [
            "(4610, 8780)\n"
          ]
        },
        {
          "data": {
            "text/html": [
              "<div>\n",
              "<style scoped>\n",
              "    .dataframe tbody tr th:only-of-type {\n",
              "        vertical-align: middle;\n",
              "    }\n",
              "\n",
              "    .dataframe tbody tr th {\n",
              "        vertical-align: top;\n",
              "    }\n",
              "\n",
              "    .dataframe thead th {\n",
              "        text-align: right;\n",
              "    }\n",
              "</style>\n",
              "<table border=\"1\" class=\"dataframe\">\n",
              "  <thead>\n",
              "    <tr style=\"text-align: right;\">\n",
              "      <th></th>\n",
              "      <th>Drug1_Standardized</th>\n",
              "      <th>Drug2_Standardized</th>\n",
              "      <th>Genomic_0</th>\n",
              "      <th>Genomic_1</th>\n",
              "      <th>Genomic_2</th>\n",
              "      <th>Genomic_3</th>\n",
              "      <th>Genomic_4</th>\n",
              "      <th>Genomic_5</th>\n",
              "      <th>Genomic_6</th>\n",
              "      <th>Genomic_7</th>\n",
              "      <th>...</th>\n",
              "      <th>Genomic_8776</th>\n",
              "      <th>Genomic_8777</th>\n",
              "      <th>Genomic_8778</th>\n",
              "      <th>Genomic_8779</th>\n",
              "      <th>Genomic_8780</th>\n",
              "      <th>Genomic_8781</th>\n",
              "      <th>Genomic_8782</th>\n",
              "      <th>Genomic_8783</th>\n",
              "      <th>Genomic_8784</th>\n",
              "      <th>Y</th>\n",
              "    </tr>\n",
              "  </thead>\n",
              "  <tbody>\n",
              "    <tr>\n",
              "      <th>0</th>\n",
              "      <td>O=P1(N(CCCl)CCCl)NCCCO1</td>\n",
              "      <td>NC(=O)c1cccc2cn(-c3ccc(C4CCCNC4)cc3)nc12</td>\n",
              "      <td>-0.189761</td>\n",
              "      <td>-0.198631</td>\n",
              "      <td>-0.189761</td>\n",
              "      <td>-0.960891</td>\n",
              "      <td>-0.398382</td>\n",
              "      <td>-0.189761</td>\n",
              "      <td>-0.189761</td>\n",
              "      <td>-1.395685</td>\n",
              "      <td>...</td>\n",
              "      <td>0.983524</td>\n",
              "      <td>-0.676135</td>\n",
              "      <td>-0.735852</td>\n",
              "      <td>-0.134726</td>\n",
              "      <td>-0.273893</td>\n",
              "      <td>-0.691539</td>\n",
              "      <td>1.226842</td>\n",
              "      <td>1.300643</td>\n",
              "      <td>1.716953</td>\n",
              "      <td>-66.134218</td>\n",
              "    </tr>\n",
              "    <tr>\n",
              "      <th>1</th>\n",
              "      <td>O=C(CCCCCCC(=O)Nc1ccccc1)NO</td>\n",
              "      <td>NC(=O)c1cccc2cn(-c3ccc(C4CCCNC4)cc3)nc12</td>\n",
              "      <td>-0.189761</td>\n",
              "      <td>-0.198631</td>\n",
              "      <td>-0.189761</td>\n",
              "      <td>1.492552</td>\n",
              "      <td>-0.398382</td>\n",
              "      <td>-0.189761</td>\n",
              "      <td>-0.189761</td>\n",
              "      <td>-0.928305</td>\n",
              "      <td>...</td>\n",
              "      <td>0.800948</td>\n",
              "      <td>-0.841755</td>\n",
              "      <td>-1.242644</td>\n",
              "      <td>0.548545</td>\n",
              "      <td>0.368458</td>\n",
              "      <td>0.803943</td>\n",
              "      <td>0.030520</td>\n",
              "      <td>1.301387</td>\n",
              "      <td>1.694139</td>\n",
              "      <td>-3.809199</td>\n",
              "    </tr>\n",
              "    <tr>\n",
              "      <th>2</th>\n",
              "      <td>C=CCn1c(=O)c2cnc(Nc3ccc(N4CCN(C)CC4)cc3)nc2n1-...</td>\n",
              "      <td>C#Cc1cccc(Nc2ncnc3cc(OCCOC)c(OCCOC)cc23)c1</td>\n",
              "      <td>-0.189761</td>\n",
              "      <td>-0.198631</td>\n",
              "      <td>-0.189761</td>\n",
              "      <td>0.905970</td>\n",
              "      <td>-0.398382</td>\n",
              "      <td>-0.189761</td>\n",
              "      <td>-0.189761</td>\n",
              "      <td>0.784357</td>\n",
              "      <td>...</td>\n",
              "      <td>-2.382095</td>\n",
              "      <td>0.064355</td>\n",
              "      <td>-0.585564</td>\n",
              "      <td>-2.237516</td>\n",
              "      <td>-1.288522</td>\n",
              "      <td>-1.647859</td>\n",
              "      <td>-1.703749</td>\n",
              "      <td>-0.718135</td>\n",
              "      <td>0.636911</td>\n",
              "      <td>14.652960</td>\n",
              "    </tr>\n",
              "    <tr>\n",
              "      <th>3</th>\n",
              "      <td>CC1(c2nc3c(C(N)=O)cccc3[nH]2)CCCN1</td>\n",
              "      <td>CCC1(O)C(=O)OCc2c1cc1n(c2=O)Cc2cc3c(CN(C)C)c(O...</td>\n",
              "      <td>-0.189761</td>\n",
              "      <td>-0.198631</td>\n",
              "      <td>-0.189761</td>\n",
              "      <td>0.905970</td>\n",
              "      <td>-0.398382</td>\n",
              "      <td>-0.189761</td>\n",
              "      <td>-0.189761</td>\n",
              "      <td>-1.021070</td>\n",
              "      <td>...</td>\n",
              "      <td>0.358498</td>\n",
              "      <td>-0.657769</td>\n",
              "      <td>-1.134156</td>\n",
              "      <td>0.004850</td>\n",
              "      <td>-1.349099</td>\n",
              "      <td>1.091526</td>\n",
              "      <td>-0.152564</td>\n",
              "      <td>1.363697</td>\n",
              "      <td>-0.967931</td>\n",
              "      <td>-16.204517</td>\n",
              "    </tr>\n",
              "    <tr>\n",
              "      <th>4</th>\n",
              "      <td>CC1(c2nc3c(C(N)=O)cccc3[nH]2)CCCN1</td>\n",
              "      <td>COC1=C2CC(C)CC(OC)C(O)C(C)C=C(C)C(OC(N)=O)C(OC...</td>\n",
              "      <td>-0.189761</td>\n",
              "      <td>-0.198631</td>\n",
              "      <td>-0.189761</td>\n",
              "      <td>0.905970</td>\n",
              "      <td>-0.398382</td>\n",
              "      <td>-0.189761</td>\n",
              "      <td>-0.189761</td>\n",
              "      <td>-1.021070</td>\n",
              "      <td>...</td>\n",
              "      <td>-2.382095</td>\n",
              "      <td>0.064334</td>\n",
              "      <td>-0.585529</td>\n",
              "      <td>-2.237516</td>\n",
              "      <td>-1.288540</td>\n",
              "      <td>-1.647866</td>\n",
              "      <td>-1.703749</td>\n",
              "      <td>-0.718133</td>\n",
              "      <td>0.636914</td>\n",
              "      <td>-17.080158</td>\n",
              "    </tr>\n",
              "  </tbody>\n",
              "</table>\n",
              "<p>5 rows × 8780 columns</p>\n",
              "</div>"
            ],
            "text/plain": [
              "                                  Drug1_Standardized  \\\n",
              "0                            O=P1(N(CCCl)CCCl)NCCCO1   \n",
              "1                        O=C(CCCCCCC(=O)Nc1ccccc1)NO   \n",
              "2  C=CCn1c(=O)c2cnc(Nc3ccc(N4CCN(C)CC4)cc3)nc2n1-...   \n",
              "3                 CC1(c2nc3c(C(N)=O)cccc3[nH]2)CCCN1   \n",
              "4                 CC1(c2nc3c(C(N)=O)cccc3[nH]2)CCCN1   \n",
              "\n",
              "                                  Drug2_Standardized  Genomic_0  Genomic_1  \\\n",
              "0           NC(=O)c1cccc2cn(-c3ccc(C4CCCNC4)cc3)nc12  -0.189761  -0.198631   \n",
              "1           NC(=O)c1cccc2cn(-c3ccc(C4CCCNC4)cc3)nc12  -0.189761  -0.198631   \n",
              "2         C#Cc1cccc(Nc2ncnc3cc(OCCOC)c(OCCOC)cc23)c1  -0.189761  -0.198631   \n",
              "3  CCC1(O)C(=O)OCc2c1cc1n(c2=O)Cc2cc3c(CN(C)C)c(O...  -0.189761  -0.198631   \n",
              "4  COC1=C2CC(C)CC(OC)C(O)C(C)C=C(C)C(OC(N)=O)C(OC...  -0.189761  -0.198631   \n",
              "\n",
              "   Genomic_2  Genomic_3  Genomic_4  Genomic_5  Genomic_6  Genomic_7  ...  \\\n",
              "0  -0.189761  -0.960891  -0.398382  -0.189761  -0.189761  -1.395685  ...   \n",
              "1  -0.189761   1.492552  -0.398382  -0.189761  -0.189761  -0.928305  ...   \n",
              "2  -0.189761   0.905970  -0.398382  -0.189761  -0.189761   0.784357  ...   \n",
              "3  -0.189761   0.905970  -0.398382  -0.189761  -0.189761  -1.021070  ...   \n",
              "4  -0.189761   0.905970  -0.398382  -0.189761  -0.189761  -1.021070  ...   \n",
              "\n",
              "   Genomic_8776  Genomic_8777  Genomic_8778  Genomic_8779  Genomic_8780  \\\n",
              "0      0.983524     -0.676135     -0.735852     -0.134726     -0.273893   \n",
              "1      0.800948     -0.841755     -1.242644      0.548545      0.368458   \n",
              "2     -2.382095      0.064355     -0.585564     -2.237516     -1.288522   \n",
              "3      0.358498     -0.657769     -1.134156      0.004850     -1.349099   \n",
              "4     -2.382095      0.064334     -0.585529     -2.237516     -1.288540   \n",
              "\n",
              "   Genomic_8781  Genomic_8782  Genomic_8783  Genomic_8784          Y  \n",
              "0     -0.691539      1.226842      1.300643      1.716953 -66.134218  \n",
              "1      0.803943      0.030520      1.301387      1.694139  -3.809199  \n",
              "2     -1.647859     -1.703749     -0.718135      0.636911  14.652960  \n",
              "3      1.091526     -0.152564      1.363697     -0.967931 -16.204517  \n",
              "4     -1.647866     -1.703749     -0.718133      0.636914 -17.080158  \n",
              "\n",
              "[5 rows x 8780 columns]"
            ]
          },
          "execution_count": 5,
          "metadata": {},
          "output_type": "execute_result"
        }
      ],
      "source": [
        "# load the test data\n",
        "test_dataset = pd.read_csv('data/DL_test_dataset.csv')\n",
        "print(test_dataset.shape)\n",
        "test_dataset.head()"
      ]
    },
    {
      "cell_type": "code",
      "execution_count": 6,
      "metadata": {},
      "outputs": [
        {
          "name": "stdout",
          "output_type": "stream",
          "text": [
            "(4610, 8777)\n"
          ]
        },
        {
          "data": {
            "text/html": [
              "<div>\n",
              "<style scoped>\n",
              "    .dataframe tbody tr th:only-of-type {\n",
              "        vertical-align: middle;\n",
              "    }\n",
              "\n",
              "    .dataframe tbody tr th {\n",
              "        vertical-align: top;\n",
              "    }\n",
              "\n",
              "    .dataframe thead th {\n",
              "        text-align: right;\n",
              "    }\n",
              "</style>\n",
              "<table border=\"1\" class=\"dataframe\">\n",
              "  <thead>\n",
              "    <tr style=\"text-align: right;\">\n",
              "      <th></th>\n",
              "      <th>Genomic_0</th>\n",
              "      <th>Genomic_1</th>\n",
              "      <th>Genomic_2</th>\n",
              "      <th>Genomic_3</th>\n",
              "      <th>Genomic_4</th>\n",
              "      <th>Genomic_5</th>\n",
              "      <th>Genomic_6</th>\n",
              "      <th>Genomic_7</th>\n",
              "      <th>Genomic_8</th>\n",
              "      <th>Genomic_9</th>\n",
              "      <th>...</th>\n",
              "      <th>Genomic_8775</th>\n",
              "      <th>Genomic_8776</th>\n",
              "      <th>Genomic_8777</th>\n",
              "      <th>Genomic_8778</th>\n",
              "      <th>Genomic_8779</th>\n",
              "      <th>Genomic_8780</th>\n",
              "      <th>Genomic_8781</th>\n",
              "      <th>Genomic_8782</th>\n",
              "      <th>Genomic_8783</th>\n",
              "      <th>Genomic_8784</th>\n",
              "    </tr>\n",
              "  </thead>\n",
              "  <tbody>\n",
              "    <tr>\n",
              "      <th>0</th>\n",
              "      <td>-0.189761</td>\n",
              "      <td>-0.198631</td>\n",
              "      <td>-0.189761</td>\n",
              "      <td>-0.960891</td>\n",
              "      <td>-0.398382</td>\n",
              "      <td>-0.189761</td>\n",
              "      <td>-0.189761</td>\n",
              "      <td>-1.395685</td>\n",
              "      <td>-0.674233</td>\n",
              "      <td>-0.890960</td>\n",
              "      <td>...</td>\n",
              "      <td>0.518851</td>\n",
              "      <td>0.983524</td>\n",
              "      <td>-0.676135</td>\n",
              "      <td>-0.735852</td>\n",
              "      <td>-0.134726</td>\n",
              "      <td>-0.273893</td>\n",
              "      <td>-0.691539</td>\n",
              "      <td>1.226842</td>\n",
              "      <td>1.300643</td>\n",
              "      <td>1.716953</td>\n",
              "    </tr>\n",
              "    <tr>\n",
              "      <th>1</th>\n",
              "      <td>-0.189761</td>\n",
              "      <td>-0.198631</td>\n",
              "      <td>-0.189761</td>\n",
              "      <td>1.492552</td>\n",
              "      <td>-0.398382</td>\n",
              "      <td>-0.189761</td>\n",
              "      <td>-0.189761</td>\n",
              "      <td>-0.928305</td>\n",
              "      <td>-0.674233</td>\n",
              "      <td>-0.890960</td>\n",
              "      <td>...</td>\n",
              "      <td>-0.670516</td>\n",
              "      <td>0.800948</td>\n",
              "      <td>-0.841755</td>\n",
              "      <td>-1.242644</td>\n",
              "      <td>0.548545</td>\n",
              "      <td>0.368458</td>\n",
              "      <td>0.803943</td>\n",
              "      <td>0.030520</td>\n",
              "      <td>1.301387</td>\n",
              "      <td>1.694139</td>\n",
              "    </tr>\n",
              "    <tr>\n",
              "      <th>2</th>\n",
              "      <td>-0.189761</td>\n",
              "      <td>-0.198631</td>\n",
              "      <td>-0.189761</td>\n",
              "      <td>0.905970</td>\n",
              "      <td>-0.398382</td>\n",
              "      <td>-0.189761</td>\n",
              "      <td>-0.189761</td>\n",
              "      <td>0.784357</td>\n",
              "      <td>-0.674233</td>\n",
              "      <td>1.650004</td>\n",
              "      <td>...</td>\n",
              "      <td>-1.855299</td>\n",
              "      <td>-2.382095</td>\n",
              "      <td>0.064355</td>\n",
              "      <td>-0.585564</td>\n",
              "      <td>-2.237516</td>\n",
              "      <td>-1.288522</td>\n",
              "      <td>-1.647859</td>\n",
              "      <td>-1.703749</td>\n",
              "      <td>-0.718135</td>\n",
              "      <td>0.636911</td>\n",
              "    </tr>\n",
              "    <tr>\n",
              "      <th>3</th>\n",
              "      <td>-0.189761</td>\n",
              "      <td>-0.198631</td>\n",
              "      <td>-0.189761</td>\n",
              "      <td>0.905970</td>\n",
              "      <td>-0.398382</td>\n",
              "      <td>-0.189761</td>\n",
              "      <td>-0.189761</td>\n",
              "      <td>-1.021070</td>\n",
              "      <td>-0.674233</td>\n",
              "      <td>0.572001</td>\n",
              "      <td>...</td>\n",
              "      <td>-0.804505</td>\n",
              "      <td>0.358498</td>\n",
              "      <td>-0.657769</td>\n",
              "      <td>-1.134156</td>\n",
              "      <td>0.004850</td>\n",
              "      <td>-1.349099</td>\n",
              "      <td>1.091526</td>\n",
              "      <td>-0.152564</td>\n",
              "      <td>1.363697</td>\n",
              "      <td>-0.967931</td>\n",
              "    </tr>\n",
              "    <tr>\n",
              "      <th>4</th>\n",
              "      <td>-0.189761</td>\n",
              "      <td>-0.198631</td>\n",
              "      <td>-0.189761</td>\n",
              "      <td>0.905970</td>\n",
              "      <td>-0.398382</td>\n",
              "      <td>-0.189761</td>\n",
              "      <td>-0.189761</td>\n",
              "      <td>-1.021070</td>\n",
              "      <td>-0.674233</td>\n",
              "      <td>0.572001</td>\n",
              "      <td>...</td>\n",
              "      <td>-1.855299</td>\n",
              "      <td>-2.382095</td>\n",
              "      <td>0.064334</td>\n",
              "      <td>-0.585529</td>\n",
              "      <td>-2.237516</td>\n",
              "      <td>-1.288540</td>\n",
              "      <td>-1.647866</td>\n",
              "      <td>-1.703749</td>\n",
              "      <td>-0.718133</td>\n",
              "      <td>0.636914</td>\n",
              "    </tr>\n",
              "  </tbody>\n",
              "</table>\n",
              "<p>5 rows × 8777 columns</p>\n",
              "</div>"
            ],
            "text/plain": [
              "   Genomic_0  Genomic_1  Genomic_2  Genomic_3  Genomic_4  Genomic_5  \\\n",
              "0  -0.189761  -0.198631  -0.189761  -0.960891  -0.398382  -0.189761   \n",
              "1  -0.189761  -0.198631  -0.189761   1.492552  -0.398382  -0.189761   \n",
              "2  -0.189761  -0.198631  -0.189761   0.905970  -0.398382  -0.189761   \n",
              "3  -0.189761  -0.198631  -0.189761   0.905970  -0.398382  -0.189761   \n",
              "4  -0.189761  -0.198631  -0.189761   0.905970  -0.398382  -0.189761   \n",
              "\n",
              "   Genomic_6  Genomic_7  Genomic_8  Genomic_9  ...  Genomic_8775  \\\n",
              "0  -0.189761  -1.395685  -0.674233  -0.890960  ...      0.518851   \n",
              "1  -0.189761  -0.928305  -0.674233  -0.890960  ...     -0.670516   \n",
              "2  -0.189761   0.784357  -0.674233   1.650004  ...     -1.855299   \n",
              "3  -0.189761  -1.021070  -0.674233   0.572001  ...     -0.804505   \n",
              "4  -0.189761  -1.021070  -0.674233   0.572001  ...     -1.855299   \n",
              "\n",
              "   Genomic_8776  Genomic_8777  Genomic_8778  Genomic_8779  Genomic_8780  \\\n",
              "0      0.983524     -0.676135     -0.735852     -0.134726     -0.273893   \n",
              "1      0.800948     -0.841755     -1.242644      0.548545      0.368458   \n",
              "2     -2.382095      0.064355     -0.585564     -2.237516     -1.288522   \n",
              "3      0.358498     -0.657769     -1.134156      0.004850     -1.349099   \n",
              "4     -2.382095      0.064334     -0.585529     -2.237516     -1.288540   \n",
              "\n",
              "   Genomic_8781  Genomic_8782  Genomic_8783  Genomic_8784  \n",
              "0     -0.691539      1.226842      1.300643      1.716953  \n",
              "1      0.803943      0.030520      1.301387      1.694139  \n",
              "2     -1.647859     -1.703749     -0.718135      0.636911  \n",
              "3      1.091526     -0.152564      1.363697     -0.967931  \n",
              "4     -1.647866     -1.703749     -0.718133      0.636914  \n",
              "\n",
              "[5 rows x 8777 columns]"
            ]
          },
          "execution_count": 6,
          "metadata": {},
          "output_type": "execute_result"
        }
      ],
      "source": [
        "# get genomic features test data\n",
        "genomic_features_test = test_dataset.drop(['Drug1_Standardized', 'Drug2_Standardized', 'Y'], axis=1)\n",
        "print(genomic_features_test.shape)\n",
        "genomic_features_test.head()"
      ]
    },
    {
      "cell_type": "code",
      "execution_count": 7,
      "metadata": {},
      "outputs": [],
      "source": [
        "y_train = train_dataset['Y']\n",
        "y_test = test_dataset['Y']"
      ]
    },
    {
      "cell_type": "markdown",
      "metadata": {},
      "source": [
        "## Data Preprocessing"
      ]
    },
    {
      "cell_type": "markdown",
      "metadata": {},
      "source": [
        "To train the neural networks we needed to transform the smiles sequences into numerical features. To achieve that, we performed character encoding i.e. counting the number of occurences of each character in a smile string. We also performed sequences padding to make them all the same length."
      ]
    },
    {
      "cell_type": "markdown",
      "metadata": {},
      "source": [
        "### Character Encoding"
      ]
    },
    {
      "cell_type": "code",
      "execution_count": 8,
      "metadata": {
        "id": "IFeNeFPjD0pi"
      },
      "outputs": [],
      "source": [
        "# get lenghts of train SMILES using numpy\n",
        "smiles_lengths_drug1 = np.array([len(smile) for smile in train_dataset.Drug1_Standardized])"
      ]
    },
    {
      "cell_type": "code",
      "execution_count": 9,
      "metadata": {
        "id": "QTVqAnawK2cm"
      },
      "outputs": [],
      "source": [
        "# get lenghts of train SMILES using numpy\n",
        "smiles_lengths_drug2 = np.array([len(smile) for smile in train_dataset.Drug2_Standardized])"
      ]
    },
    {
      "cell_type": "code",
      "execution_count": 10,
      "metadata": {
        "colab": {
          "base_uri": "https://localhost:8080/"
        },
        "id": "sFHLz7qHLGYy",
        "outputId": "8050f9b1-cd5e-4bb4-bfe7-072b76ae3b5e"
      },
      "outputs": [
        {
          "name": "stdout",
          "output_type": "stream",
          "text": [
            "50 percentile: 54.0 characters\n",
            "75 percentile: 66.0 characters\n",
            "90 percentile: 109.0 characters\n",
            "95 percentile: 112.0 characters\n",
            "99 percentile: 127.0 characters\n",
            "100 percentile: 127.0 characters\n"
          ]
        }
      ],
      "source": [
        "# get the lengths at different percentiles\n",
        "percentiles = [50, 75, 90, 95, 99, 100]\n",
        "for percentile in percentiles:\n",
        "    print('{} percentile: {} characters'.format(percentile, np.percentile(smiles_lengths_drug1, percentile)))"
      ]
    },
    {
      "cell_type": "code",
      "execution_count": 11,
      "metadata": {
        "colab": {
          "base_uri": "https://localhost:8080/"
        },
        "id": "D3EH0SW5DyJ8",
        "outputId": "eebe0be5-49cb-4c8c-9bd6-089175c075d8"
      },
      "outputs": [
        {
          "name": "stdout",
          "output_type": "stream",
          "text": [
            "50 percentile: 51.0 characters\n",
            "75 percentile: 57.0 characters\n",
            "90 percentile: 75.0 characters\n",
            "95 percentile: 127.0 characters\n",
            "99 percentile: 127.0 characters\n",
            "100 percentile: 127.0 characters\n"
          ]
        }
      ],
      "source": [
        "# get the lengths at different percentiles\n",
        "percentiles = [50, 75, 90, 95, 99, 100]\n",
        "for percentile in percentiles:\n",
        "    print('{} percentile: {} characters'.format(percentile, np.percentile(smiles_lengths_drug2, percentile)))"
      ]
    },
    {
      "cell_type": "code",
      "execution_count": null,
      "metadata": {
        "colab": {
          "base_uri": "https://localhost:8080/",
          "height": 449
        },
        "id": "WDVRnCBfGBEI",
        "outputId": "429fc181-ec4b-42a6-d3bb-b17c356f8d98"
      },
      "outputs": [
        {
          "data": {
            "image/png": "[encoded data removed]",
            "text/plain": [
              "<Figure size 640x480 with 1 Axes>"
            ]
          },
          "metadata": {},
          "output_type": "display_data"
        }
      ],
      "source": [
        "# Plot histogram of SMILES lengths\n",
        "plt.hist(smiles_lengths_drug1, bins=100)\n",
        "plt.xlabel(\"SMILES length\")\n",
        "plt.ylabel(\"Frequency\")\n",
        "plt.show()"
      ]
    },
    {
      "cell_type": "code",
      "execution_count": null,
      "metadata": {
        "colab": {
          "base_uri": "https://localhost:8080/",
          "height": 449
        },
        "id": "YASTMfVDLRJj",
        "outputId": "a5a16503-c494-411c-e119-c700a733593a"
      },
      "outputs": [
        {
          "data": {
            "image/png": "[encoded data removed]",
            "text/plain": [
              "<Figure size 640x480 with 1 Axes>"
            ]
          },
          "metadata": {},
          "output_type": "display_data"
        }
      ],
      "source": [
        "# Plot histogram of SMILES lengths\n",
        "plt.hist(smiles_lengths_drug2, bins=100)\n",
        "plt.xlabel(\"SMILES length\")\n",
        "plt.ylabel(\"Frequency\")\n",
        "plt.show()"
      ]
    },
    {
      "cell_type": "code",
      "execution_count": 14,
      "metadata": {
        "id": "NNyo5elKGB2C"
      },
      "outputs": [],
      "source": [
        "# Tokenize the SMILES data\n",
        "max_characters = 127  # Max length of SMILES notation\n",
        "tokenizer_drug1 = Tokenizer(char_level=True, lower=False, oov_token=\"<UNK>\") #out-of-vocabulary token is used to replace characters that are not in the vocabulary\n",
        "tokenizer_drug1.fit_on_texts(train_dataset.Drug1_Standardized)\n",
        "\n",
        "# Convert SMILES to sequences of integers\n",
        "x_train_drug1 = tokenizer_drug1.texts_to_sequences(train_dataset.Drug1_Standardized)\n",
        "x_test_drug1 = tokenizer_drug1.texts_to_sequences(test_dataset.Drug1_Standardized)"
      ]
    },
    {
      "cell_type": "code",
      "execution_count": 15,
      "metadata": {
        "id": "2tJ6OTxMMF0I"
      },
      "outputs": [],
      "source": [
        "# Tokenize the SMILES data\n",
        "tokenizer_drug2 = Tokenizer(char_level=True, lower=False, oov_token=\"<UNK>\") #out-of-vocabulary token is used to replace characters that are not in the vocabulary\n",
        "tokenizer_drug2.fit_on_texts(train_dataset.Drug2_Standardized)  #why we only fit on train data?\n",
        "\n",
        "# Convert SMILES to sequences of integers\n",
        "x_train_drug2 = tokenizer_drug2.texts_to_sequences(train_dataset.Drug2_Standardized)\n",
        "x_test_drug2 = tokenizer_drug2.texts_to_sequences(test_dataset.Drug2_Standardized)"
      ]
    },
    {
      "cell_type": "code",
      "execution_count": 16,
      "metadata": {
        "colab": {
          "base_uri": "https://localhost:8080/"
        },
        "id": "gQ8r0KBoGERV",
        "outputId": "5e8c8a0b-50d5-4c91-d87a-c387c3250c1d"
      },
      "outputs": [
        {
          "name": "stdout",
          "output_type": "stream",
          "text": [
            "First SMILES string: O=c1[nH]cc(F)c(=O)[nH]1\n",
            "Length of SMILES string: 23\n",
            "SMILES converted to sequences of integers: [6, 8, 3, 7, 16, 12, 18, 17, 3, 3, 4, 13, 5, 3, 4, 8, 6, 5, 16, 12, 18, 17, 7]\n",
            "Length of sequence: 23\n"
          ]
        }
      ],
      "source": [
        "print('First SMILES string:', train_dataset.Drug1_Standardized[0])\n",
        "print('Length of SMILES string:', len(train_dataset.Drug1_Standardized[0]))\n",
        "\n",
        "print('SMILES converted to sequences of integers:', x_train_drug1[0])\n",
        "print('Length of sequence:', len(x_train_drug1[0]))"
      ]
    },
    {
      "cell_type": "code",
      "execution_count": 17,
      "metadata": {
        "colab": {
          "base_uri": "https://localhost:8080/"
        },
        "id": "M-qQU7tLMljY",
        "outputId": "6779238f-e260-4936-c7df-0b6d5aa122d1"
      },
      "outputs": [
        {
          "name": "stdout",
          "output_type": "stream",
          "text": [
            "First SMILES string: CC1(c2nc3c(C(N)=O)cccc3[nH]2)CCCN1\n",
            "Length of SMILES string: 34\n",
            "SMILES converted to sequences of integers: [3, 3, 7, 4, 2, 8, 9, 2, 12, 2, 4, 3, 4, 11, 5, 10, 6, 5, 2, 2, 2, 2, 12, 17, 9, 20, 18, 8, 5, 3, 3, 3, 11, 7]\n",
            "Length of sequence: 34\n"
          ]
        }
      ],
      "source": [
        "print('First SMILES string:', train_dataset.Drug2_Standardized[0])\n",
        "print('Length of SMILES string:', len(train_dataset.Drug2_Standardized[0]))\n",
        "\n",
        "print('SMILES converted to sequences of integers:', x_train_drug2[0])\n",
        "print('Length of sequence:', len(x_train_drug2[0]))"
      ]
    },
    {
      "cell_type": "code",
      "execution_count": 18,
      "metadata": {
        "colab": {
          "base_uri": "https://localhost:8080/"
        },
        "id": "fbK2HPmueYZ1",
        "outputId": "106ed544-0fe9-4e98-8ba8-27986e282250"
      },
      "outputs": [
        {
          "name": "stdout",
          "output_type": "stream",
          "text": [
            "{'<UNK>': 1, 'C': 2, 'c': 3, '(': 4, ')': 5, 'O': 6, '1': 7, '=': 8, '2': 9, 'N': 10, '3': 11, 'n': 12, 'F': 13, '4': 14, '5': 15, '[': 16, ']': 17, 'H': 18, 'l': 19, '-': 20, 'S': 21, '#': 22, '6': 23, 'P': 24, 's': 25, 'o': 26, 'I': 27, 'B': 28, '+': 29}\n"
          ]
        }
      ],
      "source": [
        "print(tokenizer_drug1.word_index)"
      ]
    },
    {
      "cell_type": "code",
      "execution_count": 19,
      "metadata": {
        "colab": {
          "base_uri": "https://localhost:8080/"
        },
        "id": "y69ie6xrGGsE",
        "outputId": "0bbe7e3b-b6ae-4a93-eb99-4f3cb6434508"
      },
      "outputs": [
        {
          "name": "stdout",
          "output_type": "stream",
          "text": [
            "{'<UNK>': 1, 'c': 2, 'C': 3, '(': 4, ')': 5, 'O': 6, '1': 7, '2': 8, 'n': 9, '=': 10, 'N': 11, '3': 12, '4': 13, '-': 14, 'F': 15, '5': 16, '[': 17, ']': 18, 'l': 19, 'H': 20, '#': 21, 'B': 22, 's': 23, 'r': 24, '+': 25, 'P': 26, 'I': 27, 'S': 28, 'o': 29, '6': 30}\n"
          ]
        }
      ],
      "source": [
        "print(tokenizer_drug2.word_index)"
      ]
    },
    {
      "cell_type": "markdown",
      "metadata": {},
      "source": [
        "### Padding Sequences"
      ]
    },
    {
      "cell_type": "code",
      "execution_count": 20,
      "metadata": {},
      "outputs": [],
      "source": [
        "# Pad sequences to make them of the same length\n",
        "x_train_drug1 = pad_sequences(x_train_drug1, maxlen=max_characters, padding='post', truncating='post')\n",
        "x_test_drug1 = pad_sequences(x_test_drug1, maxlen=max_characters, padding='post', truncating='post')"
      ]
    },
    {
      "cell_type": "code",
      "execution_count": 21,
      "metadata": {},
      "outputs": [],
      "source": [
        "# Pad sequences to make them of the same length\n",
        "x_train_drug2 = pad_sequences(x_train_drug2, maxlen=max_characters, padding='post', truncating='post')\n",
        "x_test_drug2 = pad_sequences(x_test_drug2, maxlen=max_characters, padding='post', truncating='post')"
      ]
    },
    {
      "cell_type": "code",
      "execution_count": 22,
      "metadata": {},
      "outputs": [
        {
          "name": "stdout",
          "output_type": "stream",
          "text": [
            "First SMILES string: O=c1[nH]cc(F)c(=O)[nH]1\n",
            "Length os SMILES string: 23\n",
            "SMILES converted to sequences of integers and padded: [ 6  8  3  7 16 12 18 17  3  3  4 13  5  3  4  8  6  5 16 12 18 17  7  0\n",
            "  0  0  0  0  0  0  0  0  0  0  0  0  0  0  0  0  0  0  0  0  0  0  0  0\n",
            "  0  0  0  0  0  0  0  0  0  0  0  0  0  0  0  0  0  0  0  0  0  0  0  0\n",
            "  0  0  0  0  0  0  0  0  0  0  0  0  0  0  0  0  0  0  0  0  0  0  0  0\n",
            "  0  0  0  0  0  0  0  0  0  0  0  0  0  0  0  0  0  0  0  0  0  0  0  0\n",
            "  0  0  0  0  0  0  0]\n",
            "Length of encoded sequence: 127\n",
            "\n",
            "\n",
            "First SMILES string: O=c1[nH]cc(F)c(=O)[nH]1\n",
            "Length os SMILES string: 23\n",
            "SMILES converted to sequences of integers and padded: [ 6  8  3  7 16 12 18 17  3  3  4 13  5  3  4  8  6  5 16 12 18 17  7  0\n",
            "  0  0  0  0  0  0  0  0  0  0  0  0  0  0  0  0  0  0  0  0  0  0  0  0\n",
            "  0  0  0  0  0  0  0  0  0  0  0  0  0  0  0  0  0  0  0  0  0  0  0  0\n",
            "  0  0  0  0  0  0  0  0  0  0  0  0  0  0  0  0  0  0  0  0  0  0  0  0\n",
            "  0  0  0  0  0  0  0  0  0  0  0  0  0  0  0  0  0  0  0  0  0  0  0  0\n",
            "  0  0  0  0  0  0  0]\n",
            "Length of encoded sequence: 127\n",
            "\n",
            "\n",
            "Shape of padded sequences: (18442, 127)\n"
          ]
        }
      ],
      "source": [
        "print('First SMILES string:', train_dataset.Drug1_Standardized[0])\n",
        "print('Length os SMILES string:', len(train_dataset.Drug1_Standardized[0]))\n",
        "print('SMILES converted to sequences of integers and padded:', x_train_drug1[0])\n",
        "print('Length of encoded sequence:', len(x_train_drug1[0]))\n",
        "\n",
        "print('\\n\\nFirst SMILES string:', train_dataset.Drug1_Standardized[1])\n",
        "print('Length os SMILES string:', len(train_dataset.Drug1_Standardized[1]))\n",
        "print('SMILES converted to sequences of integers and padded:', x_train_drug1[1])\n",
        "print('Length of encoded sequence:', len(x_train_drug1[1]))\n",
        "\n",
        "print('\\n\\nShape of padded sequences:', x_train_drug1.shape)"
      ]
    },
    {
      "cell_type": "code",
      "execution_count": 23,
      "metadata": {},
      "outputs": [
        {
          "name": "stdout",
          "output_type": "stream",
          "text": [
            "First SMILES string: CC1(c2nc3c(C(N)=O)cccc3[nH]2)CCCN1\n",
            "Length os SMILES string: 34\n",
            "SMILES converted to sequences of integers and padded: [ 3  3  7  4  2  8  9  2 12  2  4  3  4 11  5 10  6  5  2  2  2  2 12 17\n",
            "  9 20 18  8  5  3  3  3 11  7  0  0  0  0  0  0  0  0  0  0  0  0  0  0\n",
            "  0  0  0  0  0  0  0  0  0  0  0  0  0  0  0  0  0  0  0  0  0  0  0  0\n",
            "  0  0  0  0  0  0  0  0  0  0  0  0  0  0  0  0  0  0  0  0  0  0  0  0\n",
            "  0  0  0  0  0  0  0  0  0  0  0  0  0  0  0  0  0  0  0  0  0  0  0  0\n",
            "  0  0  0  0  0  0  0]\n",
            "Length of encoded sequence: 127\n",
            "\n",
            "\n",
            "First SMILES string: CC1(c2nc3c(C(N)=O)cccc3[nH]2)CCCN1\n",
            "Length os SMILES string: 34\n",
            "SMILES converted to sequences of integers and padded: [ 3  3  7  4  2  8  9  2 12  2  4  3  4 11  5 10  6  5  2  2  2  2 12 17\n",
            "  9 20 18  8  5  3  3  3 11  7  0  0  0  0  0  0  0  0  0  0  0  0  0  0\n",
            "  0  0  0  0  0  0  0  0  0  0  0  0  0  0  0  0  0  0  0  0  0  0  0  0\n",
            "  0  0  0  0  0  0  0  0  0  0  0  0  0  0  0  0  0  0  0  0  0  0  0  0\n",
            "  0  0  0  0  0  0  0  0  0  0  0  0  0  0  0  0  0  0  0  0  0  0  0  0\n",
            "  0  0  0  0  0  0  0]\n",
            "Length of encoded sequence: 127\n",
            "\n",
            "\n",
            "Shape of padded sequences: (18442, 127)\n"
          ]
        }
      ],
      "source": [
        "print('First SMILES string:', train_dataset.Drug2_Standardized[0])\n",
        "print('Length os SMILES string:', len(train_dataset.Drug2_Standardized[0]))\n",
        "print('SMILES converted to sequences of integers and padded:', x_train_drug2[0])\n",
        "print('Length of encoded sequence:', len(x_train_drug2[0]))\n",
        "\n",
        "print('\\n\\nFirst SMILES string:', train_dataset.Drug2_Standardized[1])\n",
        "print('Length os SMILES string:', len(train_dataset.Drug2_Standardized[1]))\n",
        "print('SMILES converted to sequences of integers and padded:', x_train_drug2[1])\n",
        "print('Length of encoded sequence:', len(x_train_drug2[1]))\n",
        "\n",
        "print('\\n\\nShape of padded sequences:', x_train_drug2.shape)"
      ]
    },
    {
      "cell_type": "code",
      "execution_count": 24,
      "metadata": {
        "colab": {
          "base_uri": "https://localhost:8080/"
        },
        "id": "a0ViTt12o6Fp",
        "outputId": "407a69fb-03eb-40aa-924c-5b272a4e9bee"
      },
      "outputs": [
        {
          "data": {
            "text/plain": [
              "(30, 31, 127)"
            ]
          },
          "execution_count": 24,
          "metadata": {},
          "output_type": "execute_result"
        }
      ],
      "source": [
        "vocab_size_drug1 = len(tokenizer_drug1.word_index) + 1\n",
        "vocab_size_drug2 = len(tokenizer_drug2.word_index) + 1\n",
        "vocab_size_drug1, vocab_size_drug2, max_characters"
      ]
    },
    {
      "cell_type": "markdown",
      "metadata": {},
      "source": [
        "## Normalization of the y variable "
      ]
    },
    {
      "cell_type": "code",
      "execution_count": 25,
      "metadata": {},
      "outputs": [
        {
          "data": {
            "text/plain": [
              "count    18442.000000\n",
              "mean         5.117212\n",
              "std         22.902877\n",
              "min       -326.464304\n",
              "25%         -5.581255\n",
              "50%          4.337603\n",
              "75%         15.099934\n",
              "max        179.123325\n",
              "Name: Y, dtype: float64"
            ]
          },
          "execution_count": 25,
          "metadata": {},
          "output_type": "execute_result"
        }
      ],
      "source": [
        "# check labels information\n",
        "train_dataset['Y'].describe()"
      ]
    },
    {
      "cell_type": "code",
      "execution_count": 26,
      "metadata": {},
      "outputs": [
        {
          "data": {
            "image/png": "[encoded data removed]",
            "text/plain": [
              "<Figure size 640x480 with 1 Axes>"
            ]
          },
          "metadata": {},
          "output_type": "display_data"
        }
      ],
      "source": [
        "# plot labels values\n",
        "plt.hist(train_dataset['Y'], bins=100)\n",
        "plt.xlabel(\"Experimental value\")\n",
        "plt.ylabel(\"Frequency\")\n",
        "plt.show()"
      ]
    },
    {
      "cell_type": "code",
      "execution_count": 27,
      "metadata": {},
      "outputs": [
        {
          "name": "stdout",
          "output_type": "stream",
          "text": [
            "[[ 0.11249189]\n",
            " [ 0.11618248]\n",
            " [-0.27576836]\n",
            " ...\n",
            " [ 0.67392554]\n",
            " [ 0.30883875]\n",
            " [ 0.31030039]]\n"
          ]
        }
      ],
      "source": [
        "# Compute mean and standard deviation using only the training set\n",
        "y_mean = np.mean(y_train)\n",
        "y_std = np.std(y_train)\n",
        "\n",
        "# Standardize y values\n",
        "y_train_standardized = (y_train - y_mean) / y_std\n",
        "y_test_standardized = (y_test - y_mean) / y_std\n",
        "\n",
        "# Reshape standardized y_train and y_test to match input requirements\n",
        "y_train = y_train_standardized.values.reshape(-1, 1)\n",
        "print(y_train)\n",
        "y_test = y_test_standardized.values.reshape(-1, 1)"
      ]
    },
    {
      "cell_type": "markdown",
      "metadata": {},
      "source": [
        "We decided to build, train, and evaluate a recurrent neural network (RNN) and a convolutional neural network (CNN), both with multi inputs (tokenized drug1 and drug2 smiles, and genomic features preprocessed in section 1), to predict the synergy score."
      ]
    },
    {
      "cell_type": "markdown",
      "metadata": {
        "id": "rexlrX5_ok5j"
      },
      "source": [
        "## RNN - LSTM"
      ]
    },
    {
      "cell_type": "code",
      "execution_count": 29,
      "metadata": {
        "id": "_sqfVS1vCHu1"
      },
      "outputs": [],
      "source": [
        "def build_rnn_smiles_model(max_len, vocab_size_drug1, vocab_size_drug2, genomic_features_size):\n",
        "    # Drug1 SMILES input\n",
        "    input_drug1 = Input(shape=(max_len,), name=\"Drug1_SMILES\")\n",
        "    embedding_drug1 = Embedding(input_dim=vocab_size_drug1, output_dim=128, input_length=max_len)(input_drug1)\n",
        "    rnn_drug1 = LSTM(128, return_sequences=True)(embedding_drug1)\n",
        "    pooled_drug1 = GlobalMaxPooling1D()(rnn_drug1)\n",
        "\n",
        "    # Drug2 SMILES input\n",
        "    input_drug2 = Input(shape=(max_len,), name=\"Drug2_SMILES\")\n",
        "    embedding_drug2 = Embedding(input_dim=vocab_size_drug2, output_dim=128, input_length=max_len)(input_drug2)\n",
        "    rnn_drug2 = LSTM(128, return_sequences=True)(embedding_drug2)\n",
        "    pooled_drug2 = GlobalMaxPooling1D()(rnn_drug2)\n",
        "\n",
        "    # Combine Drug1 and Drug2 features\n",
        "    combined_smiles = Concatenate()([pooled_drug1, pooled_drug2])\n",
        "    smiles_dense = Dense(128, activation=\"relu\")(combined_smiles)\n",
        "\n",
        "    # Define genomic descriptor input\n",
        "    input_genomic = Input(shape=(genomic_features_size,), name=\"Genomic_Descriptors\")\n",
        "    genomic_dense = Dense(128, activation=\"relu\")(input_genomic)\n",
        "\n",
        "    # Combine SMILES and genomic descriptors\n",
        "    combined_all = Concatenate()([smiles_dense, genomic_dense])\n",
        "\n",
        "    # Fully connected layers\n",
        "    dense1 = Dense(256, activation=\"relu\")(combined_all)\n",
        "    dropout1 = Dropout(0.3)(dense1)\n",
        "    dense2 = Dense(128, activation=\"relu\")(dropout1)\n",
        "    dropout2 = Dropout(0.3)(dense2)\n",
        "\n",
        "    # Output layer for regression\n",
        "    output = Dense(1, activation=\"linear\", name=\"Synergy_Score_Output\")(dropout2)\n",
        "\n",
        "    # Model definition\n",
        "    model = Model(inputs=[input_drug1, input_drug2, input_genomic], outputs=output)\n",
        "    model.compile(optimizer=Adam(learning_rate=0.001), loss=\"mean_squared_error\", metrics=[\"mse\", \"mae\"])\n",
        "\n",
        "    return model"
      ]
    },
    {
      "cell_type": "code",
      "execution_count": 30,
      "metadata": {
        "id": "TE9l2VOpIvVk"
      },
      "outputs": [
        {
          "data": {
            "text/html": [
              "<pre style=\"white-space:pre;overflow-x:auto;line-height:normal;font-family:Menlo,'DejaVu Sans Mono',consolas,'Courier New',monospace\"><span style=\"font-weight: bold\">Model: \"functional\"</span>\n",
              "</pre>\n"
            ],
            "text/plain": [
              "\u001b[1mModel: \"functional\"\u001b[0m\n"
            ]
          },
          "metadata": {},
          "output_type": "display_data"
        },
        {
          "data": {
            "text/html": [
              "<pre style=\"white-space:pre;overflow-x:auto;line-height:normal;font-family:Menlo,'DejaVu Sans Mono',consolas,'Courier New',monospace\">┏━━━━━━━━━━━━━━━━━━━━━┳━━━━━━━━━━━━━━━━━━━┳━━━━━━━━━━━━┳━━━━━━━━━━━━━━━━━━━┓\n",
              "┃<span style=\"font-weight: bold\"> Layer (type)        </span>┃<span style=\"font-weight: bold\"> Output Shape      </span>┃<span style=\"font-weight: bold\">    Param # </span>┃<span style=\"font-weight: bold\"> Connected to      </span>┃\n",
              "┡━━━━━━━━━━━━━━━━━━━━━╇━━━━━━━━━━━━━━━━━━━╇━━━━━━━━━━━━╇━━━━━━━━━━━━━━━━━━━┩\n",
              "│ Drug1_SMILES        │ (<span style=\"color: #00d7ff; text-decoration-color: #00d7ff\">None</span>, <span style=\"color: #00af00; text-decoration-color: #00af00\">127</span>)       │          <span style=\"color: #00af00; text-decoration-color: #00af00\">0</span> │ -                 │\n",
              "│ (<span style=\"color: #0087ff; text-decoration-color: #0087ff\">InputLayer</span>)        │                   │            │                   │\n",
              "├─────────────────────┼───────────────────┼────────────┼───────────────────┤\n",
              "│ Drug2_SMILES        │ (<span style=\"color: #00d7ff; text-decoration-color: #00d7ff\">None</span>, <span style=\"color: #00af00; text-decoration-color: #00af00\">127</span>)       │          <span style=\"color: #00af00; text-decoration-color: #00af00\">0</span> │ -                 │\n",
              "│ (<span style=\"color: #0087ff; text-decoration-color: #0087ff\">InputLayer</span>)        │                   │            │                   │\n",
              "├─────────────────────┼───────────────────┼────────────┼───────────────────┤\n",
              "│ embedding           │ (<span style=\"color: #00d7ff; text-decoration-color: #00d7ff\">None</span>, <span style=\"color: #00af00; text-decoration-color: #00af00\">127</span>, <span style=\"color: #00af00; text-decoration-color: #00af00\">128</span>)  │      <span style=\"color: #00af00; text-decoration-color: #00af00\">3,840</span> │ Drug1_SMILES[<span style=\"color: #00af00; text-decoration-color: #00af00\">0</span>][<span style=\"color: #00af00; text-decoration-color: #00af00\">…</span> │\n",
              "│ (<span style=\"color: #0087ff; text-decoration-color: #0087ff\">Embedding</span>)         │                   │            │                   │\n",
              "├─────────────────────┼───────────────────┼────────────┼───────────────────┤\n",
              "│ embedding_1         │ (<span style=\"color: #00d7ff; text-decoration-color: #00d7ff\">None</span>, <span style=\"color: #00af00; text-decoration-color: #00af00\">127</span>, <span style=\"color: #00af00; text-decoration-color: #00af00\">128</span>)  │      <span style=\"color: #00af00; text-decoration-color: #00af00\">3,968</span> │ Drug2_SMILES[<span style=\"color: #00af00; text-decoration-color: #00af00\">0</span>][<span style=\"color: #00af00; text-decoration-color: #00af00\">…</span> │\n",
              "│ (<span style=\"color: #0087ff; text-decoration-color: #0087ff\">Embedding</span>)         │                   │            │                   │\n",
              "├─────────────────────┼───────────────────┼────────────┼───────────────────┤\n",
              "│ lstm (<span style=\"color: #0087ff; text-decoration-color: #0087ff\">LSTM</span>)         │ (<span style=\"color: #00d7ff; text-decoration-color: #00d7ff\">None</span>, <span style=\"color: #00af00; text-decoration-color: #00af00\">127</span>, <span style=\"color: #00af00; text-decoration-color: #00af00\">128</span>)  │    <span style=\"color: #00af00; text-decoration-color: #00af00\">131,584</span> │ embedding[<span style=\"color: #00af00; text-decoration-color: #00af00\">0</span>][<span style=\"color: #00af00; text-decoration-color: #00af00\">0</span>]   │\n",
              "├─────────────────────┼───────────────────┼────────────┼───────────────────┤\n",
              "│ lstm_1 (<span style=\"color: #0087ff; text-decoration-color: #0087ff\">LSTM</span>)       │ (<span style=\"color: #00d7ff; text-decoration-color: #00d7ff\">None</span>, <span style=\"color: #00af00; text-decoration-color: #00af00\">127</span>, <span style=\"color: #00af00; text-decoration-color: #00af00\">128</span>)  │    <span style=\"color: #00af00; text-decoration-color: #00af00\">131,584</span> │ embedding_1[<span style=\"color: #00af00; text-decoration-color: #00af00\">0</span>][<span style=\"color: #00af00; text-decoration-color: #00af00\">0</span>] │\n",
              "├─────────────────────┼───────────────────┼────────────┼───────────────────┤\n",
              "│ global_max_pooling… │ (<span style=\"color: #00d7ff; text-decoration-color: #00d7ff\">None</span>, <span style=\"color: #00af00; text-decoration-color: #00af00\">128</span>)       │          <span style=\"color: #00af00; text-decoration-color: #00af00\">0</span> │ lstm[<span style=\"color: #00af00; text-decoration-color: #00af00\">0</span>][<span style=\"color: #00af00; text-decoration-color: #00af00\">0</span>]        │\n",
              "│ (<span style=\"color: #0087ff; text-decoration-color: #0087ff\">GlobalMaxPooling1…</span> │                   │            │                   │\n",
              "├─────────────────────┼───────────────────┼────────────┼───────────────────┤\n",
              "│ global_max_pooling… │ (<span style=\"color: #00d7ff; text-decoration-color: #00d7ff\">None</span>, <span style=\"color: #00af00; text-decoration-color: #00af00\">128</span>)       │          <span style=\"color: #00af00; text-decoration-color: #00af00\">0</span> │ lstm_1[<span style=\"color: #00af00; text-decoration-color: #00af00\">0</span>][<span style=\"color: #00af00; text-decoration-color: #00af00\">0</span>]      │\n",
              "│ (<span style=\"color: #0087ff; text-decoration-color: #0087ff\">GlobalMaxPooling1…</span> │                   │            │                   │\n",
              "├─────────────────────┼───────────────────┼────────────┼───────────────────┤\n",
              "│ concatenate         │ (<span style=\"color: #00d7ff; text-decoration-color: #00d7ff\">None</span>, <span style=\"color: #00af00; text-decoration-color: #00af00\">256</span>)       │          <span style=\"color: #00af00; text-decoration-color: #00af00\">0</span> │ global_max_pooli… │\n",
              "│ (<span style=\"color: #0087ff; text-decoration-color: #0087ff\">Concatenate</span>)       │                   │            │ global_max_pooli… │\n",
              "├─────────────────────┼───────────────────┼────────────┼───────────────────┤\n",
              "│ Genomic_Descriptors │ (<span style=\"color: #00d7ff; text-decoration-color: #00d7ff\">None</span>, <span style=\"color: #00af00; text-decoration-color: #00af00\">8777</span>)      │          <span style=\"color: #00af00; text-decoration-color: #00af00\">0</span> │ -                 │\n",
              "│ (<span style=\"color: #0087ff; text-decoration-color: #0087ff\">InputLayer</span>)        │                   │            │                   │\n",
              "├─────────────────────┼───────────────────┼────────────┼───────────────────┤\n",
              "│ dense (<span style=\"color: #0087ff; text-decoration-color: #0087ff\">Dense</span>)       │ (<span style=\"color: #00d7ff; text-decoration-color: #00d7ff\">None</span>, <span style=\"color: #00af00; text-decoration-color: #00af00\">128</span>)       │     <span style=\"color: #00af00; text-decoration-color: #00af00\">32,896</span> │ concatenate[<span style=\"color: #00af00; text-decoration-color: #00af00\">0</span>][<span style=\"color: #00af00; text-decoration-color: #00af00\">0</span>] │\n",
              "├─────────────────────┼───────────────────┼────────────┼───────────────────┤\n",
              "│ dense_1 (<span style=\"color: #0087ff; text-decoration-color: #0087ff\">Dense</span>)     │ (<span style=\"color: #00d7ff; text-decoration-color: #00d7ff\">None</span>, <span style=\"color: #00af00; text-decoration-color: #00af00\">128</span>)       │  <span style=\"color: #00af00; text-decoration-color: #00af00\">1,123,584</span> │ Genomic_Descript… │\n",
              "├─────────────────────┼───────────────────┼────────────┼───────────────────┤\n",
              "│ concatenate_1       │ (<span style=\"color: #00d7ff; text-decoration-color: #00d7ff\">None</span>, <span style=\"color: #00af00; text-decoration-color: #00af00\">256</span>)       │          <span style=\"color: #00af00; text-decoration-color: #00af00\">0</span> │ dense[<span style=\"color: #00af00; text-decoration-color: #00af00\">0</span>][<span style=\"color: #00af00; text-decoration-color: #00af00\">0</span>],      │\n",
              "│ (<span style=\"color: #0087ff; text-decoration-color: #0087ff\">Concatenate</span>)       │                   │            │ dense_1[<span style=\"color: #00af00; text-decoration-color: #00af00\">0</span>][<span style=\"color: #00af00; text-decoration-color: #00af00\">0</span>]     │\n",
              "├─────────────────────┼───────────────────┼────────────┼───────────────────┤\n",
              "│ dense_2 (<span style=\"color: #0087ff; text-decoration-color: #0087ff\">Dense</span>)     │ (<span style=\"color: #00d7ff; text-decoration-color: #00d7ff\">None</span>, <span style=\"color: #00af00; text-decoration-color: #00af00\">256</span>)       │     <span style=\"color: #00af00; text-decoration-color: #00af00\">65,792</span> │ concatenate_1[<span style=\"color: #00af00; text-decoration-color: #00af00\">0</span>]… │\n",
              "├─────────────────────┼───────────────────┼────────────┼───────────────────┤\n",
              "│ dropout (<span style=\"color: #0087ff; text-decoration-color: #0087ff\">Dropout</span>)   │ (<span style=\"color: #00d7ff; text-decoration-color: #00d7ff\">None</span>, <span style=\"color: #00af00; text-decoration-color: #00af00\">256</span>)       │          <span style=\"color: #00af00; text-decoration-color: #00af00\">0</span> │ dense_2[<span style=\"color: #00af00; text-decoration-color: #00af00\">0</span>][<span style=\"color: #00af00; text-decoration-color: #00af00\">0</span>]     │\n",
              "├─────────────────────┼───────────────────┼────────────┼───────────────────┤\n",
              "│ dense_3 (<span style=\"color: #0087ff; text-decoration-color: #0087ff\">Dense</span>)     │ (<span style=\"color: #00d7ff; text-decoration-color: #00d7ff\">None</span>, <span style=\"color: #00af00; text-decoration-color: #00af00\">128</span>)       │     <span style=\"color: #00af00; text-decoration-color: #00af00\">32,896</span> │ dropout[<span style=\"color: #00af00; text-decoration-color: #00af00\">0</span>][<span style=\"color: #00af00; text-decoration-color: #00af00\">0</span>]     │\n",
              "├─────────────────────┼───────────────────┼────────────┼───────────────────┤\n",
              "│ dropout_1 (<span style=\"color: #0087ff; text-decoration-color: #0087ff\">Dropout</span>) │ (<span style=\"color: #00d7ff; text-decoration-color: #00d7ff\">None</span>, <span style=\"color: #00af00; text-decoration-color: #00af00\">128</span>)       │          <span style=\"color: #00af00; text-decoration-color: #00af00\">0</span> │ dense_3[<span style=\"color: #00af00; text-decoration-color: #00af00\">0</span>][<span style=\"color: #00af00; text-decoration-color: #00af00\">0</span>]     │\n",
              "├─────────────────────┼───────────────────┼────────────┼───────────────────┤\n",
              "│ Synergy_Score_Outp… │ (<span style=\"color: #00d7ff; text-decoration-color: #00d7ff\">None</span>, <span style=\"color: #00af00; text-decoration-color: #00af00\">1</span>)         │        <span style=\"color: #00af00; text-decoration-color: #00af00\">129</span> │ dropout_1[<span style=\"color: #00af00; text-decoration-color: #00af00\">0</span>][<span style=\"color: #00af00; text-decoration-color: #00af00\">0</span>]   │\n",
              "│ (<span style=\"color: #0087ff; text-decoration-color: #0087ff\">Dense</span>)             │                   │            │                   │\n",
              "└─────────────────────┴───────────────────┴────────────┴───────────────────┘\n",
              "</pre>\n"
            ],
            "text/plain": [
              "┏━━━━━━━━━━━━━━━━━━━━━┳━━━━━━━━━━━━━━━━━━━┳━━━━━━━━━━━━┳━━━━━━━━━━━━━━━━━━━┓\n",
              "┃\u001b[1m \u001b[0m\u001b[1mLayer (type)       \u001b[0m\u001b[1m \u001b[0m┃\u001b[1m \u001b[0m\u001b[1mOutput Shape     \u001b[0m\u001b[1m \u001b[0m┃\u001b[1m \u001b[0m\u001b[1m   Param #\u001b[0m\u001b[1m \u001b[0m┃\u001b[1m \u001b[0m\u001b[1mConnected to     \u001b[0m\u001b[1m \u001b[0m┃\n",
              "┡━━━━━━━━━━━━━━━━━━━━━╇━━━━━━━━━━━━━━━━━━━╇━━━━━━━━━━━━╇━━━━━━━━━━━━━━━━━━━┩\n",
              "│ Drug1_SMILES        │ (\u001b[38;5;45mNone\u001b[0m, \u001b[38;5;34m127\u001b[0m)       │          \u001b[38;5;34m0\u001b[0m │ -                 │\n",
              "│ (\u001b[38;5;33mInputLayer\u001b[0m)        │                   │            │                   │\n",
              "├─────────────────────┼───────────────────┼────────────┼───────────────────┤\n",
              "│ Drug2_SMILES        │ (\u001b[38;5;45mNone\u001b[0m, \u001b[38;5;34m127\u001b[0m)       │          \u001b[38;5;34m0\u001b[0m │ -                 │\n",
              "│ (\u001b[38;5;33mInputLayer\u001b[0m)        │                   │            │                   │\n",
              "├─────────────────────┼───────────────────┼────────────┼───────────────────┤\n",
              "│ embedding           │ (\u001b[38;5;45mNone\u001b[0m, \u001b[38;5;34m127\u001b[0m, \u001b[38;5;34m128\u001b[0m)  │      \u001b[38;5;34m3,840\u001b[0m │ Drug1_SMILES[\u001b[38;5;34m0\u001b[0m][\u001b[38;5;34m…\u001b[0m │\n",
              "│ (\u001b[38;5;33mEmbedding\u001b[0m)         │                   │            │                   │\n",
              "├─────────────────────┼───────────────────┼────────────┼───────────────────┤\n",
              "│ embedding_1         │ (\u001b[38;5;45mNone\u001b[0m, \u001b[38;5;34m127\u001b[0m, \u001b[38;5;34m128\u001b[0m)  │      \u001b[38;5;34m3,968\u001b[0m │ Drug2_SMILES[\u001b[38;5;34m0\u001b[0m][\u001b[38;5;34m…\u001b[0m │\n",
              "│ (\u001b[38;5;33mEmbedding\u001b[0m)         │                   │            │                   │\n",
              "├─────────────────────┼───────────────────┼────────────┼───────────────────┤\n",
              "│ lstm (\u001b[38;5;33mLSTM\u001b[0m)         │ (\u001b[38;5;45mNone\u001b[0m, \u001b[38;5;34m127\u001b[0m, \u001b[38;5;34m128\u001b[0m)  │    \u001b[38;5;34m131,584\u001b[0m │ embedding[\u001b[38;5;34m0\u001b[0m][\u001b[38;5;34m0\u001b[0m]   │\n",
              "├─────────────────────┼───────────────────┼────────────┼───────────────────┤\n",
              "│ lstm_1 (\u001b[38;5;33mLSTM\u001b[0m)       │ (\u001b[38;5;45mNone\u001b[0m, \u001b[38;5;34m127\u001b[0m, \u001b[38;5;34m128\u001b[0m)  │    \u001b[38;5;34m131,584\u001b[0m │ embedding_1[\u001b[38;5;34m0\u001b[0m][\u001b[38;5;34m0\u001b[0m] │\n",
              "├─────────────────────┼───────────────────┼────────────┼───────────────────┤\n",
              "│ global_max_pooling… │ (\u001b[38;5;45mNone\u001b[0m, \u001b[38;5;34m128\u001b[0m)       │          \u001b[38;5;34m0\u001b[0m │ lstm[\u001b[38;5;34m0\u001b[0m][\u001b[38;5;34m0\u001b[0m]        │\n",
              "│ (\u001b[38;5;33mGlobalMaxPooling1…\u001b[0m │                   │            │                   │\n",
              "├─────────────────────┼───────────────────┼────────────┼───────────────────┤\n",
              "│ global_max_pooling… │ (\u001b[38;5;45mNone\u001b[0m, \u001b[38;5;34m128\u001b[0m)       │          \u001b[38;5;34m0\u001b[0m │ lstm_1[\u001b[38;5;34m0\u001b[0m][\u001b[38;5;34m0\u001b[0m]      │\n",
              "│ (\u001b[38;5;33mGlobalMaxPooling1…\u001b[0m │                   │            │                   │\n",
              "├─────────────────────┼───────────────────┼────────────┼───────────────────┤\n",
              "│ concatenate         │ (\u001b[38;5;45mNone\u001b[0m, \u001b[38;5;34m256\u001b[0m)       │          \u001b[38;5;34m0\u001b[0m │ global_max_pooli… │\n",
              "│ (\u001b[38;5;33mConcatenate\u001b[0m)       │                   │            │ global_max_pooli… │\n",
              "├─────────────────────┼───────────────────┼────────────┼───────────────────┤\n",
              "│ Genomic_Descriptors │ (\u001b[38;5;45mNone\u001b[0m, \u001b[38;5;34m8777\u001b[0m)      │          \u001b[38;5;34m0\u001b[0m │ -                 │\n",
              "│ (\u001b[38;5;33mInputLayer\u001b[0m)        │                   │            │                   │\n",
              "├─────────────────────┼───────────────────┼────────────┼───────────────────┤\n",
              "│ dense (\u001b[38;5;33mDense\u001b[0m)       │ (\u001b[38;5;45mNone\u001b[0m, \u001b[38;5;34m128\u001b[0m)       │     \u001b[38;5;34m32,896\u001b[0m │ concatenate[\u001b[38;5;34m0\u001b[0m][\u001b[38;5;34m0\u001b[0m] │\n",
              "├─────────────────────┼───────────────────┼────────────┼───────────────────┤\n",
              "│ dense_1 (\u001b[38;5;33mDense\u001b[0m)     │ (\u001b[38;5;45mNone\u001b[0m, \u001b[38;5;34m128\u001b[0m)       │  \u001b[38;5;34m1,123,584\u001b[0m │ Genomic_Descript… │\n",
              "├─────────────────────┼───────────────────┼────────────┼───────────────────┤\n",
              "│ concatenate_1       │ (\u001b[38;5;45mNone\u001b[0m, \u001b[38;5;34m256\u001b[0m)       │          \u001b[38;5;34m0\u001b[0m │ dense[\u001b[38;5;34m0\u001b[0m][\u001b[38;5;34m0\u001b[0m],      │\n",
              "│ (\u001b[38;5;33mConcatenate\u001b[0m)       │                   │            │ dense_1[\u001b[38;5;34m0\u001b[0m][\u001b[38;5;34m0\u001b[0m]     │\n",
              "├─────────────────────┼───────────────────┼────────────┼───────────────────┤\n",
              "│ dense_2 (\u001b[38;5;33mDense\u001b[0m)     │ (\u001b[38;5;45mNone\u001b[0m, \u001b[38;5;34m256\u001b[0m)       │     \u001b[38;5;34m65,792\u001b[0m │ concatenate_1[\u001b[38;5;34m0\u001b[0m]… │\n",
              "├─────────────────────┼───────────────────┼────────────┼───────────────────┤\n",
              "│ dropout (\u001b[38;5;33mDropout\u001b[0m)   │ (\u001b[38;5;45mNone\u001b[0m, \u001b[38;5;34m256\u001b[0m)       │          \u001b[38;5;34m0\u001b[0m │ dense_2[\u001b[38;5;34m0\u001b[0m][\u001b[38;5;34m0\u001b[0m]     │\n",
              "├─────────────────────┼───────────────────┼────────────┼───────────────────┤\n",
              "│ dense_3 (\u001b[38;5;33mDense\u001b[0m)     │ (\u001b[38;5;45mNone\u001b[0m, \u001b[38;5;34m128\u001b[0m)       │     \u001b[38;5;34m32,896\u001b[0m │ dropout[\u001b[38;5;34m0\u001b[0m][\u001b[38;5;34m0\u001b[0m]     │\n",
              "├─────────────────────┼───────────────────┼────────────┼───────────────────┤\n",
              "│ dropout_1 (\u001b[38;5;33mDropout\u001b[0m) │ (\u001b[38;5;45mNone\u001b[0m, \u001b[38;5;34m128\u001b[0m)       │          \u001b[38;5;34m0\u001b[0m │ dense_3[\u001b[38;5;34m0\u001b[0m][\u001b[38;5;34m0\u001b[0m]     │\n",
              "├─────────────────────┼───────────────────┼────────────┼───────────────────┤\n",
              "│ Synergy_Score_Outp… │ (\u001b[38;5;45mNone\u001b[0m, \u001b[38;5;34m1\u001b[0m)         │        \u001b[38;5;34m129\u001b[0m │ dropout_1[\u001b[38;5;34m0\u001b[0m][\u001b[38;5;34m0\u001b[0m]   │\n",
              "│ (\u001b[38;5;33mDense\u001b[0m)             │                   │            │                   │\n",
              "└─────────────────────┴───────────────────┴────────────┴───────────────────┘\n"
            ]
          },
          "metadata": {},
          "output_type": "display_data"
        },
        {
          "data": {
            "text/html": [
              "<pre style=\"white-space:pre;overflow-x:auto;line-height:normal;font-family:Menlo,'DejaVu Sans Mono',consolas,'Courier New',monospace\"><span style=\"font-weight: bold\"> Total params: </span><span style=\"color: #00af00; text-decoration-color: #00af00\">1,526,273</span> (5.82 MB)\n",
              "</pre>\n"
            ],
            "text/plain": [
              "\u001b[1m Total params: \u001b[0m\u001b[38;5;34m1,526,273\u001b[0m (5.82 MB)\n"
            ]
          },
          "metadata": {},
          "output_type": "display_data"
        },
        {
          "data": {
            "text/html": [
              "<pre style=\"white-space:pre;overflow-x:auto;line-height:normal;font-family:Menlo,'DejaVu Sans Mono',consolas,'Courier New',monospace\"><span style=\"font-weight: bold\"> Trainable params: </span><span style=\"color: #00af00; text-decoration-color: #00af00\">1,526,273</span> (5.82 MB)\n",
              "</pre>\n"
            ],
            "text/plain": [
              "\u001b[1m Trainable params: \u001b[0m\u001b[38;5;34m1,526,273\u001b[0m (5.82 MB)\n"
            ]
          },
          "metadata": {},
          "output_type": "display_data"
        },
        {
          "data": {
            "text/html": [
              "<pre style=\"white-space:pre;overflow-x:auto;line-height:normal;font-family:Menlo,'DejaVu Sans Mono',consolas,'Courier New',monospace\"><span style=\"font-weight: bold\"> Non-trainable params: </span><span style=\"color: #00af00; text-decoration-color: #00af00\">0</span> (0.00 B)\n",
              "</pre>\n"
            ],
            "text/plain": [
              "\u001b[1m Non-trainable params: \u001b[0m\u001b[38;5;34m0\u001b[0m (0.00 B)\n"
            ]
          },
          "metadata": {},
          "output_type": "display_data"
        }
      ],
      "source": [
        "rnn_model = build_rnn_smiles_model(max_characters, vocab_size_drug1, vocab_size_drug2, genomic_features_size)\n",
        "rnn_model.summary()"
      ]
    },
    {
      "cell_type": "code",
      "execution_count": 31,
      "metadata": {
        "id": "Juq1pKRXIQTy"
      },
      "outputs": [],
      "source": [
        "# Define callbacks\n",
        "\n",
        "# Stop training when the validation loss stops improving\n",
        "early_stopping = EarlyStopping(monitor='val_loss', patience=5, mode='min')\n",
        "model_checkpoint = ModelCheckpoint(filepath='best_model_rnn.keras', monitor='val_loss', save_best_only=True)"
      ]
    },
    {
      "cell_type": "code",
      "execution_count": 32,
      "metadata": {
        "id": "55LGQ5wDIlfA"
      },
      "outputs": [],
      "source": [
        "# for reproducibility purposes we will fix the random seed\n",
        "\n",
        "# Set a random seed\n",
        "np.random.seed(24)\n",
        "tf.random.set_seed(24)"
      ]
    },
    {
      "cell_type": "code",
      "execution_count": 33,
      "metadata": {
        "id": "co46qiFEImBl"
      },
      "outputs": [
        {
          "name": "stdout",
          "output_type": "stream",
          "text": [
            "Epoch 1/100\n",
            "\u001b[1m116/116\u001b[0m \u001b[32m━━━━━━━━━━━━━━━━━━━━\u001b[0m\u001b[37m\u001b[0m \u001b[1m86s\u001b[0m 651ms/step - loss: 1.9369 - mae: 0.9640 - mse: 1.9369 - val_loss: 1.0471 - val_mae: 0.6670 - val_mse: 1.0471\n",
            "Epoch 2/100\n",
            "\u001b[1m116/116\u001b[0m \u001b[32m━━━━━━━━━━━━━━━━━━━━\u001b[0m\u001b[37m\u001b[0m \u001b[1m69s\u001b[0m 595ms/step - loss: 0.8505 - mae: 0.6033 - mse: 0.8505 - val_loss: 1.0202 - val_mae: 0.6647 - val_mse: 1.0202\n",
            "Epoch 3/100\n",
            "\u001b[1m116/116\u001b[0m \u001b[32m━━━━━━━━━━━━━━━━━━━━\u001b[0m\u001b[37m\u001b[0m \u001b[1m67s\u001b[0m 575ms/step - loss: 0.7729 - mae: 0.5644 - mse: 0.7729 - val_loss: 0.9993 - val_mae: 0.6615 - val_mse: 0.9993\n",
            "Epoch 4/100\n",
            "\u001b[1m116/116\u001b[0m \u001b[32m━━━━━━━━━━━━━━━━━━━━\u001b[0m\u001b[37m\u001b[0m \u001b[1m69s\u001b[0m 592ms/step - loss: 0.7247 - mae: 0.5465 - mse: 0.7247 - val_loss: 0.9651 - val_mae: 0.6433 - val_mse: 0.9651\n",
            "Epoch 5/100\n",
            "\u001b[1m116/116\u001b[0m \u001b[32m━━━━━━━━━━━━━━━━━━━━\u001b[0m\u001b[37m\u001b[0m \u001b[1m66s\u001b[0m 565ms/step - loss: 0.6889 - mae: 0.5257 - mse: 0.6889 - val_loss: 0.9742 - val_mae: 0.6512 - val_mse: 0.9742\n",
            "Epoch 6/100\n",
            "\u001b[1m116/116\u001b[0m \u001b[32m━━━━━━━━━━━━━━━━━━━━\u001b[0m\u001b[37m\u001b[0m \u001b[1m73s\u001b[0m 633ms/step - loss: 0.6492 - mae: 0.5152 - mse: 0.6492 - val_loss: 1.0633 - val_mae: 0.6948 - val_mse: 1.0633\n",
            "Epoch 7/100\n",
            "\u001b[1m116/116\u001b[0m \u001b[32m━━━━━━━━━━━━━━━━━━━━\u001b[0m\u001b[37m\u001b[0m \u001b[1m72s\u001b[0m 617ms/step - loss: 0.6277 - mae: 0.5054 - mse: 0.6277 - val_loss: 1.0400 - val_mae: 0.6850 - val_mse: 1.0400\n",
            "Epoch 8/100\n",
            "\u001b[1m116/116\u001b[0m \u001b[32m━━━━━━━━━━━━━━━━━━━━\u001b[0m\u001b[37m\u001b[0m \u001b[1m68s\u001b[0m 583ms/step - loss: 0.6008 - mae: 0.4975 - mse: 0.6008 - val_loss: 1.0396 - val_mae: 0.6891 - val_mse: 1.0396\n",
            "Epoch 9/100\n",
            "\u001b[1m116/116\u001b[0m \u001b[32m━━━━━━━━━━━━━━━━━━━━\u001b[0m\u001b[37m\u001b[0m \u001b[1m71s\u001b[0m 611ms/step - loss: 0.6119 - mae: 0.4984 - mse: 0.6119 - val_loss: 1.0458 - val_mae: 0.6907 - val_mse: 1.0458\n"
          ]
        }
      ],
      "source": [
        "# Train the model\n",
        "history = rnn_model.fit([x_train_drug1, x_train_drug2, genomic_features_train], y_train,\n",
        "                    epochs=100, batch_size=128,\n",
        "                    callbacks=[early_stopping, model_checkpoint],\n",
        "                    validation_split=0.2)"
      ]
    },
    {
      "cell_type": "code",
      "execution_count": null,
      "metadata": {
        "id": "Wf03llJmI7n0"
      },
      "outputs": [
        {
          "data": {
            "image/png": "[encoded data removed]",
            "text/plain": [
              "<Figure size 640x480 with 1 Axes>"
            ]
          },
          "metadata": {},
          "output_type": "display_data"
        }
      ],
      "source": [
        "# plot the training and validation loss\n",
        "plt.plot(history.history['loss'], label='Training loss')\n",
        "plt.plot(history.history['val_loss'], label='Validation loss')\n",
        "plt.xlabel('Epoch')\n",
        "plt.ylabel('Loss')\n",
        "plt.legend()\n",
        "plt.show()"
      ]
    },
    {
      "cell_type": "markdown",
      "metadata": {},
      "source": [
        "Analyzing the graph above we can clearly see a great difference between the training loss and the validation loss curves, with the validation loss curve being relatively constant and higher than the training loss curve. This is a clear trend of overfitting, evidenced by the rising validation loss over epochs. This may be due to the model larger architecture causing a high number of parameters, increasing the risk of overfitting on the training data, leading to better performance on training but poor generalization to validation data."
      ]
    },
    {
      "cell_type": "code",
      "execution_count": null,
      "metadata": {
        "id": "A4YWZhWhI9a5"
      },
      "outputs": [
        {
          "name": "stdout",
          "output_type": "stream",
          "text": [
            "\u001b[1m145/145\u001b[0m \u001b[32m━━━━━━━━━━━━━━━━━━━━\u001b[0m\u001b[37m\u001b[0m \u001b[1m11s\u001b[0m 76ms/step - loss: 0.6570 - mae: 0.5290 - mse: 0.6570\n"
          ]
        },
        {
          "data": {
            "text/plain": [
              "(0.7798734903335571, 0.7798734903335571, 0.5725147724151611)"
            ]
          },
          "execution_count": 39,
          "metadata": {},
          "output_type": "execute_result"
        }
      ],
      "source": [
        "# load the best model\n",
        "rnn_model.load_weights('best_model_rnn.keras')\n",
        "\n",
        "# Evaluate the model on the test set\n",
        "loss, mse, mae = rnn_model.evaluate([x_test_drug1, x_test_drug2, genomic_features_test], y_test)\n",
        "loss, mse, mae"
      ]
    },
    {
      "cell_type": "markdown",
      "metadata": {},
      "source": [
        "Here we can visualize the scores for our model on the test set, resulting in too high values of MSE (0.780) when compared to literature (255.49)."
      ]
    },
    {
      "cell_type": "code",
      "execution_count": 36,
      "metadata": {
        "id": "1YCn82woNUkY"
      },
      "outputs": [
        {
          "name": "stdout",
          "output_type": "stream",
          "text": [
            "\u001b[1m145/145\u001b[0m \u001b[32m━━━━━━━━━━━━━━━━━━━━\u001b[0m\u001b[37m\u001b[0m \u001b[1m12s\u001b[0m 81ms/step\n"
          ]
        },
        {
          "data": {
            "image/png": "[encoded data removed]",
            "text/plain": [
              "<Figure size 640x480 with 1 Axes>"
            ]
          },
          "metadata": {},
          "output_type": "display_data"
        }
      ],
      "source": [
        "# plot the predicted vs. true y values\n",
        "y_pred = rnn_model.predict([x_test_drug1, x_test_drug2, genomic_features_test])\n",
        "plt.scatter(y_test, y_pred, alpha=0.3)\n",
        "plt.plot([-1, 5], [-1, 5], color='red', linestyle='-', linewidth=2)\n",
        "plt.xlabel('True y')\n",
        "plt.ylabel('Predicted y')\n",
        "plt.xlim(-2, 5)\n",
        "plt.show()"
      ]
    },
    {
      "cell_type": "code",
      "execution_count": null,
      "metadata": {
        "id": "9yExPUrNNWHA"
      },
      "outputs": [
        {
          "data": {
            "image/png": "[encoded data removed]",
            "text/plain": [
              "<Figure size 640x480 with 1 Axes>"
            ]
          },
          "metadata": {},
          "output_type": "display_data"
        }
      ],
      "source": [
        "# plot distribution of y_train\n",
        "plt.hist(y_train, bins=100)\n",
        "plt.xlabel(\"Experimental value\")\n",
        "plt.ylabel(\"Frequency\")\n",
        "plt.xlim(-10, 10)\n",
        "plt.show()"
      ]
    },
    {
      "cell_type": "code",
      "execution_count": 38,
      "metadata": {
        "id": "0I_gX-GDNWhr"
      },
      "outputs": [],
      "source": [
        "# save the model and tokenizer\n",
        "rnn_model.save('rnn_model.keras')\n",
        "with open('tokenizer_drug1.pickle', 'wb') as handle:\n",
        "    pickle.dump(tokenizer_drug1, handle)\n",
        "with open('tokenizer_drug2.pickle', 'wb') as handle:\n",
        "    pickle.dump(tokenizer_drug2, handle)"
      ]
    },
    {
      "cell_type": "markdown",
      "metadata": {
        "id": "6IJyQ022IgyR"
      },
      "source": [
        "## CNN"
      ]
    },
    {
      "cell_type": "code",
      "execution_count": 40,
      "metadata": {
        "id": "NJRnlGpCEE3M"
      },
      "outputs": [],
      "source": [
        "def build_cnn_smiles_model(max_len, vocab_size_drug1, vocab_size_drug2, genomic_features_size):\n",
        "    # Drug1 SMILES input\n",
        "    input_drug1 = Input(shape=(max_len,), name=\"Drug1_SMILES\")\n",
        "    embedding_drug1 = Embedding(input_dim=vocab_size_drug1, output_dim=128, input_length=max_len)(input_drug1)\n",
        "    cnn_drug1 = Conv1D(64, kernel_size=3, activation=\"relu\")(embedding_drug1)\n",
        "    pooled_drug1 = GlobalMaxPooling1D()(cnn_drug1)\n",
        "\n",
        "    # Drug2 SMILES input\n",
        "    input_drug2 = Input(shape=(max_len,), name=\"Drug2_SMILES\")\n",
        "    embedding_drug2 = Embedding(input_dim=vocab_size_drug2, output_dim=128, input_length=max_len)(input_drug2)\n",
        "    cnn_drug2 = Conv1D(64, kernel_size=3, activation=\"relu\")(embedding_drug2)\n",
        "    pooled_drug2 = GlobalMaxPooling1D()(cnn_drug2)\n",
        "\n",
        "    # Combine Drug1 and Drug2 features\n",
        "    combined_smiles = Concatenate()([pooled_drug1, pooled_drug2])\n",
        "    smiles_dense = Dense(128, activation=\"relu\")(combined_smiles)\n",
        "\n",
        "    # Define genomic descriptor input\n",
        "    input_genomic = Input(shape=(genomic_features_size,), name=\"Genomic_Descriptors\")\n",
        "    genomic_dense = Dense(128, activation=\"relu\")(input_genomic)\n",
        "\n",
        "    # Combine SMILES and genomic descriptors\n",
        "    combined_all = Concatenate()([smiles_dense, genomic_dense])\n",
        "\n",
        "    # Fully connected layers\n",
        "    dense1 = Dense(256, activation=\"relu\")(combined_all)\n",
        "    dropout1 = Dropout(0.3)(dense1)\n",
        "    dense2 = Dense(128, activation=\"relu\")(dropout1)\n",
        "    dropout2 = Dropout(0.3)(dense2)\n",
        "\n",
        "    # Output layer for regression\n",
        "    output = Dense(1, activation=\"linear\", name=\"Synergy_Score_Output\")(dropout2)\n",
        "\n",
        "    # Model definition\n",
        "    model = Model(inputs=[input_drug1, input_drug2, input_genomic], outputs=output)\n",
        "    model.compile(optimizer=Adam(learning_rate=0.001), loss=\"mean_squared_error\", metrics=[\"mse\", \"mae\"])\n",
        "\n",
        "    return model"
      ]
    },
    {
      "cell_type": "code",
      "execution_count": 41,
      "metadata": {
        "id": "8AytvN3AHnCI"
      },
      "outputs": [
        {
          "data": {
            "text/html": [
              "<pre style=\"white-space:pre;overflow-x:auto;line-height:normal;font-family:Menlo,'DejaVu Sans Mono',consolas,'Courier New',monospace\"><span style=\"font-weight: bold\">Model: \"functional_1\"</span>\n",
              "</pre>\n"
            ],
            "text/plain": [
              "\u001b[1mModel: \"functional_1\"\u001b[0m\n"
            ]
          },
          "metadata": {},
          "output_type": "display_data"
        },
        {
          "data": {
            "text/html": [
              "<pre style=\"white-space:pre;overflow-x:auto;line-height:normal;font-family:Menlo,'DejaVu Sans Mono',consolas,'Courier New',monospace\">┏━━━━━━━━━━━━━━━━━━━━━┳━━━━━━━━━━━━━━━━━━━┳━━━━━━━━━━━━┳━━━━━━━━━━━━━━━━━━━┓\n",
              "┃<span style=\"font-weight: bold\"> Layer (type)        </span>┃<span style=\"font-weight: bold\"> Output Shape      </span>┃<span style=\"font-weight: bold\">    Param # </span>┃<span style=\"font-weight: bold\"> Connected to      </span>┃\n",
              "┡━━━━━━━━━━━━━━━━━━━━━╇━━━━━━━━━━━━━━━━━━━╇━━━━━━━━━━━━╇━━━━━━━━━━━━━━━━━━━┩\n",
              "│ Drug1_SMILES        │ (<span style=\"color: #00d7ff; text-decoration-color: #00d7ff\">None</span>, <span style=\"color: #00af00; text-decoration-color: #00af00\">127</span>)       │          <span style=\"color: #00af00; text-decoration-color: #00af00\">0</span> │ -                 │\n",
              "│ (<span style=\"color: #0087ff; text-decoration-color: #0087ff\">InputLayer</span>)        │                   │            │                   │\n",
              "├─────────────────────┼───────────────────┼────────────┼───────────────────┤\n",
              "│ Drug2_SMILES        │ (<span style=\"color: #00d7ff; text-decoration-color: #00d7ff\">None</span>, <span style=\"color: #00af00; text-decoration-color: #00af00\">127</span>)       │          <span style=\"color: #00af00; text-decoration-color: #00af00\">0</span> │ -                 │\n",
              "│ (<span style=\"color: #0087ff; text-decoration-color: #0087ff\">InputLayer</span>)        │                   │            │                   │\n",
              "├─────────────────────┼───────────────────┼────────────┼───────────────────┤\n",
              "│ embedding_2         │ (<span style=\"color: #00d7ff; text-decoration-color: #00d7ff\">None</span>, <span style=\"color: #00af00; text-decoration-color: #00af00\">127</span>, <span style=\"color: #00af00; text-decoration-color: #00af00\">128</span>)  │      <span style=\"color: #00af00; text-decoration-color: #00af00\">3,840</span> │ Drug1_SMILES[<span style=\"color: #00af00; text-decoration-color: #00af00\">0</span>][<span style=\"color: #00af00; text-decoration-color: #00af00\">…</span> │\n",
              "│ (<span style=\"color: #0087ff; text-decoration-color: #0087ff\">Embedding</span>)         │                   │            │                   │\n",
              "├─────────────────────┼───────────────────┼────────────┼───────────────────┤\n",
              "│ embedding_3         │ (<span style=\"color: #00d7ff; text-decoration-color: #00d7ff\">None</span>, <span style=\"color: #00af00; text-decoration-color: #00af00\">127</span>, <span style=\"color: #00af00; text-decoration-color: #00af00\">128</span>)  │      <span style=\"color: #00af00; text-decoration-color: #00af00\">3,968</span> │ Drug2_SMILES[<span style=\"color: #00af00; text-decoration-color: #00af00\">0</span>][<span style=\"color: #00af00; text-decoration-color: #00af00\">…</span> │\n",
              "│ (<span style=\"color: #0087ff; text-decoration-color: #0087ff\">Embedding</span>)         │                   │            │                   │\n",
              "├─────────────────────┼───────────────────┼────────────┼───────────────────┤\n",
              "│ conv1d (<span style=\"color: #0087ff; text-decoration-color: #0087ff\">Conv1D</span>)     │ (<span style=\"color: #00d7ff; text-decoration-color: #00d7ff\">None</span>, <span style=\"color: #00af00; text-decoration-color: #00af00\">125</span>, <span style=\"color: #00af00; text-decoration-color: #00af00\">64</span>)   │     <span style=\"color: #00af00; text-decoration-color: #00af00\">24,640</span> │ embedding_2[<span style=\"color: #00af00; text-decoration-color: #00af00\">0</span>][<span style=\"color: #00af00; text-decoration-color: #00af00\">0</span>] │\n",
              "├─────────────────────┼───────────────────┼────────────┼───────────────────┤\n",
              "│ conv1d_1 (<span style=\"color: #0087ff; text-decoration-color: #0087ff\">Conv1D</span>)   │ (<span style=\"color: #00d7ff; text-decoration-color: #00d7ff\">None</span>, <span style=\"color: #00af00; text-decoration-color: #00af00\">125</span>, <span style=\"color: #00af00; text-decoration-color: #00af00\">64</span>)   │     <span style=\"color: #00af00; text-decoration-color: #00af00\">24,640</span> │ embedding_3[<span style=\"color: #00af00; text-decoration-color: #00af00\">0</span>][<span style=\"color: #00af00; text-decoration-color: #00af00\">0</span>] │\n",
              "├─────────────────────┼───────────────────┼────────────┼───────────────────┤\n",
              "│ global_max_pooling… │ (<span style=\"color: #00d7ff; text-decoration-color: #00d7ff\">None</span>, <span style=\"color: #00af00; text-decoration-color: #00af00\">64</span>)        │          <span style=\"color: #00af00; text-decoration-color: #00af00\">0</span> │ conv1d[<span style=\"color: #00af00; text-decoration-color: #00af00\">0</span>][<span style=\"color: #00af00; text-decoration-color: #00af00\">0</span>]      │\n",
              "│ (<span style=\"color: #0087ff; text-decoration-color: #0087ff\">GlobalMaxPooling1…</span> │                   │            │                   │\n",
              "├─────────────────────┼───────────────────┼────────────┼───────────────────┤\n",
              "│ global_max_pooling… │ (<span style=\"color: #00d7ff; text-decoration-color: #00d7ff\">None</span>, <span style=\"color: #00af00; text-decoration-color: #00af00\">64</span>)        │          <span style=\"color: #00af00; text-decoration-color: #00af00\">0</span> │ conv1d_1[<span style=\"color: #00af00; text-decoration-color: #00af00\">0</span>][<span style=\"color: #00af00; text-decoration-color: #00af00\">0</span>]    │\n",
              "│ (<span style=\"color: #0087ff; text-decoration-color: #0087ff\">GlobalMaxPooling1…</span> │                   │            │                   │\n",
              "├─────────────────────┼───────────────────┼────────────┼───────────────────┤\n",
              "│ concatenate_2       │ (<span style=\"color: #00d7ff; text-decoration-color: #00d7ff\">None</span>, <span style=\"color: #00af00; text-decoration-color: #00af00\">128</span>)       │          <span style=\"color: #00af00; text-decoration-color: #00af00\">0</span> │ global_max_pooli… │\n",
              "│ (<span style=\"color: #0087ff; text-decoration-color: #0087ff\">Concatenate</span>)       │                   │            │ global_max_pooli… │\n",
              "├─────────────────────┼───────────────────┼────────────┼───────────────────┤\n",
              "│ Genomic_Descriptors │ (<span style=\"color: #00d7ff; text-decoration-color: #00d7ff\">None</span>, <span style=\"color: #00af00; text-decoration-color: #00af00\">8777</span>)      │          <span style=\"color: #00af00; text-decoration-color: #00af00\">0</span> │ -                 │\n",
              "│ (<span style=\"color: #0087ff; text-decoration-color: #0087ff\">InputLayer</span>)        │                   │            │                   │\n",
              "├─────────────────────┼───────────────────┼────────────┼───────────────────┤\n",
              "│ dense_4 (<span style=\"color: #0087ff; text-decoration-color: #0087ff\">Dense</span>)     │ (<span style=\"color: #00d7ff; text-decoration-color: #00d7ff\">None</span>, <span style=\"color: #00af00; text-decoration-color: #00af00\">128</span>)       │     <span style=\"color: #00af00; text-decoration-color: #00af00\">16,512</span> │ concatenate_2[<span style=\"color: #00af00; text-decoration-color: #00af00\">0</span>]… │\n",
              "├─────────────────────┼───────────────────┼────────────┼───────────────────┤\n",
              "│ dense_5 (<span style=\"color: #0087ff; text-decoration-color: #0087ff\">Dense</span>)     │ (<span style=\"color: #00d7ff; text-decoration-color: #00d7ff\">None</span>, <span style=\"color: #00af00; text-decoration-color: #00af00\">128</span>)       │  <span style=\"color: #00af00; text-decoration-color: #00af00\">1,123,584</span> │ Genomic_Descript… │\n",
              "├─────────────────────┼───────────────────┼────────────┼───────────────────┤\n",
              "│ concatenate_3       │ (<span style=\"color: #00d7ff; text-decoration-color: #00d7ff\">None</span>, <span style=\"color: #00af00; text-decoration-color: #00af00\">256</span>)       │          <span style=\"color: #00af00; text-decoration-color: #00af00\">0</span> │ dense_4[<span style=\"color: #00af00; text-decoration-color: #00af00\">0</span>][<span style=\"color: #00af00; text-decoration-color: #00af00\">0</span>],    │\n",
              "│ (<span style=\"color: #0087ff; text-decoration-color: #0087ff\">Concatenate</span>)       │                   │            │ dense_5[<span style=\"color: #00af00; text-decoration-color: #00af00\">0</span>][<span style=\"color: #00af00; text-decoration-color: #00af00\">0</span>]     │\n",
              "├─────────────────────┼───────────────────┼────────────┼───────────────────┤\n",
              "│ dense_6 (<span style=\"color: #0087ff; text-decoration-color: #0087ff\">Dense</span>)     │ (<span style=\"color: #00d7ff; text-decoration-color: #00d7ff\">None</span>, <span style=\"color: #00af00; text-decoration-color: #00af00\">256</span>)       │     <span style=\"color: #00af00; text-decoration-color: #00af00\">65,792</span> │ concatenate_3[<span style=\"color: #00af00; text-decoration-color: #00af00\">0</span>]… │\n",
              "├─────────────────────┼───────────────────┼────────────┼───────────────────┤\n",
              "│ dropout_2 (<span style=\"color: #0087ff; text-decoration-color: #0087ff\">Dropout</span>) │ (<span style=\"color: #00d7ff; text-decoration-color: #00d7ff\">None</span>, <span style=\"color: #00af00; text-decoration-color: #00af00\">256</span>)       │          <span style=\"color: #00af00; text-decoration-color: #00af00\">0</span> │ dense_6[<span style=\"color: #00af00; text-decoration-color: #00af00\">0</span>][<span style=\"color: #00af00; text-decoration-color: #00af00\">0</span>]     │\n",
              "├─────────────────────┼───────────────────┼────────────┼───────────────────┤\n",
              "│ dense_7 (<span style=\"color: #0087ff; text-decoration-color: #0087ff\">Dense</span>)     │ (<span style=\"color: #00d7ff; text-decoration-color: #00d7ff\">None</span>, <span style=\"color: #00af00; text-decoration-color: #00af00\">128</span>)       │     <span style=\"color: #00af00; text-decoration-color: #00af00\">32,896</span> │ dropout_2[<span style=\"color: #00af00; text-decoration-color: #00af00\">0</span>][<span style=\"color: #00af00; text-decoration-color: #00af00\">0</span>]   │\n",
              "├─────────────────────┼───────────────────┼────────────┼───────────────────┤\n",
              "│ dropout_3 (<span style=\"color: #0087ff; text-decoration-color: #0087ff\">Dropout</span>) │ (<span style=\"color: #00d7ff; text-decoration-color: #00d7ff\">None</span>, <span style=\"color: #00af00; text-decoration-color: #00af00\">128</span>)       │          <span style=\"color: #00af00; text-decoration-color: #00af00\">0</span> │ dense_7[<span style=\"color: #00af00; text-decoration-color: #00af00\">0</span>][<span style=\"color: #00af00; text-decoration-color: #00af00\">0</span>]     │\n",
              "├─────────────────────┼───────────────────┼────────────┼───────────────────┤\n",
              "│ Synergy_Score_Outp… │ (<span style=\"color: #00d7ff; text-decoration-color: #00d7ff\">None</span>, <span style=\"color: #00af00; text-decoration-color: #00af00\">1</span>)         │        <span style=\"color: #00af00; text-decoration-color: #00af00\">129</span> │ dropout_3[<span style=\"color: #00af00; text-decoration-color: #00af00\">0</span>][<span style=\"color: #00af00; text-decoration-color: #00af00\">0</span>]   │\n",
              "│ (<span style=\"color: #0087ff; text-decoration-color: #0087ff\">Dense</span>)             │                   │            │                   │\n",
              "└─────────────────────┴───────────────────┴────────────┴───────────────────┘\n",
              "</pre>\n"
            ],
            "text/plain": [
              "┏━━━━━━━━━━━━━━━━━━━━━┳━━━━━━━━━━━━━━━━━━━┳━━━━━━━━━━━━┳━━━━━━━━━━━━━━━━━━━┓\n",
              "┃\u001b[1m \u001b[0m\u001b[1mLayer (type)       \u001b[0m\u001b[1m \u001b[0m┃\u001b[1m \u001b[0m\u001b[1mOutput Shape     \u001b[0m\u001b[1m \u001b[0m┃\u001b[1m \u001b[0m\u001b[1m   Param #\u001b[0m\u001b[1m \u001b[0m┃\u001b[1m \u001b[0m\u001b[1mConnected to     \u001b[0m\u001b[1m \u001b[0m┃\n",
              "┡━━━━━━━━━━━━━━━━━━━━━╇━━━━━━━━━━━━━━━━━━━╇━━━━━━━━━━━━╇━━━━━━━━━━━━━━━━━━━┩\n",
              "│ Drug1_SMILES        │ (\u001b[38;5;45mNone\u001b[0m, \u001b[38;5;34m127\u001b[0m)       │          \u001b[38;5;34m0\u001b[0m │ -                 │\n",
              "│ (\u001b[38;5;33mInputLayer\u001b[0m)        │                   │            │                   │\n",
              "├─────────────────────┼───────────────────┼────────────┼───────────────────┤\n",
              "│ Drug2_SMILES        │ (\u001b[38;5;45mNone\u001b[0m, \u001b[38;5;34m127\u001b[0m)       │          \u001b[38;5;34m0\u001b[0m │ -                 │\n",
              "│ (\u001b[38;5;33mInputLayer\u001b[0m)        │                   │            │                   │\n",
              "├─────────────────────┼───────────────────┼────────────┼───────────────────┤\n",
              "│ embedding_2         │ (\u001b[38;5;45mNone\u001b[0m, \u001b[38;5;34m127\u001b[0m, \u001b[38;5;34m128\u001b[0m)  │      \u001b[38;5;34m3,840\u001b[0m │ Drug1_SMILES[\u001b[38;5;34m0\u001b[0m][\u001b[38;5;34m…\u001b[0m │\n",
              "│ (\u001b[38;5;33mEmbedding\u001b[0m)         │                   │            │                   │\n",
              "├─────────────────────┼───────────────────┼────────────┼───────────────────┤\n",
              "│ embedding_3         │ (\u001b[38;5;45mNone\u001b[0m, \u001b[38;5;34m127\u001b[0m, \u001b[38;5;34m128\u001b[0m)  │      \u001b[38;5;34m3,968\u001b[0m │ Drug2_SMILES[\u001b[38;5;34m0\u001b[0m][\u001b[38;5;34m…\u001b[0m │\n",
              "│ (\u001b[38;5;33mEmbedding\u001b[0m)         │                   │            │                   │\n",
              "├─────────────────────┼───────────────────┼────────────┼───────────────────┤\n",
              "│ conv1d (\u001b[38;5;33mConv1D\u001b[0m)     │ (\u001b[38;5;45mNone\u001b[0m, \u001b[38;5;34m125\u001b[0m, \u001b[38;5;34m64\u001b[0m)   │     \u001b[38;5;34m24,640\u001b[0m │ embedding_2[\u001b[38;5;34m0\u001b[0m][\u001b[38;5;34m0\u001b[0m] │\n",
              "├─────────────────────┼───────────────────┼────────────┼───────────────────┤\n",
              "│ conv1d_1 (\u001b[38;5;33mConv1D\u001b[0m)   │ (\u001b[38;5;45mNone\u001b[0m, \u001b[38;5;34m125\u001b[0m, \u001b[38;5;34m64\u001b[0m)   │     \u001b[38;5;34m24,640\u001b[0m │ embedding_3[\u001b[38;5;34m0\u001b[0m][\u001b[38;5;34m0\u001b[0m] │\n",
              "├─────────────────────┼───────────────────┼────────────┼───────────────────┤\n",
              "│ global_max_pooling… │ (\u001b[38;5;45mNone\u001b[0m, \u001b[38;5;34m64\u001b[0m)        │          \u001b[38;5;34m0\u001b[0m │ conv1d[\u001b[38;5;34m0\u001b[0m][\u001b[38;5;34m0\u001b[0m]      │\n",
              "│ (\u001b[38;5;33mGlobalMaxPooling1…\u001b[0m │                   │            │                   │\n",
              "├─────────────────────┼───────────────────┼────────────┼───────────────────┤\n",
              "│ global_max_pooling… │ (\u001b[38;5;45mNone\u001b[0m, \u001b[38;5;34m64\u001b[0m)        │          \u001b[38;5;34m0\u001b[0m │ conv1d_1[\u001b[38;5;34m0\u001b[0m][\u001b[38;5;34m0\u001b[0m]    │\n",
              "│ (\u001b[38;5;33mGlobalMaxPooling1…\u001b[0m │                   │            │                   │\n",
              "├─────────────────────┼───────────────────┼────────────┼───────────────────┤\n",
              "│ concatenate_2       │ (\u001b[38;5;45mNone\u001b[0m, \u001b[38;5;34m128\u001b[0m)       │          \u001b[38;5;34m0\u001b[0m │ global_max_pooli… │\n",
              "│ (\u001b[38;5;33mConcatenate\u001b[0m)       │                   │            │ global_max_pooli… │\n",
              "├─────────────────────┼───────────────────┼────────────┼───────────────────┤\n",
              "│ Genomic_Descriptors │ (\u001b[38;5;45mNone\u001b[0m, \u001b[38;5;34m8777\u001b[0m)      │          \u001b[38;5;34m0\u001b[0m │ -                 │\n",
              "│ (\u001b[38;5;33mInputLayer\u001b[0m)        │                   │            │                   │\n",
              "├─────────────────────┼───────────────────┼────────────┼───────────────────┤\n",
              "│ dense_4 (\u001b[38;5;33mDense\u001b[0m)     │ (\u001b[38;5;45mNone\u001b[0m, \u001b[38;5;34m128\u001b[0m)       │     \u001b[38;5;34m16,512\u001b[0m │ concatenate_2[\u001b[38;5;34m0\u001b[0m]… │\n",
              "├─────────────────────┼───────────────────┼────────────┼───────────────────┤\n",
              "│ dense_5 (\u001b[38;5;33mDense\u001b[0m)     │ (\u001b[38;5;45mNone\u001b[0m, \u001b[38;5;34m128\u001b[0m)       │  \u001b[38;5;34m1,123,584\u001b[0m │ Genomic_Descript… │\n",
              "├─────────────────────┼───────────────────┼────────────┼───────────────────┤\n",
              "│ concatenate_3       │ (\u001b[38;5;45mNone\u001b[0m, \u001b[38;5;34m256\u001b[0m)       │          \u001b[38;5;34m0\u001b[0m │ dense_4[\u001b[38;5;34m0\u001b[0m][\u001b[38;5;34m0\u001b[0m],    │\n",
              "│ (\u001b[38;5;33mConcatenate\u001b[0m)       │                   │            │ dense_5[\u001b[38;5;34m0\u001b[0m][\u001b[38;5;34m0\u001b[0m]     │\n",
              "├─────────────────────┼───────────────────┼────────────┼───────────────────┤\n",
              "│ dense_6 (\u001b[38;5;33mDense\u001b[0m)     │ (\u001b[38;5;45mNone\u001b[0m, \u001b[38;5;34m256\u001b[0m)       │     \u001b[38;5;34m65,792\u001b[0m │ concatenate_3[\u001b[38;5;34m0\u001b[0m]… │\n",
              "├─────────────────────┼───────────────────┼────────────┼───────────────────┤\n",
              "│ dropout_2 (\u001b[38;5;33mDropout\u001b[0m) │ (\u001b[38;5;45mNone\u001b[0m, \u001b[38;5;34m256\u001b[0m)       │          \u001b[38;5;34m0\u001b[0m │ dense_6[\u001b[38;5;34m0\u001b[0m][\u001b[38;5;34m0\u001b[0m]     │\n",
              "├─────────────────────┼───────────────────┼────────────┼───────────────────┤\n",
              "│ dense_7 (\u001b[38;5;33mDense\u001b[0m)     │ (\u001b[38;5;45mNone\u001b[0m, \u001b[38;5;34m128\u001b[0m)       │     \u001b[38;5;34m32,896\u001b[0m │ dropout_2[\u001b[38;5;34m0\u001b[0m][\u001b[38;5;34m0\u001b[0m]   │\n",
              "├─────────────────────┼───────────────────┼────────────┼───────────────────┤\n",
              "│ dropout_3 (\u001b[38;5;33mDropout\u001b[0m) │ (\u001b[38;5;45mNone\u001b[0m, \u001b[38;5;34m128\u001b[0m)       │          \u001b[38;5;34m0\u001b[0m │ dense_7[\u001b[38;5;34m0\u001b[0m][\u001b[38;5;34m0\u001b[0m]     │\n",
              "├─────────────────────┼───────────────────┼────────────┼───────────────────┤\n",
              "│ Synergy_Score_Outp… │ (\u001b[38;5;45mNone\u001b[0m, \u001b[38;5;34m1\u001b[0m)         │        \u001b[38;5;34m129\u001b[0m │ dropout_3[\u001b[38;5;34m0\u001b[0m][\u001b[38;5;34m0\u001b[0m]   │\n",
              "│ (\u001b[38;5;33mDense\u001b[0m)             │                   │            │                   │\n",
              "└─────────────────────┴───────────────────┴────────────┴───────────────────┘\n"
            ]
          },
          "metadata": {},
          "output_type": "display_data"
        },
        {
          "data": {
            "text/html": [
              "<pre style=\"white-space:pre;overflow-x:auto;line-height:normal;font-family:Menlo,'DejaVu Sans Mono',consolas,'Courier New',monospace\"><span style=\"font-weight: bold\"> Total params: </span><span style=\"color: #00af00; text-decoration-color: #00af00\">1,296,001</span> (4.94 MB)\n",
              "</pre>\n"
            ],
            "text/plain": [
              "\u001b[1m Total params: \u001b[0m\u001b[38;5;34m1,296,001\u001b[0m (4.94 MB)\n"
            ]
          },
          "metadata": {},
          "output_type": "display_data"
        },
        {
          "data": {
            "text/html": [
              "<pre style=\"white-space:pre;overflow-x:auto;line-height:normal;font-family:Menlo,'DejaVu Sans Mono',consolas,'Courier New',monospace\"><span style=\"font-weight: bold\"> Trainable params: </span><span style=\"color: #00af00; text-decoration-color: #00af00\">1,296,001</span> (4.94 MB)\n",
              "</pre>\n"
            ],
            "text/plain": [
              "\u001b[1m Trainable params: \u001b[0m\u001b[38;5;34m1,296,001\u001b[0m (4.94 MB)\n"
            ]
          },
          "metadata": {},
          "output_type": "display_data"
        },
        {
          "data": {
            "text/html": [
              "<pre style=\"white-space:pre;overflow-x:auto;line-height:normal;font-family:Menlo,'DejaVu Sans Mono',consolas,'Courier New',monospace\"><span style=\"font-weight: bold\"> Non-trainable params: </span><span style=\"color: #00af00; text-decoration-color: #00af00\">0</span> (0.00 B)\n",
              "</pre>\n"
            ],
            "text/plain": [
              "\u001b[1m Non-trainable params: \u001b[0m\u001b[38;5;34m0\u001b[0m (0.00 B)\n"
            ]
          },
          "metadata": {},
          "output_type": "display_data"
        }
      ],
      "source": [
        "cnn_model = build_cnn_smiles_model(max_characters, vocab_size_drug1, vocab_size_drug2, genomic_features_size)\n",
        "cnn_model.summary()"
      ]
    },
    {
      "cell_type": "code",
      "execution_count": null,
      "metadata": {
        "id": "6kwPYthjLN1c"
      },
      "outputs": [
        {
          "name": "stdout",
          "output_type": "stream",
          "text": [
            "Epoch 1/100\n",
            "\u001b[1m101/101\u001b[0m \u001b[32m━━━━━━━━━━━━━━━━━━━━\u001b[0m\u001b[37m\u001b[0m \u001b[1m24s\u001b[0m 151ms/step - loss: 1.5540 - mae: 0.8857 - mse: 1.5540 - val_loss: 1.0493 - val_mae: 0.6424 - val_mse: 1.0493\n",
            "Epoch 2/100\n",
            "\u001b[1m101/101\u001b[0m \u001b[32m━━━━━━━━━━━━━━━━━━━━\u001b[0m\u001b[37m\u001b[0m \u001b[1m12s\u001b[0m 114ms/step - loss: 0.7693 - mae: 0.5832 - mse: 0.7693 - val_loss: 1.1238 - val_mae: 0.6793 - val_mse: 1.1238\n",
            "Epoch 3/100\n",
            "\u001b[1m101/101\u001b[0m \u001b[32m━━━━━━━━━━━━━━━━━━━━\u001b[0m\u001b[37m\u001b[0m \u001b[1m10s\u001b[0m 94ms/step - loss: 0.6867 - mae: 0.5468 - mse: 0.6867 - val_loss: 1.1802 - val_mae: 0.7086 - val_mse: 1.1802\n",
            "Epoch 4/100\n",
            "\u001b[1m101/101\u001b[0m \u001b[32m━━━━━━━━━━━━━━━━━━━━\u001b[0m\u001b[37m\u001b[0m \u001b[1m11s\u001b[0m 110ms/step - loss: 0.6385 - mae: 0.5287 - mse: 0.6385 - val_loss: 1.2157 - val_mae: 0.7268 - val_mse: 1.2157\n",
            "Epoch 5/100\n",
            "\u001b[1m101/101\u001b[0m \u001b[32m━━━━━━━━━━━━━━━━━━━━\u001b[0m\u001b[37m\u001b[0m \u001b[1m9s\u001b[0m 93ms/step - loss: 0.5951 - mae: 0.5074 - mse: 0.5951 - val_loss: 1.3058 - val_mae: 0.7632 - val_mse: 1.3058\n",
            "Epoch 6/100\n",
            "\u001b[1m101/101\u001b[0m \u001b[32m━━━━━━━━━━━━━━━━━━━━\u001b[0m\u001b[37m\u001b[0m \u001b[1m10s\u001b[0m 103ms/step - loss: 0.5711 - mae: 0.5034 - mse: 0.5711 - val_loss: 1.1567 - val_mae: 0.7014 - val_mse: 1.1567\n"
          ]
        },
        {
          "data": {
            "text/plain": [
              "<keras.src.callbacks.history.History at 0x288194f0f20>"
            ]
          },
          "execution_count": 42,
          "metadata": {},
          "output_type": "execute_result"
        }
      ],
      "source": [
        "# Define callbacks\n",
        "early_stopping = EarlyStopping(monitor='val_loss', patience=5, mode='min')\n",
        "model_checkpoint = ModelCheckpoint(filepath='best_model_cnn.keras', monitor='val_loss', save_best_only=True)\n",
        "\n",
        "cnn_model.fit([x_train_drug1, x_train_drug2, genomic_features_train], y_train, validation_split=0.3, epochs=100, batch_size=128,\n",
        "          callbacks=[model_checkpoint, early_stopping])"
      ]
    },
    {
      "cell_type": "code",
      "execution_count": null,
      "metadata": {
        "id": "1ZKqaF8lMDQh"
      },
      "outputs": [
        {
          "data": {
            "image/png": "[encoded data removed]",
            "text/plain": [
              "<Figure size 640x480 with 1 Axes>"
            ]
          },
          "metadata": {},
          "output_type": "display_data"
        }
      ],
      "source": [
        "# Plot the loss and accuracy curves for training and validation\n",
        "plt.plot(cnn_model.history.history['loss'], color='b', label=\"training loss\")\n",
        "plt.plot(cnn_model.history.history['val_loss'], color='r', label=\"validation loss\")\n",
        "plt.legend(loc='best', shadow=True)\n",
        "plt.xlabel('epochs')\n",
        "plt.ylabel('loss')\n",
        "plt.title('Loss Curves for Training and Validation Sets during training')\n",
        "plt.show()"
      ]
    },
    {
      "cell_type": "markdown",
      "metadata": {},
      "source": [
        "Like in the RNN, the CNN also resulted likely in overfitting."
      ]
    },
    {
      "cell_type": "code",
      "execution_count": null,
      "metadata": {
        "id": "HveYJHtBMG45"
      },
      "outputs": [
        {
          "name": "stdout",
          "output_type": "stream",
          "text": [
            "\u001b[1m145/145\u001b[0m \u001b[32m━━━━━━━━━━━━━━━━━━━━\u001b[0m\u001b[37m\u001b[0m \u001b[1m2s\u001b[0m 10ms/step - loss: 0.7850 - mae: 0.5750 - mse: 0.7850\n"
          ]
        },
        {
          "data": {
            "text/plain": [
              "(0.8755580186843872, 0.8755580186843872, 0.6071878671646118)"
            ]
          },
          "execution_count": 44,
          "metadata": {},
          "output_type": "execute_result"
        }
      ],
      "source": [
        "# Load the best model\n",
        "cnn_model = keras.models.load_model('best_model_cnn.keras')\n",
        "loss, mse, mae = cnn_model.evaluate([x_test_drug1, x_test_drug2, genomic_features_test], y_test)\n",
        "loss, mse, mae"
      ]
    },
    {
      "cell_type": "markdown",
      "metadata": {},
      "source": [
        "The same can be said for the CNN with MSE value of (0.780) way higher than the literature (255.49)."
      ]
    },
    {
      "cell_type": "code",
      "execution_count": null,
      "metadata": {},
      "outputs": [
        {
          "name": "stdout",
          "output_type": "stream",
          "text": [
            "\u001b[1m145/145\u001b[0m \u001b[32m━━━━━━━━━━━━━━━━━━━━\u001b[0m\u001b[37m\u001b[0m \u001b[1m1s\u001b[0m 8ms/step\n"
          ]
        },
        {
          "data": {
            "image/png": "[encoded data removed]",
            "text/plain": [
              "<Figure size 640x480 with 1 Axes>"
            ]
          },
          "metadata": {},
          "output_type": "display_data"
        }
      ],
      "source": [
        "# plot the predicted vs. true y values\n",
        "y_pred = cnn_model.predict([x_test_drug1, x_test_drug2, genomic_features_test])\n",
        "plt.scatter(y_test, y_pred, alpha=0.3)\n",
        "plt.plot([-1, 5], [-1, 5], color='red', linestyle='-', linewidth=2)\n",
        "plt.xlabel('True y')\n",
        "plt.ylabel('Predicted y')\n",
        "plt.xlim(-2, 5)\n",
        "plt.show()"
      ]
    },
    {
      "cell_type": "code",
      "execution_count": 48,
      "metadata": {},
      "outputs": [],
      "source": [
        "# save the model\n",
        "cnn_model.save('cnn_model.keras')"
      ]
    },
    {
      "cell_type": "markdown",
      "metadata": {},
      "source": [
        "General conclusions:\n",
        "\n",
        "Our results were substantially worse when compared with literature, which indicates that these models have potential, and would benefit from an optimization.\n",
        "\n",
        "Our data as a very high number of features (more than 8000) which introduces complexity to the models and often leads to overfitting. More preprocessing such as feature reduction or selection would be a means to try to solve this issue.\n",
        "\n",
        "Another problem could be the very different data that is being used to train the models, since we are mixing in the same neural network tokenized smiles and genomic features/descriptors, that have a very different data structure, which can make the models struggle to learn effectively, leading to higher loss values."
      ]
    },
    {
      "cell_type": "markdown",
      "metadata": {},
      "source": [
        "## References\n",
        "\n",
        "[https://academic.oup.com/bioinformatics/article/34/9/1538/4747884?login=false](https://academic.oup.com/bioinformatics/article/34/9/1538/4747884?login=false)\n",
        "\n",
        "[2]\tK. Preuer, R. P. I. Lewis, S. Hochreiter, A. Bender, K. C. Bulusu, and G. Klambauer, “DeepSynergy: predicting anti-cancer drug synergy with Deep Learning,” Bioinformatics, vol. 34, no. 9, pp. 1538–1546, May 2018, doi: 10.1093/bioinformatics/btx806\n"
      ]
    }
  ],
  "metadata": {
    "colab": {
      "provenance": []
    },
    "kernelspec": {
      "display_name": "si_tp",
      "language": "python",
      "name": "python3"
    },
    "language_info": {
      "codemirror_mode": {
        "name": "ipython",
        "version": 3
      },
      "file_extension": ".py",
      "mimetype": "text/x-python",
      "name": "python",
      "nbconvert_exporter": "python",
      "pygments_lexer": "ipython3",
      "version": "3.12.7"
    }
  },
  "nbformat": 4,
  "nbformat_minor": 0
}
