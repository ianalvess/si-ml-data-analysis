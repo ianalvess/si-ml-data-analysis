{
 "cells": [
  {
   "cell_type": "markdown",
   "id": "ee51e72d-ecec-44c7-b49f-2d89056ade2e",
   "metadata": {},
   "source": [
    "# Drug Synergy Prediction Task\n",
    "\n",
    "**Definition:** Synergy is a dimensionless measure of deviation of an observed drug combination response from the expected effect of non-interaction. Synergy can be calculated using different models such as the Bliss model, Highest Single Agent (HSA), Loewe additivity model and Zero Interaction Potency (ZIP). Another relevant metric is CSS which measures the drug combination sensitivity and is derived using relative IC50 values of compounds and the area under their dose- response curves.\n",
    "\n",
    "**Impact:** Drug combination therapy offers enormous potential for expanding the use of existing drugs and in improving their efficacy. For instance, the simultaneous modulation of multiple targets can address the common mechanisms of drug resistance in the treatment of cancers. However, experimentally exploring the entire space of possible drug combinations is not a feasible task. Computational models that can predict the therapeutic potential of drug combinations can thus be immensely valuable in guiding this exploration.\n",
    "\n",
    "**Generalization:** It is important for model predictions to be able to adapt to varying underlying biology as captured through different cell lines drawn from multiple tissues of origin. Dosage is also an important factor that can impact model generalizability.\n",
    "\n",
    "**Product:** Small-molecule.\n",
    "\n",
    "**Pipeline:** Activity."
   ]
  },
  {
   "cell_type": "code",
   "execution_count": 1,
   "id": "738f7409-5853-4fb1-bf7e-a3790de904b8",
   "metadata": {},
   "outputs": [],
   "source": [
    "import pandas as pd\n",
    "import numpy as np"
   ]
  },
  {
   "cell_type": "code",
   "execution_count": 2,
   "id": "9efb05b0-f84d-4c60-8283-42607a1995ff",
   "metadata": {},
   "outputs": [
    {
     "name": "stderr",
     "output_type": "stream",
     "text": [
      "Found local copy...\n",
      "Loading...\n",
      "Done!\n"
     ]
    }
   ],
   "source": [
    "# Dataset Split\n",
    "from tdc.multi_pred import DrugSyn\n",
    "data = DrugSyn(name = 'OncoPolyPharmacology')\n",
    "split = data.get_split()"
   ]
  },
  {
   "cell_type": "code",
   "execution_count": 4,
   "id": "ba428338-e953-413f-ae38-cce5c697f1cf",
   "metadata": {},
   "outputs": [
    {
     "data": {
      "text/html": [
       "<div>\n",
       "<style scoped>\n",
       "    .dataframe tbody tr th:only-of-type {\n",
       "        vertical-align: middle;\n",
       "    }\n",
       "\n",
       "    .dataframe tbody tr th {\n",
       "        vertical-align: top;\n",
       "    }\n",
       "\n",
       "    .dataframe thead th {\n",
       "        text-align: right;\n",
       "    }\n",
       "</style>\n",
       "<table border=\"1\" class=\"dataframe\">\n",
       "  <thead>\n",
       "    <tr style=\"text-align: right;\">\n",
       "      <th></th>\n",
       "      <th>Drug1_ID</th>\n",
       "      <th>Drug2_ID</th>\n",
       "      <th>Cell_Line_ID</th>\n",
       "      <th>Y</th>\n",
       "      <th>Cell_Line</th>\n",
       "      <th>Drug1</th>\n",
       "      <th>Drug2</th>\n",
       "    </tr>\n",
       "  </thead>\n",
       "  <tbody>\n",
       "    <tr>\n",
       "      <th>0</th>\n",
       "      <td>5-FU</td>\n",
       "      <td>ABT-888</td>\n",
       "      <td>A2058</td>\n",
       "      <td>7.693530</td>\n",
       "      <td>[5.291146039856301, 5.040386719464342, 5.29114...</td>\n",
       "      <td>O=c1[nH]cc(F)c(=O)[nH]1</td>\n",
       "      <td>CC1(c2nc3c(C(N)=O)cccc3[nH]2)CCCN1</td>\n",
       "    </tr>\n",
       "    <tr>\n",
       "      <th>1</th>\n",
       "      <td>5-FU</td>\n",
       "      <td>ABT-888</td>\n",
       "      <td>A2780</td>\n",
       "      <td>7.778053</td>\n",
       "      <td>[5.291146039856301, 5.040386719464342, 5.29114...</td>\n",
       "      <td>O=c1[nH]cc(F)c(=O)[nH]1</td>\n",
       "      <td>CC1(c2nc3c(C(N)=O)cccc3[nH]2)CCCN1</td>\n",
       "    </tr>\n",
       "    <tr>\n",
       "      <th>2</th>\n",
       "      <td>5-FU</td>\n",
       "      <td>ABT-888</td>\n",
       "      <td>A375</td>\n",
       "      <td>-1.198505</td>\n",
       "      <td>[5.291146039856301, 5.040386719464342, 5.29114...</td>\n",
       "      <td>O=c1[nH]cc(F)c(=O)[nH]1</td>\n",
       "      <td>CC1(c2nc3c(C(N)=O)cccc3[nH]2)CCCN1</td>\n",
       "    </tr>\n",
       "    <tr>\n",
       "      <th>3</th>\n",
       "      <td>5-FU</td>\n",
       "      <td>ABT-888</td>\n",
       "      <td>A427</td>\n",
       "      <td>2.595684</td>\n",
       "      <td>[5.291146039856301, 5.040386719464342, 5.29114...</td>\n",
       "      <td>O=c1[nH]cc(F)c(=O)[nH]1</td>\n",
       "      <td>CC1(c2nc3c(C(N)=O)cccc3[nH]2)CCCN1</td>\n",
       "    </tr>\n",
       "    <tr>\n",
       "      <th>4</th>\n",
       "      <td>5-FU</td>\n",
       "      <td>ABT-888</td>\n",
       "      <td>CAOV3</td>\n",
       "      <td>-5.139971</td>\n",
       "      <td>[5.291146039856301, 5.040386719464342, 5.29114...</td>\n",
       "      <td>O=c1[nH]cc(F)c(=O)[nH]1</td>\n",
       "      <td>CC1(c2nc3c(C(N)=O)cccc3[nH]2)CCCN1</td>\n",
       "    </tr>\n",
       "  </tbody>\n",
       "</table>\n",
       "</div>"
      ],
      "text/plain": [
       "  Drug1_ID Drug2_ID Cell_Line_ID         Y  \\\n",
       "0     5-FU  ABT-888        A2058  7.693530   \n",
       "1     5-FU  ABT-888        A2780  7.778053   \n",
       "2     5-FU  ABT-888         A375 -1.198505   \n",
       "3     5-FU  ABT-888         A427  2.595684   \n",
       "4     5-FU  ABT-888        CAOV3 -5.139971   \n",
       "\n",
       "                                           Cell_Line                    Drug1  \\\n",
       "0  [5.291146039856301, 5.040386719464342, 5.29114...  O=c1[nH]cc(F)c(=O)[nH]1   \n",
       "1  [5.291146039856301, 5.040386719464342, 5.29114...  O=c1[nH]cc(F)c(=O)[nH]1   \n",
       "2  [5.291146039856301, 5.040386719464342, 5.29114...  O=c1[nH]cc(F)c(=O)[nH]1   \n",
       "3  [5.291146039856301, 5.040386719464342, 5.29114...  O=c1[nH]cc(F)c(=O)[nH]1   \n",
       "4  [5.291146039856301, 5.040386719464342, 5.29114...  O=c1[nH]cc(F)c(=O)[nH]1   \n",
       "\n",
       "                                Drug2  \n",
       "0  CC1(c2nc3c(C(N)=O)cccc3[nH]2)CCCN1  \n",
       "1  CC1(c2nc3c(C(N)=O)cccc3[nH]2)CCCN1  \n",
       "2  CC1(c2nc3c(C(N)=O)cccc3[nH]2)CCCN1  \n",
       "3  CC1(c2nc3c(C(N)=O)cccc3[nH]2)CCCN1  \n",
       "4  CC1(c2nc3c(C(N)=O)cccc3[nH]2)CCCN1  "
      ]
     },
     "execution_count": 4,
     "metadata": {},
     "output_type": "execute_result"
    }
   ],
   "source": [
    "# Get the complete dataframe of the data before performing get_split()\n",
    "df = pd.DataFrame(data.get_data())\n",
    "df.head() # Show the first 5 columns of the dataframe"
   ]
  },
  {
   "cell_type": "markdown",
   "id": "e1e6ff11-bd61-42f6-b569-3bc02797f24b",
   "metadata": {},
   "source": [
    "# 1. Initial exploration and pre-processing\n",
    "Review all available documentation about the dataset.\n",
    "\n",
    "\n",
    "Load the dataset and perform an exploratory analysis of it.\n",
    "\n",
    "\n",
    "Perform the necessary steps for data preparation and preprocessing, including possibly generating features, selecting them, handling any missing values, etc.\n",
    "## Goals:\n",
    "Describe and characterize the assigned data according to the available documentation/literature;\n",
    "\n",
    "\n",
    "Describe the characteristics of the available data based on the initial exploratory analysis;\n",
    "\n",
    "\n",
    "Describe the steps taken for data preparation and preprocessing, justifying the choices;\n",
    "\n",
    "\n",
    "Include initial exploratory graphs that illustrate the mains characteristics of the data."
   ]
  },
  {
   "cell_type": "code",
   "execution_count": 7,
   "id": "932aaf7e-2635-4e21-abe2-b2524d3d080c",
   "metadata": {},
   "outputs": [
    {
     "name": "stdout",
     "output_type": "stream",
     "text": [
      "Informações do DataFrame:\n",
      "<class 'pandas.core.frame.DataFrame'>\n",
      "RangeIndex: 23052 entries, 0 to 23051\n",
      "Data columns (total 7 columns):\n",
      " #   Column        Non-Null Count  Dtype  \n",
      "---  ------        --------------  -----  \n",
      " 0   Drug1_ID      23052 non-null  object \n",
      " 1   Drug2_ID      23052 non-null  object \n",
      " 2   Cell_Line_ID  23052 non-null  object \n",
      " 3   Y             23052 non-null  float64\n",
      " 4   Cell_Line     23052 non-null  object \n",
      " 5   Drug1         23052 non-null  object \n",
      " 6   Drug2         23052 non-null  object \n",
      "dtypes: float64(1), object(6)\n",
      "memory usage: 1.2+ MB\n",
      "None\n"
     ]
    }
   ],
   "source": [
    "# Informações básicas do DataFrame\n",
    "print(\"Informações do DataFrame:\")\n",
    "print(df.info())"
   ]
  },
  {
   "cell_type": "code",
   "execution_count": 9,
   "id": "d4fc7379-334e-4ddc-8b4c-5ed85e168974",
   "metadata": {},
   "outputs": [
    {
     "name": "stdout",
     "output_type": "stream",
     "text": [
      "Estatísticas descritivas para Y:\n",
      "count    23052.000000\n",
      "mean         5.142358\n",
      "std         22.891334\n",
      "min       -326.464304\n",
      "25%         -5.544595\n",
      "50%          4.377490\n",
      "75%         15.077193\n",
      "max        179.123325\n",
      "Name: Y, dtype: float64\n"
     ]
    }
   ],
   "source": [
    "# Estatísticas descritivas para a variável Y\n",
    "print(\"Estatísticas descritivas para Y:\")\n",
    "print(df['Y'].describe())"
   ]
  },
  {
   "cell_type": "code",
   "execution_count": 23,
   "id": "f284b3c9-086a-4d31-9384-c618ed19dcb8",
   "metadata": {},
   "outputs": [
    {
     "name": "stdout",
     "output_type": "stream",
     "text": [
      "Number of unique values in each column (excluding Cell_Line):\n",
      "Drug1_ID           37\n",
      "Drug2_ID           37\n",
      "Cell_Line_ID       39\n",
      "Y               23052\n",
      "Drug1              37\n",
      "Drug2              37\n",
      "dtype: int64\n"
     ]
    }
   ],
   "source": [
    "# Exclude the Cell_Line column and calculate nunique for the rest\n",
    "unique_values = df.drop(columns=['Cell_Line']).nunique()\n",
    "print(\"Number of unique values in each column (excluding Cell_Line):\")\n",
    "print(unique_values)\n",
    "\n",
    "# Por enquanto, estamos a ver os valores únicos de cada coluna EXCEPTO da coluna Cell_Line, isto porque ele contém numpy.ndarrays, \n",
    "# ao qual o comando nunique() não consegue interpretar neste momento. Até arranjarmos uma solução ou alternativa, continuamos a excluir esta coluna."
   ]
  },
  {
   "cell_type": "code",
   "execution_count": 25,
   "id": "9793944d-5082-409b-a7c0-36ac10ad9b4c",
   "metadata": {},
   "outputs": [
    {
     "name": "stdout",
     "output_type": "stream",
     "text": [
      "Valores ausentes por coluna:\n",
      "Drug1_ID        0\n",
      "Drug2_ID        0\n",
      "Cell_Line_ID    0\n",
      "Y               0\n",
      "Cell_Line       0\n",
      "Drug1           0\n",
      "Drug2           0\n",
      "dtype: int64\n"
     ]
    }
   ],
   "source": [
    "# Verificar valores ausentes\n",
    "print(\"Valores ausentes por coluna:\")\n",
    "print(df.isnull().sum())"
   ]
  },
  {
   "cell_type": "code",
   "execution_count": null,
   "id": "410ead8e-f747-4966-aa06-ed486724e3d9",
   "metadata": {},
   "outputs": [
    {
     "name": "stdout",
     "output_type": "stream",
     "text": [
      "Unique values in Drug1_ID:\n",
      "Drug1_ID\n",
      "MRK-003             1449\n",
      "MK-4541             1443\n",
      "L778123             1005\n",
      "ZOLINZA              858\n",
      "SUNITINIB            795\n",
      "MITOMYCINE           795\n",
      "5-FU                 795\n",
      "METHOTREXATE         780\n",
      "DEXAMETHASONE        780\n",
      "DOXORUBICIN          780\n",
      "VINBLASTINE          780\n",
      "CYCLOPHOSPHAMIDE     780\n",
      "METFORMIN            780\n",
      "CARBOPLATIN          780\n",
      "PACLITAXEL           780\n",
      "TEMOZOLOMIDE         771\n",
      "AZD1775              747\n",
      "VINORELBINE          741\n",
      "ETOPOSIDE            741\n",
      "GEMCITABINE          732\n",
      "LAPATINIB            678\n",
      "MK-5108              624\n",
      "MK-4827              615\n",
      "MK-2206              576\n",
      "ERLOTINIB            507\n",
      "PD325901             468\n",
      "BORTEZOMIB           429\n",
      "DASATINIB            405\n",
      "ABT-888              351\n",
      "MK-8669              312\n",
      "GELDANAMYCIN         273\n",
      "BEZ-235              195\n",
      "TOPOTECAN            156\n",
      "OXALIPLATIN          117\n",
      "SN-38                117\n",
      "SORAFENIB             78\n",
      "DINACICLIB            39\n",
      "Name: count, dtype: int64\n",
      "\n",
      "Unique values in Drug2_ID:\n",
      "Drug2_ID\n",
      "MK-8776             1548\n",
      "DINACICLIB          1404\n",
      "SORAFENIB           1365\n",
      "BEZ-235             1263\n",
      "GELDANAMYCIN        1170\n",
      "MK-8669             1161\n",
      "ABT-888             1092\n",
      "DASATINIB           1068\n",
      "BORTEZOMIB          1014\n",
      "PD325901             975\n",
      "ERLOTINIB            951\n",
      "MK-2206              927\n",
      "MK-4827              873\n",
      "MK-5108              819\n",
      "LAPATINIB            795\n",
      "AZD1775              771\n",
      "SN-38                756\n",
      "OXALIPLATIN          741\n",
      "TOPOTECAN            702\n",
      "TEMOZOLOMIDE         702\n",
      "SUNITINIB            678\n",
      "ZOLINZA              585\n",
      "L778123              468\n",
      "GEMCITABINE          156\n",
      "ETOPOSIDE            117\n",
      "VINORELBINE          117\n",
      "VINBLASTINE           93\n",
      "CARBOPLATIN           78\n",
      "5-FU                  78\n",
      "DEXAMETHASONE         78\n",
      "DOXORUBICIN           78\n",
      "METFORMIN             78\n",
      "METHOTREXATE          78\n",
      "MITOMYCINE            78\n",
      "PACLITAXEL            78\n",
      "CYCLOPHOSPHAMIDE      78\n",
      "MRK-003               39\n",
      "Name: count, dtype: int64\n",
      "\n",
      "Unique values in Cell_Line_ID:\n",
      "Cell_Line_ID\n",
      "A2058           604\n",
      "HCT116          604\n",
      "SW620           604\n",
      "PA1             604\n",
      "NCIH2122        604\n",
      "NCIH1650        604\n",
      "LOVO            604\n",
      "HT29            604\n",
      "NCIH23          604\n",
      "ES2             604\n",
      "CAOV3           604\n",
      "A375            604\n",
      "COLO320DM       604\n",
      "EFM192B         604\n",
      "A427            604\n",
      "UWB1289         583\n",
      "UWB1289BRCA1    583\n",
      "UACC62          583\n",
      "T47D            583\n",
      "RKO             583\n",
      "VCAP            583\n",
      "SW837           583\n",
      "SKOV3           583\n",
      "SKMES1          583\n",
      "SKMEL30         583\n",
      "RPMI7951        583\n",
      "OVCAR3          583\n",
      "HT144           583\n",
      "OV90            583\n",
      "OCUBM           583\n",
      "NCIH520         583\n",
      "NCIH460         583\n",
      "A2780           583\n",
      "MSTO            583\n",
      "MDAMB436        583\n",
      "DLD1            583\n",
      "LNCAP           583\n",
      "KPL1            583\n",
      "ZR751           583\n",
      "Name: count, dtype: int64\n",
      "\n",
      "Unique values in Cell_Line:\n"
     ]
    }
   ],
   "source": [
    "# Check unique values in categorical columns\n",
    "categorical_columns = df.select_dtypes(include=['object']).columns\n",
    "for col in categorical_columns:\n",
    "    print(f\"Unique values in {col}:\")\n",
    "    print(df[col].value_counts())\n",
    "    print()"
   ]
  },
  {
   "cell_type": "markdown",
   "id": "27913432-e971-4352-8674-6b6071eb3e53",
   "metadata": {},
   "source": [
    "# Códigos a partir daqui não estão adaptados ao dataset atualmente!\n",
    "Estes código não conseguem correr, precisamos de atualizar a lógica para condizer o nosso dataframe!"
   ]
  },
  {
   "cell_type": "code",
   "execution_count": null,
   "id": "7af302d3-bf64-4300-adc7-ad8c3e2af72e",
   "metadata": {
    "scrolled": true
   },
   "outputs": [],
   "source": [
    "# Boxplots for detecting outliers in numerical features\n",
    "for col in numerical_columns:\n",
    "    plt.figure(figsize=(8, 4))\n",
    "    sns.boxplot(data=df, x=col, color='orange')\n",
    "    plt.title(f\"Boxplot of {col}\")\n",
    "    plt.show()"
   ]
  },
  {
   "cell_type": "code",
   "execution_count": null,
   "id": "a4053c35-1f25-4351-a183-b70d6c225361",
   "metadata": {},
   "outputs": [],
   "source": [
    "import seaborn as sns\n",
    "import matplotlib.pyplot as plt\n",
    "\n",
    "plt.figure(figsize=(10, 6))\n",
    "sns.histplot(df['Y'], bins=15, kde=True, color='blue', alpha=0.6)\n",
    "sns.kdeplot(df['Y'], bw_adjust=1.2, color='red', linestyle='--', label='KDE ajustado')\n",
    "plt.axvline(df['Y'].mean(), color='green', linestyle='--', label='Média')\n",
    "plt.title('Distribuição da variável Y', fontsize=14)\n",
    "plt.xlabel('Y', fontsize=12)\n",
    "plt.ylabel('Frequência', fontsize=12)\n",
    "plt.legend()\n",
    "plt.grid(alpha=0.3)\n",
    "plt.show()"
   ]
  },
  {
   "cell_type": "code",
   "execution_count": 102,
   "id": "f03cebb4-c674-446d-96ed-3eafd90b2d9f",
   "metadata": {},
   "outputs": [
    {
     "data": {
      "image/png": "[encoded data removed]",
      "text/plain": [
       "<Figure size 1000x600 with 1 Axes>"
      ]
     },
     "metadata": {},
     "output_type": "display_data"
    }
   ],
   "source": [
    "import matplotlib.pyplot as plt\n",
    "import seaborn as sns\n",
    "\n",
    "# Aplicar K-Means com 5 clusters\n",
    "kmeans = KMeans(n_clusters=5, random_state=42)\n",
    "df['Cluster'] = kmeans.fit_predict(df[['Y']])\n",
    "\n",
    "# Agregar a média de Y por cluster\n",
    "df_clustered = df.groupby('Cluster')['Y'].mean().reset_index()\n",
    "\n",
    "# Criar gráfico de barras\n",
    "plt.figure(figsize=(10, 6))\n",
    "sns.barplot(data=df_clustered, x='Cluster', y='Y', palette='viridis')\n",
    "\n",
    "# Personalizar o gráfico\n",
    "plt.title('Média de Y por Cluster')\n",
    "plt.xlabel('Cluster')\n",
    "plt.ylabel('Média de Y')\n",
    "plt.show()\n"
   ]
  },
  {
   "cell_type": "code",
   "execution_count": 103,
   "id": "505462ce-1577-45bf-9955-2bb5bdd95f62",
   "metadata": {
    "scrolled": true
   },
   "outputs": [
    {
     "name": "stdout",
     "output_type": "stream",
     "text": [
      "Centros dos Clusters:\n"
     ]
    },
    {
     "data": {
      "text/plain": [
       "array([[1.17892378e-07],\n",
       "       [2.00000000e-04],\n",
       "       [9.09000000e-05],\n",
       "       [3.20000000e-05],\n",
       "       [5.43416667e-06]])"
      ]
     },
     "execution_count": 103,
     "metadata": {},
     "output_type": "execute_result"
    }
   ],
   "source": [
    "# Exibindo as coordenadas dos centros dos clusters\n",
    "print(\"Centros dos Clusters:\")\n",
    "kmeans.cluster_centers_"
   ]
  },
  {
   "cell_type": "code",
   "execution_count": 104,
   "id": "46032e3e-7f99-459b-b269-7a64190f2256",
   "metadata": {},
   "outputs": [
    {
     "name": "stdout",
     "output_type": "stream",
     "text": [
      "Contagem de amostras por cluster:\n"
     ]
    },
    {
     "data": {
      "text/plain": [
       "Cluster\n",
       "0    329\n",
       "4     12\n",
       "3      2\n",
       "1      1\n",
       "2      1\n",
       "Name: count, dtype: int64"
      ]
     },
     "execution_count": 104,
     "metadata": {},
     "output_type": "execute_result"
    }
   ],
   "source": [
    "# Exibindo as contagens de cada cluster\n",
    "print(\"Contagem de amostras por cluster:\")\n",
    "df['Cluster'].value_counts()"
   ]
  },
  {
   "cell_type": "code",
   "execution_count": 105,
   "id": "a468b59c-17ca-4686-968f-909e81111f3e",
   "metadata": {},
   "outputs": [
    {
     "name": "stdout",
     "output_type": "stream",
     "text": [
      "Tamanho dos dados de treino: (276, 200)\n",
      "Tamanho dos dados de teste: (69, 200)\n"
     ]
    }
   ],
   "source": [
    "from sklearn.model_selection import train_test_split\n",
    "from sklearn.feature_extraction.text import TfidfVectorizer\n",
    "\n",
    "# Vetorizar as sequências de proteínas dos anticorpos e antígenos\n",
    "vectorizer = TfidfVectorizer(max_features=100)  # Podemos ajustar max_features conforme necessário\n",
    "\n",
    "# Transformando as sequências de anticorpos e antígenos em características numéricas\n",
    "X_antibody = vectorizer.fit_transform(df['Antibody'].astype(str))  # Convertendo para string caso haja valores nulos\n",
    "X_antigen = vectorizer.fit_transform(df['Antigen'].astype(str))\n",
    "\n",
    "# Concatenar as duas matrizes de recursos (anticorpo e antígeno)\n",
    "from scipy.sparse import hstack\n",
    "X_combined = hstack([X_antibody, X_antigen])\n",
    "\n",
    "# Definir a variável alvo (y) - pode ser Y ou Y_normalized\n",
    "y = df['Y_normalized']  # Ou df['Y'], dependendo da sua escolha\n",
    "\n",
    "# Dividir os dados em treino e teste (80% treino e 20% teste)\n",
    "X_train, X_test, y_train, y_test = train_test_split(X_combined, y, test_size=0.2, random_state=42)\n",
    "\n",
    "print(f\"Tamanho dos dados de treino: {X_train.shape}\")\n",
    "print(f\"Tamanho dos dados de teste: {X_test.shape}\")\n"
   ]
  },
  {
   "cell_type": "code",
   "execution_count": 106,
   "id": "1a3c6431-7794-4f62-90ca-a0f0944f4507",
   "metadata": {},
   "outputs": [
    {
     "name": "stdout",
     "output_type": "stream",
     "text": [
      "Mean Squared Error: 0.015197902342812002\n"
     ]
    }
   ],
   "source": [
    "from sklearn.linear_model import LinearRegression\n",
    "from sklearn.metrics import mean_squared_error\n",
    "\n",
    "# Inicializando o modelo de Regressão Linear\n",
    "model = LinearRegression()\n",
    "\n",
    "# Treinando o modelo com os dados de treino\n",
    "model.fit(X_train, y_train)\n",
    "\n",
    "# Prevendo os valores com os dados de teste\n",
    "y_pred = model.predict(X_test)\n",
    "\n",
    "# Calculando o erro quadrático médio (MSE)\n",
    "mse = mean_squared_error(y_test, y_pred)\n",
    "print(f\"Mean Squared Error: {mse}\")\n"
   ]
  },
  {
   "cell_type": "code",
   "execution_count": 107,
   "id": "7561f60d-7196-4dcd-a85b-f4dc54b912e6",
   "metadata": {},
   "outputs": [
    {
     "name": "stdout",
     "output_type": "stream",
     "text": [
      "Random Forest Mean Squared Error: 0.015227306961348325\n"
     ]
    }
   ],
   "source": [
    "from sklearn.ensemble import RandomForestRegressor\n",
    "\n",
    "# Inicializando o modelo de Random Forest\n",
    "rf_model = RandomForestRegressor(n_estimators=100, random_state=42)\n",
    "\n",
    "# Treinando o modelo\n",
    "rf_model.fit(X_train, y_train)\n",
    "\n",
    "# Fazendo predições\n",
    "y_pred_rf = rf_model.predict(X_test)\n",
    "\n",
    "# Calculando o erro quadrático médio (MSE)\n",
    "mse_rf = mean_squared_error(y_test, y_pred_rf)\n",
    "print(f\"Random Forest Mean Squared Error: {mse_rf}\")\n"
   ]
  },
  {
   "cell_type": "code",
   "execution_count": 108,
   "id": "4f7f0533-fd5b-4fa2-b92f-3b719f737b88",
   "metadata": {},
   "outputs": [
    {
     "name": "stdout",
     "output_type": "stream",
     "text": [
      "Gradient Boosting Mean Squared Error: 0.015252175965101207\n"
     ]
    }
   ],
   "source": [
    "from sklearn.ensemble import GradientBoostingRegressor\n",
    "\n",
    "# Inicializando o modelo de Gradient Boosting\n",
    "gb_model = GradientBoostingRegressor(n_estimators=100, random_state=42)\n",
    "\n",
    "# Treinando o modelo\n",
    "gb_model.fit(X_train, y_train)\n",
    "\n",
    "# Fazendo predições\n",
    "y_pred_gb = gb_model.predict(X_test)\n",
    "\n",
    "# Calculando o erro quadrático médio (MSE)\n",
    "mse_gb = mean_squared_error(y_test, y_pred_gb)\n",
    "print(f\"Gradient Boosting Mean Squared Error: {mse_gb}\")\n"
   ]
  },
  {
   "cell_type": "code",
   "execution_count": 109,
   "id": "fa6d5434-54d1-43f2-9670-19dd8e723fc2",
   "metadata": {},
   "outputs": [
    {
     "name": "stdout",
     "output_type": "stream",
     "text": [
      "SVR Mean Squared Error: 0.021333705483323355\n"
     ]
    }
   ],
   "source": [
    "from sklearn.svm import SVR\n",
    "\n",
    "# Inicializando o modelo SVR\n",
    "svr_model = SVR(kernel='rbf')  # Usando kernel radial basis (RBF)\n",
    "\n",
    "# Treinando o modelo\n",
    "svr_model.fit(X_train, y_train)\n",
    "\n",
    "# Fazendo predições\n",
    "y_pred_svr = svr_model.predict(X_test)\n",
    "\n",
    "# Calculando o erro quadrático médio (MSE)\n",
    "mse_svr = mean_squared_error(y_test, y_pred_svr)\n",
    "print(f\"SVR Mean Squared Error: {mse_svr}\")\n"
   ]
  },
  {
   "cell_type": "code",
   "execution_count": 110,
   "id": "f47dbe0e-3fd7-432e-86af-d277bbfbda60",
   "metadata": {},
   "outputs": [
    {
     "name": "stdout",
     "output_type": "stream",
     "text": [
      "Decision Tree Mean Squared Error: 0.01522947468971047\n"
     ]
    }
   ],
   "source": [
    "from sklearn.tree import DecisionTreeRegressor\n",
    "\n",
    "# Inicializando o modelo de Decision Tree\n",
    "dt_model = DecisionTreeRegressor(random_state=42)\n",
    "\n",
    "# Treinando o modelo\n",
    "dt_model.fit(X_train, y_train)\n",
    "\n",
    "# Fazendo predições\n",
    "y_pred_dt = dt_model.predict(X_test)\n",
    "\n",
    "# Calculando o erro quadrático médio (MSE)\n",
    "mse_dt = mean_squared_error(y_test, y_pred_dt)\n",
    "print(f\"Decision Tree Mean Squared Error: {mse_dt}\")\n"
   ]
  },
  {
   "cell_type": "code",
   "execution_count": 111,
   "id": "455991f8-d710-4d4c-aeb2-ce06c4b49675",
   "metadata": {},
   "outputs": [
    {
     "name": "stdout",
     "output_type": "stream",
     "text": [
      "Linear Regression: 0.015197902342812002\n",
      "Random Forest: 0.015227306961348325\n",
      "Decision Tree: 0.01522947468971047\n",
      "Gradient Boosting: 0.015252175965101207\n",
      "SVR: 0.021333705483323355\n"
     ]
    }
   ],
   "source": [
    "# Resumo dos resultados\n",
    "results = {\n",
    "    'Linear Regression': mse,\n",
    "    'Random Forest': mse_rf,\n",
    "    'Gradient Boosting': mse_gb,\n",
    "    'SVR': mse_svr,\n",
    "    'Decision Tree': mse_dt,\n",
    "\n",
    "}\n",
    "\n",
    "# Exibindo os resultados ordenados\n",
    "sorted_results = sorted(results.items(), key=lambda x: x[1])\n",
    "for model, mse_value in sorted_results:\n",
    "    print(f\"{model}: {mse_value}\")\n"
   ]
  }
 ],
 "metadata": {
  "kernelspec": {
   "display_name": "Python 3 (ipykernel)",
   "language": "python",
   "name": "python3"
  },
  "language_info": {
   "codemirror_mode": {
    "name": "ipython",
    "version": 3
   },
   "file_extension": ".py",
   "mimetype": "text/x-python",
   "name": "python",
   "nbconvert_exporter": "python",
   "pygments_lexer": "ipython3",
   "version": "3.12.3"
  }
 },
 "nbformat": 4,
 "nbformat_minor": 5
}
